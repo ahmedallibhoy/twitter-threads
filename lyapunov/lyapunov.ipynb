{
 "cells": [
  {
   "cell_type": "code",
   "execution_count": 1,
   "metadata": {},
   "outputs": [],
   "source": [
    "import numpy as np \n",
    "\n",
    "from scipy.integrate import solve_ivp\n",
    "\n",
    "%matplotlib widget\n",
    "import matplotlib.pyplot as plt\n",
    "import matplotlib as mpl\n",
    "\n",
    "mpl.rcParams['text.usetex']=True\n",
    "mpl.rcParams['text.latex.preamble']=r'\\boldmath'"
   ]
  },
  {
   "cell_type": "code",
   "execution_count": 2,
   "metadata": {},
   "outputs": [],
   "source": [
    "def plot_vector_field(A, xmin=-2, xmax=2, ymin=-2, ymax=2, xstep=0.25, ystep=0.25, ax=None, **kwargs):\n",
    "    x1 = np.arange(xmin, xmax, xstep)\n",
    "    x2 = np.arange(ymin, ymax, ystep)\n",
    "\n",
    "    X1, X2 = np.meshgrid(x1, x2)\n",
    "    dX1 = A[0, 0] * X1 + A[0, 1] * X2\n",
    "    dX2 = A[1, 0] * X1 + A[1, 1] * X2\n",
    "    \n",
    "    if ax is None:\n",
    "        ax = plt.gca()\n",
    "    ax.quiver(X1, X2, dX1 / (0.001 + np.sqrt(dX1 ** 2 + dX2 ** 2)), dX2  / (0.001 + np.sqrt(dX1 ** 2 + dX2 ** 2)), headwidth=2.5, **kwargs)\n",
    "    \n",
    "    \n",
    "def plot_axes(ax=None, xmin=-1.2, xmax=1.2, xstep=0.1, ymin=-1.2, ymax=1.2, ystep=0.1):\n",
    "    if ax is None:\n",
    "        ax = plt.gca()\n",
    "    \n",
    "    x_ticks = np.arange(xmin, xmax, xstep)\n",
    "    x_ticks_major = x_ticks[x_ticks != 0]\n",
    "    y_ticks = np.arange(ymin, ymax, ystep)\n",
    "    y_ticks_major = y_ticks[y_ticks != 0]\n",
    "\n",
    "    ax.set_xticks(x_ticks_major)\n",
    "    ax.set_yticks(y_ticks_major)\n",
    "\n",
    "    labels = [item.get_text() for item in ax.get_xticklabels()]\n",
    "\n",
    "    empty_string_labels = ['']*len(labels)\n",
    "    ax.set_xticklabels(empty_string_labels)\n",
    "    labels = [item.get_text() for item in ax.get_yticklabels()]\n",
    "\n",
    "    empty_string_labels = ['']*len(labels)\n",
    "    ax.set_yticklabels(empty_string_labels)\n",
    "\n",
    "    ax.spines['left'].set_position('zero')\n",
    "    ax.spines['bottom'].set_position('zero')\n",
    "\n",
    "    # Eliminate upper and right axes\n",
    "    ax.spines['right'].set_color('none')\n",
    "    ax.spines['top'].set_color('none')\n",
    "\n",
    "    # Show ticks in the left and lower axes only\n",
    "    ax.xaxis.set_ticks_position('bottom')\n",
    "    ax.yaxis.set_ticks_position('left')\n",
    "    \n",
    "    \n",
    "def plot_ellipse(ax, P=np.eye(2), r=1.0):\n",
    "    \"\"\"\n",
    "    Plots level set of the function V(x) = x^T Px\n",
    "    \"\"\"\n",
    "    theta_range = np.arange(0, 2 * np.pi, 2 * np.pi / 1000)\n",
    "    T = np.vstack((np.cos(theta_range), np.sin(theta_range)))\n",
    "    \n",
    "    E, V = np.linalg.eig(P)\n",
    "    v1 = np.sqrt(r ** 2 / E[0]) * V[:, 0]\n",
    "    v2 = np.sqrt(r ** 2 / E[1]) * V[:, 1]\n",
    "    W = np.hstack((v1[:, np.newaxis], v2[:, np.newaxis]))\n",
    "    circ = W @ T\n",
    "    \n",
    "    ax.plot(circ[0, :], circ[1, :], c=c_blue)\n",
    "    \n",
    "\n",
    "def plot_ring_vectors(ax, A, P=np.eye(2), r=1.0, num_vectors=20):\n",
    "    \"\"\"\n",
    "    Plots vector field of \\dot{x} = Ax along the level set of the function V(x) = x^T Px\n",
    "    \"\"\"\n",
    "    \n",
    "    theta_range = np.arange(0, 2 * np.pi, 2 * np.pi / num_vectors)\n",
    "    T = np.vstack((np.cos(theta_range), np.sin(theta_range)))\n",
    "\n",
    "    E, V = np.linalg.eig(P)\n",
    "    v1 = np.sqrt(r ** 2 / E[0]) * V[:, 0]\n",
    "    v2 = np.sqrt(r ** 2 / E[1]) * V[:, 1]\n",
    "    W = np.hstack((v1[:, np.newaxis], v2[:, np.newaxis]))\n",
    "\n",
    "    circ = W @ T    \n",
    "    ax.scatter(circ[0, :], circ[1, :], c=c_blue, s=10)\n",
    "\n",
    "    for i in range(20):\n",
    "        u = circ[:, i]\n",
    "        v = A @ u\n",
    "\n",
    "        du = P @ u\n",
    "        du = du / np.linalg.norm(du)\n",
    "\n",
    "        if np.dot(v, du) < 0:\n",
    "            v = v / np.linalg.norm(v)\n",
    "            ax.arrow(u[0], u[1], 0.1 * v[0], 0.1 * v[1], \n",
    "                shape='full', lw=1, length_includes_head=False, head_width=.03, color=\"g\", zorder=10)\n",
    "        else:\n",
    "            v = v / np.linalg.norm(v)\n",
    "            ax.arrow(u[0], u[1], 0.1 * v[0], 0.1 * v[1], \n",
    "                shape='full', lw=1, length_includes_head=False, head_width=.03, color=\"r\", zorder=10)\n",
    "\n",
    "        ax.arrow(u[0], u[1], 0.1  * du[0], 0.1  * du[1], shape='full', lw=1, length_includes_head=False, head_width=.03, color=c_blue, zorder=10)"
   ]
  },
  {
   "cell_type": "code",
   "execution_count": 3,
   "metadata": {},
   "outputs": [],
   "source": [
    "c_blue = plt.rcParams['axes.prop_cycle'].by_key()['color'][0]\n",
    "c_orange = plt.rcParams['axes.prop_cycle'].by_key()['color'][1]"
   ]
  },
  {
   "cell_type": "code",
   "execution_count": 4,
   "metadata": {},
   "outputs": [
    {
     "data": {
      "application/vnd.jupyter.widget-view+json": {
       "model_id": "2601be21da714035939b307799ebeec4",
       "version_major": 2,
       "version_minor": 0
      },
      "text/plain": [
       "Canvas(toolbar=Toolbar(toolitems=[('Home', 'Reset original view', 'home', 'home'), ('Back', 'Back to previous …"
      ]
     },
     "metadata": {},
     "output_type": "display_data"
    }
   ],
   "source": [
    "try:\n",
    "    plt.close(fig)\n",
    "except NameError:\n",
    "    pass\n",
    "\n",
    "fig, ax = plt.subplots(1, 2, figsize=(11, 5))\n",
    "\n",
    "A = np.array([[0, -1], [1, 0]])\n",
    "B = np.array([[-0.1, -1], [1, -0.7]])\n",
    "    \n",
    "rs = [0.3, 0.75, 1.5]\n",
    "solsA = list()\n",
    "for r in rs:\n",
    "    solsA.append(solve_ivp(lambda t, x: A @ x, [0, 20], [r, 0], max_step=0.1))\n",
    "    \n",
    "angles = [2 * np.pi *  float(i) / 3 for i in range(3)]\n",
    "solsB = list()\n",
    "\n",
    "for theta in angles:\n",
    "    solsB.append(solve_ivp(lambda t, x: B @ x, [0, 30], [2 * np.cos(theta), 2 * np.sin(theta)], max_step=0.1))\n",
    "    \n",
    "plot_vector_field(A, ax=ax[0], alpha=0.35)\n",
    "plot_vector_field(B, ax=ax[1], alpha=0.35)\n",
    "\n",
    "for sol in solsA:\n",
    "    ax[0].plot(sol.y[0, :], sol.y[1, :], c='b', linewidth=1.1, alpha=0.55)\n",
    "    ax[0].arrow(sol.y[0, 0], sol.y[1, 0], sol.y[0, 1] - sol.y[0, 0], sol.y[1, 1] - sol.y[1, 0], \n",
    "                shape='full', lw=0, length_includes_head=False, head_width=.1, color='b', alpha=0.55)\n",
    "\n",
    "idx = 20\n",
    "for sol in solsB:\n",
    "    ax[1].plot(sol.y[0, :], sol.y[1, :], c='b', alpha=0.55)\n",
    "    ax[1].arrow(sol.y[0, idx], sol.y[1, idx], sol.y[0, idx + 1] - sol.y[0, idx], sol.y[1, idx + 1] - sol.y[1, idx], \n",
    "            shape='full', lw=0, length_includes_head=False, head_width=.1, color='b', alpha=0.55)\n",
    "    \n",
    "r = 1.0\n",
    "t = np.arange(0, 2 * np.pi, 0.01)\n",
    "    \n",
    "ax[0].set_xlim([-1.9, 1.9])\n",
    "ax[0].set_ylim([-1.9, 1.9])\n",
    "\n",
    "ax[1].set_xlim([-1.9, 1.9])\n",
    "ax[1].set_ylim([-1.9, 1.9])\n",
    "\n",
    "plot_axes(ax[0])\n",
    "plot_axes(ax[1])\n",
    "\n",
    "ax[0].set_title('Lyapunov Stable')\n",
    "ax[1].set_title('Asymptotically Stable')\n",
    "\n",
    "plt.savefig(\"figures/stability.png\")"
   ]
  },
  {
   "cell_type": "code",
   "execution_count": 5,
   "metadata": {},
   "outputs": [
    {
     "data": {
      "application/vnd.jupyter.widget-view+json": {
       "model_id": "0a00b7b1c6104dd9a602eb1566f81817",
       "version_major": 2,
       "version_minor": 0
      },
      "text/plain": [
       "Canvas(toolbar=Toolbar(toolitems=[('Home', 'Reset original view', 'home', 'home'), ('Back', 'Back to previous …"
      ]
     },
     "metadata": {},
     "output_type": "display_data"
    }
   ],
   "source": [
    "plt.close(fig)\n",
    "fig, ax = plt.subplots(figsize=(5, 5))\n",
    "\n",
    "t = np.arange(0, 2 * np.pi, 0.01)\n",
    "\n",
    "ax.plot(np.cos(t), np.sin(t))\n",
    "plot_axes(ax)\n",
    "plt.savefig(\"figures/circle.png\")"
   ]
  },
  {
   "cell_type": "code",
   "execution_count": 6,
   "metadata": {},
   "outputs": [
    {
     "data": {
      "application/vnd.jupyter.widget-view+json": {
       "model_id": "ab746d0d9a31486fa3d0c31d65c8cd57",
       "version_major": 2,
       "version_minor": 0
      },
      "text/plain": [
       "Canvas(toolbar=Toolbar(toolitems=[('Home', 'Reset original view', 'home', 'home'), ('Back', 'Back to previous …"
      ]
     },
     "metadata": {},
     "output_type": "display_data"
    }
   ],
   "source": [
    "plt.close(fig)\n",
    "fig, ax = plt.subplots(figsize=(5.5, 5))\n",
    "\n",
    "t = np.arange(0, 2 * np.pi, 0.01)\n",
    "\n",
    "p1 = 0.75 * np.exp(1j * 0.33 * 2 * np.pi)\n",
    "p2 = 1.5 * np.exp(1j * 0.1 * 2 * np.pi)\n",
    "p3 = 1.0 * np.exp(1j * 1.8 * np.pi)\n",
    "\n",
    "ax.plot(np.cos(t), np.sin(t), zorder=0)\n",
    "\n",
    "ax.scatter([np.real(p1), np.real(p2), np.real(p3)], [np.imag(p1), np.imag(p2), np.imag(p3)], c='r', marker=\"x\", zorder=1)\n",
    "ax.text(np.real(p1)-0.1, np.imag(p1) -0.1, s=r\"$\\Vert p_2 \\Vert < c$\")\n",
    "ax.text(np.real(p2)-0.1, np.imag(p2) -0.1, s=r\"$\\Vert p_3 \\Vert > c$\")\n",
    "ax.text(np.real(p3)+0.1, np.imag(p3) -0.1, s=r\"$\\Vert p_1 \\Vert = c$\")\n",
    "\n",
    "plot_axes(ax)\n",
    "plt.savefig(\"figures/circle_points.png\")"
   ]
  },
  {
   "cell_type": "code",
   "execution_count": 7,
   "metadata": {},
   "outputs": [
    {
     "data": {
      "application/vnd.jupyter.widget-view+json": {
       "model_id": "e6a23b3f5691440293c4e616233c75f7",
       "version_major": 2,
       "version_minor": 0
      },
      "text/plain": [
       "Canvas(toolbar=Toolbar(toolitems=[('Home', 'Reset original view', 'home', 'home'), ('Back', 'Back to previous …"
      ]
     },
     "metadata": {},
     "output_type": "display_data"
    }
   ],
   "source": [
    "plt.close(fig)\n",
    "fig, ax = plt.subplots(figsize=(5.5, 5))\n",
    "\n",
    "t = np.arange(0, 2 * np.pi, 0.01)\n",
    "ax.plot(np.cos(t), np.sin(t), zorder=0, alpha=0.5)\n",
    "\n",
    "\n",
    "B = np.array([[-0.5, -1], [1, -0.7]])\n",
    "theta = 2 * np.pi / 3\n",
    "sol = solve_ivp(lambda t, x: B @ x, [0, 30], [1.2 * np.cos(theta), 1.2 * np.sin(theta)], max_step=0.01)\n",
    "\n",
    "plot_vector_field(B, ax=ax, xmin=-1.2, xmax=1.2, ymin=-1.2, ymax=1.2, xstep=0.15, ystep=0.15, alpha=0.2)\n",
    "ax.plot(sol.y[0, :], sol.y[1, :])\n",
    "\n",
    "idx1 = np.where(np.abs(np.linalg.norm(sol.y, axis=0) - 0.5) < 0.1)[0][0]\n",
    "idx2 = np.where(np.abs(np.linalg.norm(sol.y, axis=0) - 1.2) < 0.1)[0][0]\n",
    "\n",
    "ax.text(sol.y[0, idx1] - 0.08, sol.y[1, idx1] - 0.12, s=r\"$x(t_2)$\", color=c_orange)\n",
    "ax.text(sol.y[0, idx1] + 0.06, sol.y[1, idx1] - 0.3, s=r\"$\\Vert x(t_2) \\Vert < c$\")\n",
    "\n",
    "ax.text(sol.y[0, idx2] + 0.08, sol.y[1, idx2] - 0.01, s=r\"$x(t_1)$\", color=c_orange)\n",
    "ax.text(sol.y[0, idx2] + 0.06, sol.y[1, idx2] - 0.2, s=r\"$\\Vert x(t_1) \\Vert > c$\")\n",
    "\n",
    "ax.text(0.15, 0.5, s=r\"$\\frac{d}{dt} \\Vert x(t) \\Vert < 0$\")\n",
    "ax.text(0.15, 0.35, s=r\"for some $t \\in [t_1, t_2]$\")\n",
    "\n",
    "\n",
    "ax.scatter(sol.y[0, [idx1, idx2]], sol.y[1, [idx1, idx2]], c=c_orange)\n",
    "ax.arrow(sol.y[0, 200], sol.y[1, 200], sol.y[0, 201] - sol.y[0, 200], sol.y[1, 201] - sol.y[1, 200], \n",
    "        shape='full', lw=0, length_includes_head=False, head_width=.05, color=c_orange)\n",
    "\n",
    "plot_axes(ax)\n",
    "plt.savefig(\"figures/circ_solution.png\")"
   ]
  },
  {
   "cell_type": "code",
   "execution_count": 8,
   "metadata": {},
   "outputs": [
    {
     "data": {
      "application/vnd.jupyter.widget-view+json": {
       "model_id": "c049cc1405f74fa8b414f38229fe20b6",
       "version_major": 2,
       "version_minor": 0
      },
      "text/plain": [
       "Canvas(toolbar=Toolbar(toolitems=[('Home', 'Reset original view', 'home', 'home'), ('Back', 'Back to previous …"
      ]
     },
     "metadata": {},
     "output_type": "display_data"
    }
   ],
   "source": [
    "plt.close(fig)\n",
    "fig, ax = plt.subplots(figsize=(5.5, 5))\n",
    "\n",
    "ax.plot(np.cos(t), np.sin(t), zorder=0, alpha=0.5)\n",
    "\n",
    "plot_vector_field(B, ax=ax, xmin=-1.1, xmax=1.1, ymin=-1.1, ymax=1.1, xstep=0.15, ystep=0.15, alpha=0.25)\n",
    "ax.plot(sol.y[0, :], sol.y[1, :])\n",
    "ax.arrow(sol.y[0, 200], sol.y[1, 200], sol.y[0, 201] - sol.y[0, 200], sol.y[1, 201] - sol.y[1, 200], \n",
    "        shape='full', lw=0, length_includes_head=False, head_width=.05, color=c_orange)\n",
    "\n",
    "idx_intersect = np.where(np.abs(np.linalg.norm(sol.y, axis=0) - 1.0) < 0.01)[0][0]\n",
    "ax.text(sol.y[0, idx_intersect] + 0.08, sol.y[1, idx_intersect] - 0.01, s=r\"$x(t_c)$\")\n",
    "ax.scatter(sol.y[0, idx_intersect], sol.y[1, idx_intersect], c=c_orange, zorder=11)\n",
    "\n",
    "\n",
    "v = B @ sol.y[:, idx_intersect]\n",
    "ax.arrow(sol.y[0, idx_intersect], sol.y[1, idx_intersect], 0.2 * v[0], 0.25 * v[1], \n",
    "        shape='full', lw=1, length_includes_head=False, head_width=.05, color=\"g\", zorder=10)\n",
    "\n",
    "ax.text(-0.7, 0.4, s=r\"$\\frac{d}{dt} \\Vert x(t_c) \\Vert < 0$\", color=\"k\")\n",
    "\n",
    "plot_axes(ax)\n",
    "plt.savefig(\"figures/circ_tangent.png\")"
   ]
  },
  {
   "cell_type": "code",
   "execution_count": 9,
   "metadata": {},
   "outputs": [
    {
     "data": {
      "application/vnd.jupyter.widget-view+json": {
       "model_id": "4e12452c532f4569ad428739e84d6a33",
       "version_major": 2,
       "version_minor": 0
      },
      "text/plain": [
       "Canvas(toolbar=Toolbar(toolitems=[('Home', 'Reset original view', 'home', 'home'), ('Back', 'Back to previous …"
      ]
     },
     "metadata": {},
     "output_type": "display_data"
    }
   ],
   "source": [
    "plt.close(fig)\n",
    "fig, ax = plt.subplots(figsize=(5.5, 5))\n",
    "\n",
    "ax.plot(np.cos(t), np.sin(t), zorder=0, alpha=0.5)\n",
    "plot_vector_field(B, ax=ax, xmin=-1.1, xmax=1.1, ymin=-1.1, ymax=1.1, xstep=0.15, ystep=0.15, alpha=0.15)\n",
    "\n",
    "ax.plot(sol.y[0, :], sol.y[1, :])\n",
    "ax.arrow(sol.y[0, 110], sol.y[1, 110], sol.y[0, 111] - sol.y[0, 110], sol.y[1, 111] - sol.y[1, 110], \n",
    "        shape='full', lw=0, length_includes_head=False, head_width=.05, color=c_orange)\n",
    "\n",
    "ax.scatter(sol.y[0, idx_intersect], sol.y[1, idx_intersect], c=c_orange, zorder=11)\n",
    "\n",
    "ax.arrow(sol.y[0, idx_intersect], sol.y[1, idx_intersect], 0.2 * v[0], 0.2 * v[1], \n",
    "        shape='full', lw=1, length_includes_head=False, head_width=.05, color=\"g\", zorder=10)\n",
    "\n",
    "ax.arrow(sol.y[0, idx_intersect], sol.y[1, idx_intersect], 0.2 * sol.y[0, idx_intersect], 0.2 * sol.y[1, idx_intersect], \n",
    "        shape='full', lw=1, length_includes_head=False, head_width=.05, color=c_blue, zorder=10)\n",
    "\n",
    "ax.text(sol.y[0, idx_intersect] + 0.02, sol.y[1, idx_intersect] - 0.2, s=r\"$\\dot{x}(t_c)$\", color=\"g\", zorder=100)\n",
    "ax.text(sol.y[0, idx_intersect] - 0.2, sol.y[1, idx_intersect] + 0.2, s=r\"$\\hat{n}$\", color=c_blue, zorder=100)\n",
    "ax.text(-0.7, 0.65, s=r\"$\\langle \\hat{n}, \\dot{x}(t_c)\\rangle < 0$\", color=\"k\", zorder=100)\n",
    "\n",
    "plot_axes(ax)\n",
    "plt.savefig(\"figures/circle_innerp.png\")"
   ]
  },
  {
   "cell_type": "code",
   "execution_count": 10,
   "metadata": {},
   "outputs": [
    {
     "data": {
      "application/vnd.jupyter.widget-view+json": {
       "model_id": "f55f4443c18245cda5a7142471cf6b4c",
       "version_major": 2,
       "version_minor": 0
      },
      "text/plain": [
       "Canvas(toolbar=Toolbar(toolitems=[('Home', 'Reset original view', 'home', 'home'), ('Back', 'Back to previous …"
      ]
     },
     "metadata": {},
     "output_type": "display_data"
    }
   ],
   "source": [
    "plt.close(fig)\n",
    "fig, ax = plt.subplots(figsize=(5.5, 5))\n",
    "\n",
    "ax.plot(np.cos(t), np.sin(t), zorder=0, alpha=0.5)\n",
    "plot_vector_field(B, ax=ax, xmin=-1.1, xmax=1.1, ymin=-1.1, ymax=1.1, xstep=0.15, ystep=0.15, alpha=0.15)\n",
    "\n",
    "ax.plot(sol.y[0, :], sol.y[1, :])\n",
    "ax.arrow(sol.y[0, 110], sol.y[1, 110], sol.y[0, 111] - sol.y[0, 110], sol.y[1, 111] - sol.y[1, 110], \n",
    "        shape='full', lw=0, length_includes_head=False, head_width=.05, color=c_orange)\n",
    "\n",
    "ax.scatter(sol.y[0, idx_intersect], sol.y[1, idx_intersect], c=c_blue, zorder=11)\n",
    "\n",
    "ax.arrow(sol.y[0, idx_intersect], sol.y[1, idx_intersect], 0.2 * v[0], 0.2 * v[1], \n",
    "        shape='full', lw=1, length_includes_head=False, head_width=.05, color=\"g\", zorder=10)\n",
    "\n",
    "ax.arrow(sol.y[0, idx_intersect], sol.y[1, idx_intersect], 0.2 * sol.y[0, idx_intersect], 0.2 * sol.y[1, idx_intersect], \n",
    "        shape='full', lw=1, length_includes_head=False, head_width=.05, color=c_blue, zorder=10)\n",
    "\n",
    "ax.text(sol.y[0, idx_intersect] + 0.02, sol.y[1, idx_intersect] - 0.2, s=r\"$f(x(t_c))$\", color=\"g\", zorder=100)\n",
    "ax.text(sol.y[0, idx_intersect] - 0.2, sol.y[1, idx_intersect] + 0.2, s=r\"$\\hat{n}$\", color=c_blue, zorder=100)\n",
    "ax.text(-0.7, 0.65, s=r\"$\\langle \\hat{n}, f(x(t_c))\\rangle < 0$\", color=\"k\", zorder=100)\n",
    "\n",
    "plot_axes(ax)\n",
    "plt.savefig(\"figures/circle_innerp.png\")"
   ]
  },
  {
   "cell_type": "code",
   "execution_count": 11,
   "metadata": {},
   "outputs": [
    {
     "data": {
      "application/vnd.jupyter.widget-view+json": {
       "model_id": "f20defe288e548ac8079a513b861cfcd",
       "version_major": 2,
       "version_minor": 0
      },
      "text/plain": [
       "Canvas(toolbar=Toolbar(toolitems=[('Home', 'Reset original view', 'home', 'home'), ('Back', 'Back to previous …"
      ]
     },
     "metadata": {},
     "output_type": "display_data"
    }
   ],
   "source": [
    "plt.close(fig)\n",
    "fig, ax = plt.subplots(figsize=(5.5, 5))\n",
    "\n",
    "plot_vector_field(B, ax=ax, xmin=-1.1, xmax=1.1, ymin=-1.1, ymax=1.1, xstep=0.15, ystep=0.15, alpha=0.15)\n",
    "ax.plot(np.cos(t), np.sin(t), zorder=0, alpha=0.5, c=c_blue)\n",
    "plot_ring_vectors(ax, B, r=1.0)\n",
    "\n",
    "ax.text(0.15, 0.35, s=r\"$\\frac{d}{dt} \\Vert x(t) \\Vert < 0$\")\n",
    "ax.text(0.15, 0.2, s=r\"if $\\Vert x(t) \\Vert = c$\")\n",
    "ax.text(-0.15, 0.275, s=r\"$\\Rightarrow$\")\n",
    "ax.text(-0.8, 0.35, s=r\"$\\langle \\hat{n}, f(x)\\rangle < 0$\", color=\"g\", zorder=100)\n",
    "ax.text(-0.8, 0.2, s=r\"$\\forall x, \\Vert x \\Vert = c$\", color=\"g\", zorder=100)\n",
    "\n",
    "plot_axes(ax)\n",
    "plt.savefig(\"figures/circ_spider.png\")"
   ]
  },
  {
   "cell_type": "code",
   "execution_count": 12,
   "metadata": {},
   "outputs": [
    {
     "data": {
      "application/vnd.jupyter.widget-view+json": {
       "model_id": "3eaea9e427df422ebab7ad1810143865",
       "version_major": 2,
       "version_minor": 0
      },
      "text/plain": [
       "Canvas(toolbar=Toolbar(toolitems=[('Home', 'Reset original view', 'home', 'home'), ('Back', 'Back to previous …"
      ]
     },
     "metadata": {},
     "output_type": "display_data"
    },
    {
     "data": {
      "application/vnd.jupyter.widget-view+json": {
       "model_id": "4eee6c63bc6a4750889983fcf5878029",
       "version_major": 2,
       "version_minor": 0
      },
      "text/plain": [
       "Canvas(toolbar=Toolbar(toolitems=[('Home', 'Reset original view', 'home', 'home'), ('Back', 'Back to previous …"
      ]
     },
     "metadata": {},
     "output_type": "display_data"
    },
    {
     "data": {
      "application/vnd.jupyter.widget-view+json": {
       "model_id": "e221a0d410bb45bb9a6ffaed68eba7d8",
       "version_major": 2,
       "version_minor": 0
      },
      "text/plain": [
       "Canvas(toolbar=Toolbar(toolitems=[('Home', 'Reset original view', 'home', 'home'), ('Back', 'Back to previous …"
      ]
     },
     "metadata": {},
     "output_type": "display_data"
    },
    {
     "data": {
      "application/vnd.jupyter.widget-view+json": {
       "model_id": "a99abe623e44411aa4401bd3ec0bc84e",
       "version_major": 2,
       "version_minor": 0
      },
      "text/plain": [
       "Canvas(toolbar=Toolbar(toolitems=[('Home', 'Reset original view', 'home', 'home'), ('Back', 'Back to previous …"
      ]
     },
     "metadata": {},
     "output_type": "display_data"
    },
    {
     "data": {
      "application/vnd.jupyter.widget-view+json": {
       "model_id": "7533f11da419485a9dc1f5e9e78915ce",
       "version_major": 2,
       "version_minor": 0
      },
      "text/plain": [
       "Canvas(toolbar=Toolbar(toolitems=[('Home', 'Reset original view', 'home', 'home'), ('Back', 'Back to previous …"
      ]
     },
     "metadata": {},
     "output_type": "display_data"
    },
    {
     "data": {
      "application/vnd.jupyter.widget-view+json": {
       "model_id": "ddaca3e7664644f28d57b00f3bb8a12c",
       "version_major": 2,
       "version_minor": 0
      },
      "text/plain": [
       "Canvas(toolbar=Toolbar(toolitems=[('Home', 'Reset original view', 'home', 'home'), ('Back', 'Back to previous …"
      ]
     },
     "metadata": {},
     "output_type": "display_data"
    },
    {
     "data": {
      "application/vnd.jupyter.widget-view+json": {
       "model_id": "773a0a57052d4a028207f1e908080406",
       "version_major": 2,
       "version_minor": 0
      },
      "text/plain": [
       "Canvas(toolbar=Toolbar(toolitems=[('Home', 'Reset original view', 'home', 'home'), ('Back', 'Back to previous …"
      ]
     },
     "metadata": {},
     "output_type": "display_data"
    },
    {
     "data": {
      "application/vnd.jupyter.widget-view+json": {
       "model_id": "6f0a31f9f7044c64a69f321f37930885",
       "version_major": 2,
       "version_minor": 0
      },
      "text/plain": [
       "Canvas(toolbar=Toolbar(toolitems=[('Home', 'Reset original view', 'home', 'home'), ('Back', 'Back to previous …"
      ]
     },
     "metadata": {},
     "output_type": "display_data"
    },
    {
     "data": {
      "application/vnd.jupyter.widget-view+json": {
       "model_id": "c45cfddc302e4e0b8e71fc754166e8fe",
       "version_major": 2,
       "version_minor": 0
      },
      "text/plain": [
       "Canvas(toolbar=Toolbar(toolitems=[('Home', 'Reset original view', 'home', 'home'), ('Back', 'Back to previous …"
      ]
     },
     "metadata": {},
     "output_type": "display_data"
    },
    {
     "data": {
      "application/vnd.jupyter.widget-view+json": {
       "model_id": "13c72c328d29419a8256db3f8d785eee",
       "version_major": 2,
       "version_minor": 0
      },
      "text/plain": [
       "Canvas(toolbar=Toolbar(toolitems=[('Home', 'Reset original view', 'home', 'home'), ('Back', 'Back to previous …"
      ]
     },
     "metadata": {},
     "output_type": "display_data"
    },
    {
     "data": {
      "application/vnd.jupyter.widget-view+json": {
       "model_id": "a9c3fa81477f49deaef7f2dfcb40d107",
       "version_major": 2,
       "version_minor": 0
      },
      "text/plain": [
       "Canvas(toolbar=Toolbar(toolitems=[('Home', 'Reset original view', 'home', 'home'), ('Back', 'Back to previous …"
      ]
     },
     "metadata": {},
     "output_type": "display_data"
    },
    {
     "data": {
      "application/vnd.jupyter.widget-view+json": {
       "model_id": "4c6c831d3fd74d05bc6cde9513e09427",
       "version_major": 2,
       "version_minor": 0
      },
      "text/plain": [
       "Canvas(toolbar=Toolbar(toolitems=[('Home', 'Reset original view', 'home', 'home'), ('Back', 'Back to previous …"
      ]
     },
     "metadata": {},
     "output_type": "display_data"
    },
    {
     "data": {
      "application/vnd.jupyter.widget-view+json": {
       "model_id": "5b28382dd8e649ad9a71941c77c95b07",
       "version_major": 2,
       "version_minor": 0
      },
      "text/plain": [
       "Canvas(toolbar=Toolbar(toolitems=[('Home', 'Reset original view', 'home', 'home'), ('Back', 'Back to previous …"
      ]
     },
     "metadata": {},
     "output_type": "display_data"
    },
    {
     "data": {
      "application/vnd.jupyter.widget-view+json": {
       "model_id": "260025637fff4fb79c50e104328152db",
       "version_major": 2,
       "version_minor": 0
      },
      "text/plain": [
       "Canvas(toolbar=Toolbar(toolitems=[('Home', 'Reset original view', 'home', 'home'), ('Back', 'Back to previous …"
      ]
     },
     "metadata": {},
     "output_type": "display_data"
    },
    {
     "data": {
      "application/vnd.jupyter.widget-view+json": {
       "model_id": "45af354f874a4c91b70695694056da5d",
       "version_major": 2,
       "version_minor": 0
      },
      "text/plain": [
       "Canvas(toolbar=Toolbar(toolitems=[('Home', 'Reset original view', 'home', 'home'), ('Back', 'Back to previous …"
      ]
     },
     "metadata": {},
     "output_type": "display_data"
    },
    {
     "data": {
      "application/vnd.jupyter.widget-view+json": {
       "model_id": "aef6980ee3504a7e92ef3f16a92cff09",
       "version_major": 2,
       "version_minor": 0
      },
      "text/plain": [
       "Canvas(toolbar=Toolbar(toolitems=[('Home', 'Reset original view', 'home', 'home'), ('Back', 'Back to previous …"
      ]
     },
     "metadata": {},
     "output_type": "display_data"
    },
    {
     "data": {
      "application/vnd.jupyter.widget-view+json": {
       "model_id": "28c72452e4c84618810af55765903a44",
       "version_major": 2,
       "version_minor": 0
      },
      "text/plain": [
       "Canvas(toolbar=Toolbar(toolitems=[('Home', 'Reset original view', 'home', 'home'), ('Back', 'Back to previous …"
      ]
     },
     "metadata": {},
     "output_type": "display_data"
    },
    {
     "data": {
      "application/vnd.jupyter.widget-view+json": {
       "model_id": "0567ec84788f465aa9ab74e9835212bd",
       "version_major": 2,
       "version_minor": 0
      },
      "text/plain": [
       "Canvas(toolbar=Toolbar(toolitems=[('Home', 'Reset original view', 'home', 'home'), ('Back', 'Back to previous …"
      ]
     },
     "metadata": {},
     "output_type": "display_data"
    },
    {
     "data": {
      "application/vnd.jupyter.widget-view+json": {
       "model_id": "35c37310183e418dbaff0320f632f486",
       "version_major": 2,
       "version_minor": 0
      },
      "text/plain": [
       "Canvas(toolbar=Toolbar(toolitems=[('Home', 'Reset original view', 'home', 'home'), ('Back', 'Back to previous …"
      ]
     },
     "metadata": {},
     "output_type": "display_data"
    },
    {
     "data": {
      "application/vnd.jupyter.widget-view+json": {
       "model_id": "93925ca685c84993928250960a6c9a24",
       "version_major": 2,
       "version_minor": 0
      },
      "text/plain": [
       "Canvas(toolbar=Toolbar(toolitems=[('Home', 'Reset original view', 'home', 'home'), ('Back', 'Back to previous …"
      ]
     },
     "metadata": {},
     "output_type": "display_data"
    },
    {
     "data": {
      "application/vnd.jupyter.widget-view+json": {
       "model_id": "ff1094ada9844b3b99a50f355690840b",
       "version_major": 2,
       "version_minor": 0
      },
      "text/plain": [
       "Canvas(toolbar=Toolbar(toolitems=[('Home', 'Reset original view', 'home', 'home'), ('Back', 'Back to previous …"
      ]
     },
     "metadata": {},
     "output_type": "display_data"
    },
    {
     "data": {
      "application/vnd.jupyter.widget-view+json": {
       "model_id": "9e3f99f5ae104f9a86ba1193eaa52cd5",
       "version_major": 2,
       "version_minor": 0
      },
      "text/plain": [
       "Canvas(toolbar=Toolbar(toolitems=[('Home', 'Reset original view', 'home', 'home'), ('Back', 'Back to previous …"
      ]
     },
     "metadata": {},
     "output_type": "display_data"
    },
    {
     "data": {
      "application/vnd.jupyter.widget-view+json": {
       "model_id": "687eab6c162a4fe895d2c491172dbb8f",
       "version_major": 2,
       "version_minor": 0
      },
      "text/plain": [
       "Canvas(toolbar=Toolbar(toolitems=[('Home', 'Reset original view', 'home', 'home'), ('Back', 'Back to previous …"
      ]
     },
     "metadata": {},
     "output_type": "display_data"
    },
    {
     "data": {
      "application/vnd.jupyter.widget-view+json": {
       "model_id": "2028feacaa334072aa4c883521675f90",
       "version_major": 2,
       "version_minor": 0
      },
      "text/plain": [
       "Canvas(toolbar=Toolbar(toolitems=[('Home', 'Reset original view', 'home', 'home'), ('Back', 'Back to previous …"
      ]
     },
     "metadata": {},
     "output_type": "display_data"
    },
    {
     "data": {
      "application/vnd.jupyter.widget-view+json": {
       "model_id": "548e53be5da1494cb30f91f6883aee9f",
       "version_major": 2,
       "version_minor": 0
      },
      "text/plain": [
       "Canvas(toolbar=Toolbar(toolitems=[('Home', 'Reset original view', 'home', 'home'), ('Back', 'Back to previous …"
      ]
     },
     "metadata": {},
     "output_type": "display_data"
    },
    {
     "data": {
      "application/vnd.jupyter.widget-view+json": {
       "model_id": "99d76b5636534eacba72ea0cbcbfff57",
       "version_major": 2,
       "version_minor": 0
      },
      "text/plain": [
       "Canvas(toolbar=Toolbar(toolitems=[('Home', 'Reset original view', 'home', 'home'), ('Back', 'Back to previous …"
      ]
     },
     "metadata": {},
     "output_type": "display_data"
    },
    {
     "data": {
      "application/vnd.jupyter.widget-view+json": {
       "model_id": "e5da479e2b474d0b8b370710925de0f7",
       "version_major": 2,
       "version_minor": 0
      },
      "text/plain": [
       "Canvas(toolbar=Toolbar(toolitems=[('Home', 'Reset original view', 'home', 'home'), ('Back', 'Back to previous …"
      ]
     },
     "metadata": {},
     "output_type": "display_data"
    },
    {
     "data": {
      "application/vnd.jupyter.widget-view+json": {
       "model_id": "18bf2b649bfd4038adc39dc965c3a849",
       "version_major": 2,
       "version_minor": 0
      },
      "text/plain": [
       "Canvas(toolbar=Toolbar(toolitems=[('Home', 'Reset original view', 'home', 'home'), ('Back', 'Back to previous …"
      ]
     },
     "metadata": {},
     "output_type": "display_data"
    },
    {
     "data": {
      "application/vnd.jupyter.widget-view+json": {
       "model_id": "990a46187eb94780b4b986c070880193",
       "version_major": 2,
       "version_minor": 0
      },
      "text/plain": [
       "Canvas(toolbar=Toolbar(toolitems=[('Home', 'Reset original view', 'home', 'home'), ('Back', 'Back to previous …"
      ]
     },
     "metadata": {},
     "output_type": "display_data"
    },
    {
     "data": {
      "application/vnd.jupyter.widget-view+json": {
       "model_id": "ef8e623ff82445b59078980a508b6119",
       "version_major": 2,
       "version_minor": 0
      },
      "text/plain": [
       "Canvas(toolbar=Toolbar(toolitems=[('Home', 'Reset original view', 'home', 'home'), ('Back', 'Back to previous …"
      ]
     },
     "metadata": {},
     "output_type": "display_data"
    },
    {
     "data": {
      "application/vnd.jupyter.widget-view+json": {
       "model_id": "9498d5a7457c48bab99e6109c1982c12",
       "version_major": 2,
       "version_minor": 0
      },
      "text/plain": [
       "Canvas(toolbar=Toolbar(toolitems=[('Home', 'Reset original view', 'home', 'home'), ('Back', 'Back to previous …"
      ]
     },
     "metadata": {},
     "output_type": "display_data"
    },
    {
     "data": {
      "application/vnd.jupyter.widget-view+json": {
       "model_id": "05b0c49fdfea4495922549011b59dcc1",
       "version_major": 2,
       "version_minor": 0
      },
      "text/plain": [
       "Canvas(toolbar=Toolbar(toolitems=[('Home', 'Reset original view', 'home', 'home'), ('Back', 'Back to previous …"
      ]
     },
     "metadata": {},
     "output_type": "display_data"
    },
    {
     "data": {
      "application/vnd.jupyter.widget-view+json": {
       "model_id": "621f75205da445d3bbd73b8aac2b358a",
       "version_major": 2,
       "version_minor": 0
      },
      "text/plain": [
       "Canvas(toolbar=Toolbar(toolitems=[('Home', 'Reset original view', 'home', 'home'), ('Back', 'Back to previous …"
      ]
     },
     "metadata": {},
     "output_type": "display_data"
    },
    {
     "data": {
      "application/vnd.jupyter.widget-view+json": {
       "model_id": "8ceacabbbd214cfe902f14e5a8c0296a",
       "version_major": 2,
       "version_minor": 0
      },
      "text/plain": [
       "Canvas(toolbar=Toolbar(toolitems=[('Home', 'Reset original view', 'home', 'home'), ('Back', 'Back to previous …"
      ]
     },
     "metadata": {},
     "output_type": "display_data"
    },
    {
     "data": {
      "application/vnd.jupyter.widget-view+json": {
       "model_id": "7faeff3e1b954f7c888ddd4f37beeebf",
       "version_major": 2,
       "version_minor": 0
      },
      "text/plain": [
       "Canvas(toolbar=Toolbar(toolitems=[('Home', 'Reset original view', 'home', 'home'), ('Back', 'Back to previous …"
      ]
     },
     "metadata": {},
     "output_type": "display_data"
    },
    {
     "data": {
      "application/vnd.jupyter.widget-view+json": {
       "model_id": "798b6e85aca04985a9e68067e29a006c",
       "version_major": 2,
       "version_minor": 0
      },
      "text/plain": [
       "Canvas(toolbar=Toolbar(toolitems=[('Home', 'Reset original view', 'home', 'home'), ('Back', 'Back to previous …"
      ]
     },
     "metadata": {},
     "output_type": "display_data"
    },
    {
     "data": {
      "application/vnd.jupyter.widget-view+json": {
       "model_id": "408dadd6c9b1414da788123f2842d2c5",
       "version_major": 2,
       "version_minor": 0
      },
      "text/plain": [
       "Canvas(toolbar=Toolbar(toolitems=[('Home', 'Reset original view', 'home', 'home'), ('Back', 'Back to previous …"
      ]
     },
     "metadata": {},
     "output_type": "display_data"
    },
    {
     "data": {
      "application/vnd.jupyter.widget-view+json": {
       "model_id": "9c61e93c4d4f41b484b842fe173dde4f",
       "version_major": 2,
       "version_minor": 0
      },
      "text/plain": [
       "Canvas(toolbar=Toolbar(toolitems=[('Home', 'Reset original view', 'home', 'home'), ('Back', 'Back to previous …"
      ]
     },
     "metadata": {},
     "output_type": "display_data"
    },
    {
     "data": {
      "application/vnd.jupyter.widget-view+json": {
       "model_id": "3e479dc64b5842c99b3312262c7b535f",
       "version_major": 2,
       "version_minor": 0
      },
      "text/plain": [
       "Canvas(toolbar=Toolbar(toolitems=[('Home', 'Reset original view', 'home', 'home'), ('Back', 'Back to previous …"
      ]
     },
     "metadata": {},
     "output_type": "display_data"
    },
    {
     "data": {
      "application/vnd.jupyter.widget-view+json": {
       "model_id": "8b9b7d58679340428dcbfbb0c433b2a7",
       "version_major": 2,
       "version_minor": 0
      },
      "text/plain": [
       "Canvas(toolbar=Toolbar(toolitems=[('Home', 'Reset original view', 'home', 'home'), ('Back', 'Back to previous …"
      ]
     },
     "metadata": {},
     "output_type": "display_data"
    },
    {
     "data": {
      "application/vnd.jupyter.widget-view+json": {
       "model_id": "5e6b114593af4db8bcffcdad90024d92",
       "version_major": 2,
       "version_minor": 0
      },
      "text/plain": [
       "Canvas(toolbar=Toolbar(toolitems=[('Home', 'Reset original view', 'home', 'home'), ('Back', 'Back to previous …"
      ]
     },
     "metadata": {},
     "output_type": "display_data"
    },
    {
     "data": {
      "application/vnd.jupyter.widget-view+json": {
       "model_id": "f1b3ab350b9648b9bd8a26aa2e1e29d2",
       "version_major": 2,
       "version_minor": 0
      },
      "text/plain": [
       "Canvas(toolbar=Toolbar(toolitems=[('Home', 'Reset original view', 'home', 'home'), ('Back', 'Back to previous …"
      ]
     },
     "metadata": {},
     "output_type": "display_data"
    },
    {
     "data": {
      "application/vnd.jupyter.widget-view+json": {
       "model_id": "4ac1d01df63f4f59b8e1d65def33bcfd",
       "version_major": 2,
       "version_minor": 0
      },
      "text/plain": [
       "Canvas(toolbar=Toolbar(toolitems=[('Home', 'Reset original view', 'home', 'home'), ('Back', 'Back to previous …"
      ]
     },
     "metadata": {},
     "output_type": "display_data"
    },
    {
     "data": {
      "application/vnd.jupyter.widget-view+json": {
       "model_id": "70f05da7fbea4b1a9f9d9111cdf579b6",
       "version_major": 2,
       "version_minor": 0
      },
      "text/plain": [
       "Canvas(toolbar=Toolbar(toolitems=[('Home', 'Reset original view', 'home', 'home'), ('Back', 'Back to previous …"
      ]
     },
     "metadata": {},
     "output_type": "display_data"
    },
    {
     "data": {
      "application/vnd.jupyter.widget-view+json": {
       "model_id": "7aa53b1daea94e8dbb800093ec16390c",
       "version_major": 2,
       "version_minor": 0
      },
      "text/plain": [
       "Canvas(toolbar=Toolbar(toolitems=[('Home', 'Reset original view', 'home', 'home'), ('Back', 'Back to previous …"
      ]
     },
     "metadata": {},
     "output_type": "display_data"
    },
    {
     "data": {
      "application/vnd.jupyter.widget-view+json": {
       "model_id": "3897123d176b45dc8bf46498d720ef38",
       "version_major": 2,
       "version_minor": 0
      },
      "text/plain": [
       "Canvas(toolbar=Toolbar(toolitems=[('Home', 'Reset original view', 'home', 'home'), ('Back', 'Back to previous …"
      ]
     },
     "metadata": {},
     "output_type": "display_data"
    },
    {
     "data": {
      "application/vnd.jupyter.widget-view+json": {
       "model_id": "9af05919d25d4c4b90ffc4d755a8be36",
       "version_major": 2,
       "version_minor": 0
      },
      "text/plain": [
       "Canvas(toolbar=Toolbar(toolitems=[('Home', 'Reset original view', 'home', 'home'), ('Back', 'Back to previous …"
      ]
     },
     "metadata": {},
     "output_type": "display_data"
    },
    {
     "data": {
      "application/vnd.jupyter.widget-view+json": {
       "model_id": "f22768f7892b4b1d9b8f4ae4f119b70f",
       "version_major": 2,
       "version_minor": 0
      },
      "text/plain": [
       "Canvas(toolbar=Toolbar(toolitems=[('Home', 'Reset original view', 'home', 'home'), ('Back', 'Back to previous …"
      ]
     },
     "metadata": {},
     "output_type": "display_data"
    },
    {
     "data": {
      "application/vnd.jupyter.widget-view+json": {
       "model_id": "d95359d21e15422ba48ee0d5b6add188",
       "version_major": 2,
       "version_minor": 0
      },
      "text/plain": [
       "Canvas(toolbar=Toolbar(toolitems=[('Home', 'Reset original view', 'home', 'home'), ('Back', 'Back to previous …"
      ]
     },
     "metadata": {},
     "output_type": "display_data"
    },
    {
     "data": {
      "application/vnd.jupyter.widget-view+json": {
       "model_id": "f130b10e7632455b8e1527148e28dcb1",
       "version_major": 2,
       "version_minor": 0
      },
      "text/plain": [
       "Canvas(toolbar=Toolbar(toolitems=[('Home', 'Reset original view', 'home', 'home'), ('Back', 'Back to previous …"
      ]
     },
     "metadata": {},
     "output_type": "display_data"
    },
    {
     "data": {
      "application/vnd.jupyter.widget-view+json": {
       "model_id": "9517a35bfa104975ba8818124739e6a7",
       "version_major": 2,
       "version_minor": 0
      },
      "text/plain": [
       "Canvas(toolbar=Toolbar(toolitems=[('Home', 'Reset original view', 'home', 'home'), ('Back', 'Back to previous …"
      ]
     },
     "metadata": {},
     "output_type": "display_data"
    },
    {
     "data": {
      "application/vnd.jupyter.widget-view+json": {
       "model_id": "84ba42b5500b4c4985a109fa841c8765",
       "version_major": 2,
       "version_minor": 0
      },
      "text/plain": [
       "Canvas(toolbar=Toolbar(toolitems=[('Home', 'Reset original view', 'home', 'home'), ('Back', 'Back to previous …"
      ]
     },
     "metadata": {},
     "output_type": "display_data"
    },
    {
     "data": {
      "application/vnd.jupyter.widget-view+json": {
       "model_id": "a774f639cb154a6c92b75ff736626d09",
       "version_major": 2,
       "version_minor": 0
      },
      "text/plain": [
       "Canvas(toolbar=Toolbar(toolitems=[('Home', 'Reset original view', 'home', 'home'), ('Back', 'Back to previous …"
      ]
     },
     "metadata": {},
     "output_type": "display_data"
    },
    {
     "data": {
      "application/vnd.jupyter.widget-view+json": {
       "model_id": "94a0b99a385c41888c6a8588d1672f1a",
       "version_major": 2,
       "version_minor": 0
      },
      "text/plain": [
       "Canvas(toolbar=Toolbar(toolitems=[('Home', 'Reset original view', 'home', 'home'), ('Back', 'Back to previous …"
      ]
     },
     "metadata": {},
     "output_type": "display_data"
    },
    {
     "data": {
      "application/vnd.jupyter.widget-view+json": {
       "model_id": "d778875611424dc190f1036bf617df9f",
       "version_major": 2,
       "version_minor": 0
      },
      "text/plain": [
       "Canvas(toolbar=Toolbar(toolitems=[('Home', 'Reset original view', 'home', 'home'), ('Back', 'Back to previous …"
      ]
     },
     "metadata": {},
     "output_type": "display_data"
    },
    {
     "data": {
      "application/vnd.jupyter.widget-view+json": {
       "model_id": "0735d6e0e07b4b5786ad07042b8bfe9a",
       "version_major": 2,
       "version_minor": 0
      },
      "text/plain": [
       "Canvas(toolbar=Toolbar(toolitems=[('Home', 'Reset original view', 'home', 'home'), ('Back', 'Back to previous …"
      ]
     },
     "metadata": {},
     "output_type": "display_data"
    },
    {
     "data": {
      "application/vnd.jupyter.widget-view+json": {
       "model_id": "e709c37d62bf4d619350dd77c4dceea8",
       "version_major": 2,
       "version_minor": 0
      },
      "text/plain": [
       "Canvas(toolbar=Toolbar(toolitems=[('Home', 'Reset original view', 'home', 'home'), ('Back', 'Back to previous …"
      ]
     },
     "metadata": {},
     "output_type": "display_data"
    },
    {
     "data": {
      "application/vnd.jupyter.widget-view+json": {
       "model_id": "ac540c7d2f3d44a9b37333f34f40bc5b",
       "version_major": 2,
       "version_minor": 0
      },
      "text/plain": [
       "Canvas(toolbar=Toolbar(toolitems=[('Home', 'Reset original view', 'home', 'home'), ('Back', 'Back to previous …"
      ]
     },
     "metadata": {},
     "output_type": "display_data"
    },
    {
     "data": {
      "application/vnd.jupyter.widget-view+json": {
       "model_id": "1a6e686c3e5747dcb8faae3e27b2d636",
       "version_major": 2,
       "version_minor": 0
      },
      "text/plain": [
       "Canvas(toolbar=Toolbar(toolitems=[('Home', 'Reset original view', 'home', 'home'), ('Back', 'Back to previous …"
      ]
     },
     "metadata": {},
     "output_type": "display_data"
    },
    {
     "data": {
      "application/vnd.jupyter.widget-view+json": {
       "model_id": "2c17a1d963be48f997a0685c2804790f",
       "version_major": 2,
       "version_minor": 0
      },
      "text/plain": [
       "Canvas(toolbar=Toolbar(toolitems=[('Home', 'Reset original view', 'home', 'home'), ('Back', 'Back to previous …"
      ]
     },
     "metadata": {},
     "output_type": "display_data"
    },
    {
     "data": {
      "application/vnd.jupyter.widget-view+json": {
       "model_id": "05e2d8e34ee24cd5bc8c60cb586bc8d2",
       "version_major": 2,
       "version_minor": 0
      },
      "text/plain": [
       "Canvas(toolbar=Toolbar(toolitems=[('Home', 'Reset original view', 'home', 'home'), ('Back', 'Back to previous …"
      ]
     },
     "metadata": {},
     "output_type": "display_data"
    },
    {
     "data": {
      "application/vnd.jupyter.widget-view+json": {
       "model_id": "fce9261c183f42e3a8bb67f551513104",
       "version_major": 2,
       "version_minor": 0
      },
      "text/plain": [
       "Canvas(toolbar=Toolbar(toolitems=[('Home', 'Reset original view', 'home', 'home'), ('Back', 'Back to previous …"
      ]
     },
     "metadata": {},
     "output_type": "display_data"
    },
    {
     "data": {
      "application/vnd.jupyter.widget-view+json": {
       "model_id": "476f1c9804f949b2a7d1122a4cc9d1ee",
       "version_major": 2,
       "version_minor": 0
      },
      "text/plain": [
       "Canvas(toolbar=Toolbar(toolitems=[('Home', 'Reset original view', 'home', 'home'), ('Back', 'Back to previous …"
      ]
     },
     "metadata": {},
     "output_type": "display_data"
    },
    {
     "data": {
      "application/vnd.jupyter.widget-view+json": {
       "model_id": "04a749af2e9b4cbe8492d53b9579414a",
       "version_major": 2,
       "version_minor": 0
      },
      "text/plain": [
       "Canvas(toolbar=Toolbar(toolitems=[('Home', 'Reset original view', 'home', 'home'), ('Back', 'Back to previous …"
      ]
     },
     "metadata": {},
     "output_type": "display_data"
    },
    {
     "data": {
      "application/vnd.jupyter.widget-view+json": {
       "model_id": "ebc1e26b649e469a8bc471eda83e5b3a",
       "version_major": 2,
       "version_minor": 0
      },
      "text/plain": [
       "Canvas(toolbar=Toolbar(toolitems=[('Home', 'Reset original view', 'home', 'home'), ('Back', 'Back to previous …"
      ]
     },
     "metadata": {},
     "output_type": "display_data"
    },
    {
     "data": {
      "application/vnd.jupyter.widget-view+json": {
       "model_id": "f441778ec06e45e589b0ee620e8223b3",
       "version_major": 2,
       "version_minor": 0
      },
      "text/plain": [
       "Canvas(toolbar=Toolbar(toolitems=[('Home', 'Reset original view', 'home', 'home'), ('Back', 'Back to previous …"
      ]
     },
     "metadata": {},
     "output_type": "display_data"
    },
    {
     "data": {
      "application/vnd.jupyter.widget-view+json": {
       "model_id": "a9e06412ed374476aadf16f942bbcf43",
       "version_major": 2,
       "version_minor": 0
      },
      "text/plain": [
       "Canvas(toolbar=Toolbar(toolitems=[('Home', 'Reset original view', 'home', 'home'), ('Back', 'Back to previous …"
      ]
     },
     "metadata": {},
     "output_type": "display_data"
    },
    {
     "data": {
      "application/vnd.jupyter.widget-view+json": {
       "model_id": "ef52caafc2f54d73b9e71de88cb14787",
       "version_major": 2,
       "version_minor": 0
      },
      "text/plain": [
       "Canvas(toolbar=Toolbar(toolitems=[('Home', 'Reset original view', 'home', 'home'), ('Back', 'Back to previous …"
      ]
     },
     "metadata": {},
     "output_type": "display_data"
    },
    {
     "data": {
      "application/vnd.jupyter.widget-view+json": {
       "model_id": "a67ff363d62744289782e3b79c3fc5a6",
       "version_major": 2,
       "version_minor": 0
      },
      "text/plain": [
       "Canvas(toolbar=Toolbar(toolitems=[('Home', 'Reset original view', 'home', 'home'), ('Back', 'Back to previous …"
      ]
     },
     "metadata": {},
     "output_type": "display_data"
    },
    {
     "data": {
      "application/vnd.jupyter.widget-view+json": {
       "model_id": "2d5580082df0427badfa022de39faf0f",
       "version_major": 2,
       "version_minor": 0
      },
      "text/plain": [
       "Canvas(toolbar=Toolbar(toolitems=[('Home', 'Reset original view', 'home', 'home'), ('Back', 'Back to previous …"
      ]
     },
     "metadata": {},
     "output_type": "display_data"
    },
    {
     "data": {
      "application/vnd.jupyter.widget-view+json": {
       "model_id": "996252c84e2943c6a87b64cca30bcc81",
       "version_major": 2,
       "version_minor": 0
      },
      "text/plain": [
       "Canvas(toolbar=Toolbar(toolitems=[('Home', 'Reset original view', 'home', 'home'), ('Back', 'Back to previous …"
      ]
     },
     "metadata": {},
     "output_type": "display_data"
    },
    {
     "data": {
      "application/vnd.jupyter.widget-view+json": {
       "model_id": "88e1cfedb78345d08979fb8ab7894693",
       "version_major": 2,
       "version_minor": 0
      },
      "text/plain": [
       "Canvas(toolbar=Toolbar(toolitems=[('Home', 'Reset original view', 'home', 'home'), ('Back', 'Back to previous …"
      ]
     },
     "metadata": {},
     "output_type": "display_data"
    },
    {
     "data": {
      "application/vnd.jupyter.widget-view+json": {
       "model_id": "a2b21bddc3b8456fb828b6a5aa6c0f0f",
       "version_major": 2,
       "version_minor": 0
      },
      "text/plain": [
       "Canvas(toolbar=Toolbar(toolitems=[('Home', 'Reset original view', 'home', 'home'), ('Back', 'Back to previous …"
      ]
     },
     "metadata": {},
     "output_type": "display_data"
    },
    {
     "data": {
      "application/vnd.jupyter.widget-view+json": {
       "model_id": "2eb4fff0edfc405b9f37fe8672666e1b",
       "version_major": 2,
       "version_minor": 0
      },
      "text/plain": [
       "Canvas(toolbar=Toolbar(toolitems=[('Home', 'Reset original view', 'home', 'home'), ('Back', 'Back to previous …"
      ]
     },
     "metadata": {},
     "output_type": "display_data"
    },
    {
     "data": {
      "application/vnd.jupyter.widget-view+json": {
       "model_id": "e7b4854758804f28a316df0f8ff7ed66",
       "version_major": 2,
       "version_minor": 0
      },
      "text/plain": [
       "Canvas(toolbar=Toolbar(toolitems=[('Home', 'Reset original view', 'home', 'home'), ('Back', 'Back to previous …"
      ]
     },
     "metadata": {},
     "output_type": "display_data"
    },
    {
     "data": {
      "application/vnd.jupyter.widget-view+json": {
       "model_id": "a9acc1ac1a9a4d4e8572829d03216e2c",
       "version_major": 2,
       "version_minor": 0
      },
      "text/plain": [
       "Canvas(toolbar=Toolbar(toolitems=[('Home', 'Reset original view', 'home', 'home'), ('Back', 'Back to previous …"
      ]
     },
     "metadata": {},
     "output_type": "display_data"
    },
    {
     "data": {
      "application/vnd.jupyter.widget-view+json": {
       "model_id": "f3483b268ae143f5ba5efb83afcc8458",
       "version_major": 2,
       "version_minor": 0
      },
      "text/plain": [
       "Canvas(toolbar=Toolbar(toolitems=[('Home', 'Reset original view', 'home', 'home'), ('Back', 'Back to previous …"
      ]
     },
     "metadata": {},
     "output_type": "display_data"
    },
    {
     "data": {
      "application/vnd.jupyter.widget-view+json": {
       "model_id": "272462845ef4477a99eb3233cead547b",
       "version_major": 2,
       "version_minor": 0
      },
      "text/plain": [
       "Canvas(toolbar=Toolbar(toolitems=[('Home', 'Reset original view', 'home', 'home'), ('Back', 'Back to previous …"
      ]
     },
     "metadata": {},
     "output_type": "display_data"
    },
    {
     "data": {
      "application/vnd.jupyter.widget-view+json": {
       "model_id": "32797279256842089fb0a2e07c8ebdac",
       "version_major": 2,
       "version_minor": 0
      },
      "text/plain": [
       "Canvas(toolbar=Toolbar(toolitems=[('Home', 'Reset original view', 'home', 'home'), ('Back', 'Back to previous …"
      ]
     },
     "metadata": {},
     "output_type": "display_data"
    },
    {
     "data": {
      "application/vnd.jupyter.widget-view+json": {
       "model_id": "ab76e1a8d0a34894b4eb81566192b7d6",
       "version_major": 2,
       "version_minor": 0
      },
      "text/plain": [
       "Canvas(toolbar=Toolbar(toolitems=[('Home', 'Reset original view', 'home', 'home'), ('Back', 'Back to previous …"
      ]
     },
     "metadata": {},
     "output_type": "display_data"
    },
    {
     "data": {
      "application/vnd.jupyter.widget-view+json": {
       "model_id": "cec78bd8e7904118988abff2b0d9c40d",
       "version_major": 2,
       "version_minor": 0
      },
      "text/plain": [
       "Canvas(toolbar=Toolbar(toolitems=[('Home', 'Reset original view', 'home', 'home'), ('Back', 'Back to previous …"
      ]
     },
     "metadata": {},
     "output_type": "display_data"
    },
    {
     "data": {
      "application/vnd.jupyter.widget-view+json": {
       "model_id": "ed734975710f4e12bfbdcee90a8253b7",
       "version_major": 2,
       "version_minor": 0
      },
      "text/plain": [
       "Canvas(toolbar=Toolbar(toolitems=[('Home', 'Reset original view', 'home', 'home'), ('Back', 'Back to previous …"
      ]
     },
     "metadata": {},
     "output_type": "display_data"
    },
    {
     "data": {
      "application/vnd.jupyter.widget-view+json": {
       "model_id": "4f7b2412f8fd4749859cc7942cd5b5d4",
       "version_major": 2,
       "version_minor": 0
      },
      "text/plain": [
       "Canvas(toolbar=Toolbar(toolitems=[('Home', 'Reset original view', 'home', 'home'), ('Back', 'Back to previous …"
      ]
     },
     "metadata": {},
     "output_type": "display_data"
    },
    {
     "data": {
      "application/vnd.jupyter.widget-view+json": {
       "model_id": "a8865abb441f49378da5e5a98ca0559e",
       "version_major": 2,
       "version_minor": 0
      },
      "text/plain": [
       "Canvas(toolbar=Toolbar(toolitems=[('Home', 'Reset original view', 'home', 'home'), ('Back', 'Back to previous …"
      ]
     },
     "metadata": {},
     "output_type": "display_data"
    },
    {
     "data": {
      "application/vnd.jupyter.widget-view+json": {
       "model_id": "353e724ff7324d8a9c8c80afabd16919",
       "version_major": 2,
       "version_minor": 0
      },
      "text/plain": [
       "Canvas(toolbar=Toolbar(toolitems=[('Home', 'Reset original view', 'home', 'home'), ('Back', 'Back to previous …"
      ]
     },
     "metadata": {},
     "output_type": "display_data"
    },
    {
     "data": {
      "application/vnd.jupyter.widget-view+json": {
       "model_id": "b21132dc467f4eeaad848d30e042cb55",
       "version_major": 2,
       "version_minor": 0
      },
      "text/plain": [
       "Canvas(toolbar=Toolbar(toolitems=[('Home', 'Reset original view', 'home', 'home'), ('Back', 'Back to previous …"
      ]
     },
     "metadata": {},
     "output_type": "display_data"
    },
    {
     "data": {
      "application/vnd.jupyter.widget-view+json": {
       "model_id": "86be3740f2074f80a49c27274cf5345c",
       "version_major": 2,
       "version_minor": 0
      },
      "text/plain": [
       "Canvas(toolbar=Toolbar(toolitems=[('Home', 'Reset original view', 'home', 'home'), ('Back', 'Back to previous …"
      ]
     },
     "metadata": {},
     "output_type": "display_data"
    },
    {
     "data": {
      "application/vnd.jupyter.widget-view+json": {
       "model_id": "c13c6ac2a19e4d8f93ad677d7755f0c9",
       "version_major": 2,
       "version_minor": 0
      },
      "text/plain": [
       "Canvas(toolbar=Toolbar(toolitems=[('Home', 'Reset original view', 'home', 'home'), ('Back', 'Back to previous …"
      ]
     },
     "metadata": {},
     "output_type": "display_data"
    },
    {
     "data": {
      "application/vnd.jupyter.widget-view+json": {
       "model_id": "5fba58769ad04ea5b32e1825fac1134c",
       "version_major": 2,
       "version_minor": 0
      },
      "text/plain": [
       "Canvas(toolbar=Toolbar(toolitems=[('Home', 'Reset original view', 'home', 'home'), ('Back', 'Back to previous …"
      ]
     },
     "metadata": {},
     "output_type": "display_data"
    },
    {
     "data": {
      "application/vnd.jupyter.widget-view+json": {
       "model_id": "ee7ebed6480b4bf8bf49465d300644c8",
       "version_major": 2,
       "version_minor": 0
      },
      "text/plain": [
       "Canvas(toolbar=Toolbar(toolitems=[('Home', 'Reset original view', 'home', 'home'), ('Back', 'Back to previous …"
      ]
     },
     "metadata": {},
     "output_type": "display_data"
    },
    {
     "data": {
      "application/vnd.jupyter.widget-view+json": {
       "model_id": "b7a5b7ff92674b178aa2f285e949b243",
       "version_major": 2,
       "version_minor": 0
      },
      "text/plain": [
       "Canvas(toolbar=Toolbar(toolitems=[('Home', 'Reset original view', 'home', 'home'), ('Back', 'Back to previous …"
      ]
     },
     "metadata": {},
     "output_type": "display_data"
    },
    {
     "data": {
      "application/vnd.jupyter.widget-view+json": {
       "model_id": "5f87216af8404412870c9ffcfd93d4b0",
       "version_major": 2,
       "version_minor": 0
      },
      "text/plain": [
       "Canvas(toolbar=Toolbar(toolitems=[('Home', 'Reset original view', 'home', 'home'), ('Back', 'Back to previous …"
      ]
     },
     "metadata": {},
     "output_type": "display_data"
    },
    {
     "data": {
      "application/vnd.jupyter.widget-view+json": {
       "model_id": "0f6f49163a814a9db09afdf18fef9373",
       "version_major": 2,
       "version_minor": 0
      },
      "text/plain": [
       "Canvas(toolbar=Toolbar(toolitems=[('Home', 'Reset original view', 'home', 'home'), ('Back', 'Back to previous …"
      ]
     },
     "metadata": {},
     "output_type": "display_data"
    },
    {
     "data": {
      "application/vnd.jupyter.widget-view+json": {
       "model_id": "8741990b261d46e196258bea2a01c638",
       "version_major": 2,
       "version_minor": 0
      },
      "text/plain": [
       "Canvas(toolbar=Toolbar(toolitems=[('Home', 'Reset original view', 'home', 'home'), ('Back', 'Back to previous …"
      ]
     },
     "metadata": {},
     "output_type": "display_data"
    },
    {
     "data": {
      "application/vnd.jupyter.widget-view+json": {
       "model_id": "00db54fdf6814f65b193bc2a8b65272a",
       "version_major": 2,
       "version_minor": 0
      },
      "text/plain": [
       "Canvas(toolbar=Toolbar(toolitems=[('Home', 'Reset original view', 'home', 'home'), ('Back', 'Back to previous …"
      ]
     },
     "metadata": {},
     "output_type": "display_data"
    },
    {
     "data": {
      "application/vnd.jupyter.widget-view+json": {
       "model_id": "8a66a76a22d449bb97281172dad8c320",
       "version_major": 2,
       "version_minor": 0
      },
      "text/plain": [
       "Canvas(toolbar=Toolbar(toolitems=[('Home', 'Reset original view', 'home', 'home'), ('Back', 'Back to previous …"
      ]
     },
     "metadata": {},
     "output_type": "display_data"
    },
    {
     "data": {
      "application/vnd.jupyter.widget-view+json": {
       "model_id": "0bd43846c2794664b51f18837d2c0c2a",
       "version_major": 2,
       "version_minor": 0
      },
      "text/plain": [
       "Canvas(toolbar=Toolbar(toolitems=[('Home', 'Reset original view', 'home', 'home'), ('Back', 'Back to previous …"
      ]
     },
     "metadata": {},
     "output_type": "display_data"
    },
    {
     "data": {
      "application/vnd.jupyter.widget-view+json": {
       "model_id": "ac6c02d362504d7a95443b24b6840800",
       "version_major": 2,
       "version_minor": 0
      },
      "text/plain": [
       "Canvas(toolbar=Toolbar(toolitems=[('Home', 'Reset original view', 'home', 'home'), ('Back', 'Back to previous …"
      ]
     },
     "metadata": {},
     "output_type": "display_data"
    },
    {
     "data": {
      "application/vnd.jupyter.widget-view+json": {
       "model_id": "e053d5b249d44da691a57428cf1c4f17",
       "version_major": 2,
       "version_minor": 0
      },
      "text/plain": [
       "Canvas(toolbar=Toolbar(toolitems=[('Home', 'Reset original view', 'home', 'home'), ('Back', 'Back to previous …"
      ]
     },
     "metadata": {},
     "output_type": "display_data"
    },
    {
     "data": {
      "application/vnd.jupyter.widget-view+json": {
       "model_id": "e46863296ad144a9ab9c6b0901c6820f",
       "version_major": 2,
       "version_minor": 0
      },
      "text/plain": [
       "Canvas(toolbar=Toolbar(toolitems=[('Home', 'Reset original view', 'home', 'home'), ('Back', 'Back to previous …"
      ]
     },
     "metadata": {},
     "output_type": "display_data"
    },
    {
     "data": {
      "application/vnd.jupyter.widget-view+json": {
       "model_id": "6af97ae1f8ec4bdf871fc2151e613e63",
       "version_major": 2,
       "version_minor": 0
      },
      "text/plain": [
       "Canvas(toolbar=Toolbar(toolitems=[('Home', 'Reset original view', 'home', 'home'), ('Back', 'Back to previous …"
      ]
     },
     "metadata": {},
     "output_type": "display_data"
    },
    {
     "data": {
      "application/vnd.jupyter.widget-view+json": {
       "model_id": "8fd56773a86f4ef7a05f6b904da7684d",
       "version_major": 2,
       "version_minor": 0
      },
      "text/plain": [
       "Canvas(toolbar=Toolbar(toolitems=[('Home', 'Reset original view', 'home', 'home'), ('Back', 'Back to previous …"
      ]
     },
     "metadata": {},
     "output_type": "display_data"
    },
    {
     "data": {
      "application/vnd.jupyter.widget-view+json": {
       "model_id": "82b24352149c4782a64f567568ceab70",
       "version_major": 2,
       "version_minor": 0
      },
      "text/plain": [
       "Canvas(toolbar=Toolbar(toolitems=[('Home', 'Reset original view', 'home', 'home'), ('Back', 'Back to previous …"
      ]
     },
     "metadata": {},
     "output_type": "display_data"
    },
    {
     "data": {
      "application/vnd.jupyter.widget-view+json": {
       "model_id": "90a38d6715cd4481ad966a71055cd3b6",
       "version_major": 2,
       "version_minor": 0
      },
      "text/plain": [
       "Canvas(toolbar=Toolbar(toolitems=[('Home', 'Reset original view', 'home', 'home'), ('Back', 'Back to previous …"
      ]
     },
     "metadata": {},
     "output_type": "display_data"
    },
    {
     "data": {
      "application/vnd.jupyter.widget-view+json": {
       "model_id": "92f4a08b70374f22be670d5dacfcb4fa",
       "version_major": 2,
       "version_minor": 0
      },
      "text/plain": [
       "Canvas(toolbar=Toolbar(toolitems=[('Home', 'Reset original view', 'home', 'home'), ('Back', 'Back to previous …"
      ]
     },
     "metadata": {},
     "output_type": "display_data"
    },
    {
     "data": {
      "application/vnd.jupyter.widget-view+json": {
       "model_id": "6777addacec64fada7ec00eadb4385b2",
       "version_major": 2,
       "version_minor": 0
      },
      "text/plain": [
       "Canvas(toolbar=Toolbar(toolitems=[('Home', 'Reset original view', 'home', 'home'), ('Back', 'Back to previous …"
      ]
     },
     "metadata": {},
     "output_type": "display_data"
    },
    {
     "data": {
      "application/vnd.jupyter.widget-view+json": {
       "model_id": "cbcb5bbfb73b4f0aa4143f027d0d4a5b",
       "version_major": 2,
       "version_minor": 0
      },
      "text/plain": [
       "Canvas(toolbar=Toolbar(toolitems=[('Home', 'Reset original view', 'home', 'home'), ('Back', 'Back to previous …"
      ]
     },
     "metadata": {},
     "output_type": "display_data"
    },
    {
     "data": {
      "application/vnd.jupyter.widget-view+json": {
       "model_id": "432beda6e8f049caa8bb121b10d2f6f6",
       "version_major": 2,
       "version_minor": 0
      },
      "text/plain": [
       "Canvas(toolbar=Toolbar(toolitems=[('Home', 'Reset original view', 'home', 'home'), ('Back', 'Back to previous …"
      ]
     },
     "metadata": {},
     "output_type": "display_data"
    },
    {
     "data": {
      "application/vnd.jupyter.widget-view+json": {
       "model_id": "e712d03254ef4a06bdc32210e672b28f",
       "version_major": 2,
       "version_minor": 0
      },
      "text/plain": [
       "Canvas(toolbar=Toolbar(toolitems=[('Home', 'Reset original view', 'home', 'home'), ('Back', 'Back to previous …"
      ]
     },
     "metadata": {},
     "output_type": "display_data"
    },
    {
     "data": {
      "application/vnd.jupyter.widget-view+json": {
       "model_id": "a5302356a1254a2fa20d0dc06dceb693",
       "version_major": 2,
       "version_minor": 0
      },
      "text/plain": [
       "Canvas(toolbar=Toolbar(toolitems=[('Home', 'Reset original view', 'home', 'home'), ('Back', 'Back to previous …"
      ]
     },
     "metadata": {},
     "output_type": "display_data"
    },
    {
     "data": {
      "application/vnd.jupyter.widget-view+json": {
       "model_id": "ab55c822fd544c82bdfa8d5d658dc8bd",
       "version_major": 2,
       "version_minor": 0
      },
      "text/plain": [
       "Canvas(toolbar=Toolbar(toolitems=[('Home', 'Reset original view', 'home', 'home'), ('Back', 'Back to previous …"
      ]
     },
     "metadata": {},
     "output_type": "display_data"
    },
    {
     "data": {
      "application/vnd.jupyter.widget-view+json": {
       "model_id": "b7c04b87961a4df1989c4ab4d023b3cf",
       "version_major": 2,
       "version_minor": 0
      },
      "text/plain": [
       "Canvas(toolbar=Toolbar(toolitems=[('Home', 'Reset original view', 'home', 'home'), ('Back', 'Back to previous …"
      ]
     },
     "metadata": {},
     "output_type": "display_data"
    },
    {
     "data": {
      "application/vnd.jupyter.widget-view+json": {
       "model_id": "2e6d1b8c9b484f0cb255a50f2a9d342d",
       "version_major": 2,
       "version_minor": 0
      },
      "text/plain": [
       "Canvas(toolbar=Toolbar(toolitems=[('Home', 'Reset original view', 'home', 'home'), ('Back', 'Back to previous …"
      ]
     },
     "metadata": {},
     "output_type": "display_data"
    },
    {
     "data": {
      "application/vnd.jupyter.widget-view+json": {
       "model_id": "5bc8f500d3dd4119b7b6d12b56c7402f",
       "version_major": 2,
       "version_minor": 0
      },
      "text/plain": [
       "Canvas(toolbar=Toolbar(toolitems=[('Home', 'Reset original view', 'home', 'home'), ('Back', 'Back to previous …"
      ]
     },
     "metadata": {},
     "output_type": "display_data"
    },
    {
     "data": {
      "application/vnd.jupyter.widget-view+json": {
       "model_id": "22079d5472274ed0933cb1f067d650af",
       "version_major": 2,
       "version_minor": 0
      },
      "text/plain": [
       "Canvas(toolbar=Toolbar(toolitems=[('Home', 'Reset original view', 'home', 'home'), ('Back', 'Back to previous …"
      ]
     },
     "metadata": {},
     "output_type": "display_data"
    },
    {
     "data": {
      "application/vnd.jupyter.widget-view+json": {
       "model_id": "fcb00c0ebc9c453aae398cbc0b5f26fc",
       "version_major": 2,
       "version_minor": 0
      },
      "text/plain": [
       "Canvas(toolbar=Toolbar(toolitems=[('Home', 'Reset original view', 'home', 'home'), ('Back', 'Back to previous …"
      ]
     },
     "metadata": {},
     "output_type": "display_data"
    },
    {
     "data": {
      "application/vnd.jupyter.widget-view+json": {
       "model_id": "a698f2974be04136bf65e9071da16e5a",
       "version_major": 2,
       "version_minor": 0
      },
      "text/plain": [
       "Canvas(toolbar=Toolbar(toolitems=[('Home', 'Reset original view', 'home', 'home'), ('Back', 'Back to previous …"
      ]
     },
     "metadata": {},
     "output_type": "display_data"
    },
    {
     "data": {
      "application/vnd.jupyter.widget-view+json": {
       "model_id": "aabcaeb9c8d143acbf3915c4bb77ea42",
       "version_major": 2,
       "version_minor": 0
      },
      "text/plain": [
       "Canvas(toolbar=Toolbar(toolitems=[('Home', 'Reset original view', 'home', 'home'), ('Back', 'Back to previous …"
      ]
     },
     "metadata": {},
     "output_type": "display_data"
    },
    {
     "data": {
      "application/vnd.jupyter.widget-view+json": {
       "model_id": "bc952d7b38854d639225205dad4bf3e1",
       "version_major": 2,
       "version_minor": 0
      },
      "text/plain": [
       "Canvas(toolbar=Toolbar(toolitems=[('Home', 'Reset original view', 'home', 'home'), ('Back', 'Back to previous …"
      ]
     },
     "metadata": {},
     "output_type": "display_data"
    },
    {
     "data": {
      "application/vnd.jupyter.widget-view+json": {
       "model_id": "817c644382db462fbe98a9c25f5d99c6",
       "version_major": 2,
       "version_minor": 0
      },
      "text/plain": [
       "Canvas(toolbar=Toolbar(toolitems=[('Home', 'Reset original view', 'home', 'home'), ('Back', 'Back to previous …"
      ]
     },
     "metadata": {},
     "output_type": "display_data"
    }
   ],
   "source": [
    "# Create separate pngs then compile them into gif using `convert -delay 10 -loop 0 circ_spider-*.png circ_spider.gif`\n",
    "# We can also use the matplotlib.animation API to create animations directly but I find this way is much easier\n",
    "\n",
    "for r_idx, r in enumerate(np.linspace(1.00, 0.25, 120)):\n",
    "    plt.close(fig)\n",
    "    fig, ax = plt.subplots(figsize=(5.5, 5))\n",
    "\n",
    "    plot_vector_field(B, ax=ax, xmin=-1.1, xmax=1.1, ymin=-1.1, ymax=1.1, xstep=0.15, ystep=0.15, alpha=0.15)\n",
    "    ax.plot(r * np.cos(t), r * np.sin(t), zorder=0, alpha=0.5, c=c_blue)\n",
    "    plot_ring_vectors(ax, B, r=r)\n",
    "\n",
    "    plot_axes(ax)\n",
    "    ax.set_xlim([-1.2, 1.2])\n",
    "    ax.set_ylim([-1.2, 1.2])\n",
    "\n",
    "    plt.savefig(\"figures/circ_spider-%d.png\" % r_idx)"
   ]
  },
  {
   "cell_type": "code",
   "execution_count": 13,
   "metadata": {},
   "outputs": [
    {
     "data": {
      "application/vnd.jupyter.widget-view+json": {
       "model_id": "604bf0ab3243460e8af0c7f925629f12",
       "version_major": 2,
       "version_minor": 0
      },
      "text/plain": [
       "Canvas(toolbar=Toolbar(toolitems=[('Home', 'Reset original view', 'home', 'home'), ('Back', 'Back to previous …"
      ]
     },
     "metadata": {},
     "output_type": "display_data"
    }
   ],
   "source": [
    "plt.close(fig)\n",
    "fig, ax = plt.subplots(figsize=(5.5, 5))\n",
    "\n",
    "t = np.arange(0, 2 * np.pi, 0.01)\n",
    "ax.plot(np.cos(t), np.sin(t), zorder=0, alpha=0.5)\n",
    "\n",
    "\n",
    "B = np.array([[ 0.23353769, -0.72409208],\n",
    "              [ 0.47590793, -0.53353769]])\n",
    "theta = 0.705 * 2 * np.pi\n",
    "sol = solve_ivp(lambda t, x: B @ x, [0, 30], [1.2 * np.cos(theta), 1.2 * np.sin(theta)], max_step=0.01)\n",
    "ax.plot(sol.y[0, :], sol.y[1, :])\n",
    "plot_vector_field(B, ax=ax, xmin=-1.25, xmax=1.25, ymin=-1.25, ymax=1.25, xstep=0.10, ystep=0.10, alpha=0.2)\n",
    "ax.arrow(sol.y[0, 100], sol.y[1, 100], sol.y[0, 101] - sol.y[0, 100], sol.y[1, 101] - sol.y[1, 100], \n",
    "        shape='full', lw=0, length_includes_head=False, head_width=.05, color=c_orange)\n",
    "\n",
    "\n",
    "indices = np.where(np.abs(np.linalg.norm(sol.y, axis=0) - 1.0) < 0.01)[0]\n",
    "idx1 = indices[0]\n",
    "idx2 = indices[4]\n",
    "ax.scatter(sol.y[0, [idx1, idx2]], sol.y[1, [idx1, idx2]], c=[\"g\", \"r\"], zorder=11)\n",
    "\n",
    "\n",
    "v = B @ sol.y[:, idx1]\n",
    "v = v / np.linalg.norm(v)\n",
    "ax.arrow(sol.y[0, idx1], sol.y[1, idx1], 0.2 * v[0], 0.2 * v[1], \n",
    "        shape='full', lw=1, length_includes_head=False, head_width=.05, color=\"g\", zorder=10)\n",
    "ax.arrow(sol.y[0, idx1], sol.y[1, idx1], 0.2 * sol.y[0, idx1], 0.2 * sol.y[1, idx1], \n",
    "        shape='full', lw=1, length_includes_head=False, head_width=.05, color=c_blue)\n",
    "ax.text(sol.y[0, idx1]-0.15, sol.y[1, idx1] + 0.1, r\"$x(t_1)$\", c=\"g\")\n",
    "ax.text(sol.y[0, idx1]-0.15, sol.y[1, idx1] - 0.2, r\"$\\hat{n}$\", c=c_blue)\n",
    "ax.text(sol.y[0, idx1]-0.9, sol.y[1, idx1] - 0.1, r\"$\\langle \\hat{n}, \\dot{x}(t_1) \\rangle < 0$\", c=\"g\")\n",
    "\n",
    "\n",
    "v = B @ sol.y[:, idx2]\n",
    "v = v / np.linalg.norm(v)\n",
    "ax.arrow(sol.y[0, idx2], sol.y[1, idx2], 0.2 * v[0], 0.2 * v[1], \n",
    "        shape='full', lw=1, length_includes_head=False, head_width=.05, color=\"r\", zorder=10)\n",
    "ax.arrow(sol.y[0, idx2], sol.y[1, idx2], 0.2 * sol.y[0, idx2], 0.2 * sol.y[1, idx2], \n",
    "        shape='full', lw=1, length_includes_head=False, head_width=.05, color=c_blue)\n",
    "ax.text(sol.y[0, idx2] - 0.3, sol.y[1, idx2], r\"$x(t_2)$\", c=\"r\")\n",
    "ax.text(sol.y[0, idx2] + 0.1, sol.y[1, idx2] - 0.1, r\"$\\hat{n}$\", c=c_blue)\n",
    "ax.text(sol.y[0, idx2]-0.4, sol.y[1, idx2] + 0.6, r\"$\\langle \\hat{n}, \\dot{x}(t_2) \\rangle > 0$\", c=\"r\")\n",
    "\n",
    "\n",
    "plot_axes(ax)\n",
    "plt.savefig(\"figures/circle_fail.png\")"
   ]
  },
  {
   "cell_type": "code",
   "execution_count": 14,
   "metadata": {},
   "outputs": [
    {
     "data": {
      "application/vnd.jupyter.widget-view+json": {
       "model_id": "02f398ace5df4b71b6db9cb0d848f8c3",
       "version_major": 2,
       "version_minor": 0
      },
      "text/plain": [
       "Canvas(toolbar=Toolbar(toolitems=[('Home', 'Reset original view', 'home', 'home'), ('Back', 'Back to previous …"
      ]
     },
     "metadata": {},
     "output_type": "display_data"
    }
   ],
   "source": [
    "try:\n",
    "    plt.close(fig)\n",
    "except NameError:\n",
    "    pass\n",
    "\n",
    "fig, ax = plt.subplots(figsize=(5.5, 5))\n",
    "\n",
    "t = np.arange(0, 2 * np.pi, 0.01)\n",
    "r = 1.0\n",
    "ax.plot(r * np.cos(t), r * np.sin(t), zorder=0, alpha=0.5)\n",
    "\n",
    "plot_axes(ax)\n",
    "plot_vector_field(B, ax=ax, xmin=-1.1, xmax=1.1, ymin=-1.1, ymax=1.1, xstep=0.10, ystep=0.10, alpha=0.15)\n",
    "plot_ring_vectors(ax, B, r=1.0)\n",
    "\n",
    "plt.savefig(\"figures/circle_fail_spider.png\")"
   ]
  },
  {
   "cell_type": "code",
   "execution_count": 15,
   "metadata": {},
   "outputs": [
    {
     "data": {
      "application/vnd.jupyter.widget-view+json": {
       "model_id": "1bb34934f0c247a6b1864d2eab73264c",
       "version_major": 2,
       "version_minor": 0
      },
      "text/plain": [
       "Canvas(toolbar=Toolbar(toolitems=[('Home', 'Reset original view', 'home', 'home'), ('Back', 'Back to previous …"
      ]
     },
     "metadata": {},
     "output_type": "display_data"
    }
   ],
   "source": [
    "from scipy.linalg import solve_lyapunov\n",
    "P = solve_lyapunov(B.T, -np.eye(2))\n",
    "\n",
    "plt.close(fig)\n",
    "fig, ax = plt.subplots(figsize=(5.5, 5))\n",
    "plot_axes(ax)\n",
    "\n",
    "x1 = np.arange(-1.1, 1.1, 0.01)\n",
    "x2 = np.arange(-1.1, 1.1, 0.01)\n",
    "X1, X2 = np.meshgrid(x1, x2)\n",
    "\n",
    "Z = X1 * P[0, 0] * X1 + X1 * P[0, 1] * X2 + X2 * P[1, 0] * X1 + X2 * P[1, 1] * X2\n",
    "\n",
    "contour = ax.contour(X1, X2, Z, levels=[0.1, 0.5, 1.0, 1.5, 2.0, 2.5, 3.0], cmap=\"rainbow_r\")\n",
    "ax.clabel(contour, inline=1, fontsize=10)\n",
    "ax.set_title(r\"Contour plot of $V(x)$\")\n",
    "\n",
    "E, V = np.linalg.eig(P)\n",
    "v1 = np.sqrt(3.0 / E[0]) * V[:, 0]\n",
    "v2 = np.sqrt(3.0 / E[1]) * V[:, 1]\n",
    "V = np.hstack((v1[:, np.newaxis], v2[:, np.newaxis]))\n",
    "theta = -6 * np.pi  / 4\n",
    "u = np.array([np.cos(theta), np.sin(theta)])\n",
    "x = np.dot(V, u)\n",
    "\n",
    "p = P @ x\n",
    "cmap = plt.get_cmap(\"rainbow_r\")\n",
    "\n",
    "ax.scatter(x[0], x[1], color=cmap(1.0))\n",
    "ax.arrow(x[0], x[1], 0.05 * p[0], 0.05 * p[1], \n",
    "        shape='full', lw=1, length_includes_head=False, head_width=.05, color=cmap(1.0))\n",
    "ax.text(x[0] + 0.2, x[1] -0.1, r\"$\\hat{n} = \\nabla V(x)$\", c=cmap(1.0))\n",
    "\n",
    "plot_vector_field(B, ax=ax, xmin=-1.1, xmax=1.1, ymin=-1.1, ymax=1.1, xstep=0.10, ystep=0.10, alpha=0.15)\n",
    "plt.savefig(\"figures/contour.png\")"
   ]
  },
  {
   "cell_type": "code",
   "execution_count": 18,
   "metadata": {},
   "outputs": [
    {
     "data": {
      "application/vnd.jupyter.widget-view+json": {
       "model_id": "1feeb2fdc81143f7a567f286207c2cbc",
       "version_major": 2,
       "version_minor": 0
      },
      "text/plain": [
       "Canvas(toolbar=Toolbar(toolitems=[('Home', 'Reset original view', 'home', 'home'), ('Back', 'Back to previous …"
      ]
     },
     "metadata": {},
     "output_type": "display_data"
    }
   ],
   "source": [
    "plt.close(fig)\n",
    "fig, ax = plt.subplots(figsize=(5.5, 5))\n",
    "plot_axes(ax)\n",
    "plot_vector_field(B, ax=ax, xmin=-1.1, xmax=1.1, ymin=-1.1, ymax=1.1, xstep=0.10, ystep=0.10, alpha=0.15)\n",
    "\n",
    "r = np.sqrt(2)\n",
    "plot_ellipse(ax, P, r=r)\n",
    "\n",
    "theta = 0.705 * 2 * np.pi\n",
    "sol = solve_ivp(lambda t, x: B @ x, [0, 30], [1.2 * np.cos(theta), 1.2 * np.sin(theta)], max_step=0.01)\n",
    "ax.plot(sol.y[0, :], sol.y[1, :], c=c_orange, label=r\"$x(t)$\")\n",
    "ax.arrow(sol.y[0, 100], sol.y[1, 100], sol.y[0, 101] - sol.y[0, 100], sol.y[1, 101] - sol.y[1, 100], \n",
    "        shape='full', lw=0, length_includes_head=False, head_width=.05, color=c_orange)\n",
    "\n",
    "U, S, V = np.linalg.svd(P)\n",
    "Psqrt = U @ np.diag(np.sqrt(S)) @ V\n",
    "indices = np.where(np.abs(np.linalg.norm(Psqrt @ sol.y, axis=0) - r) < 0.01)[0]\n",
    "idx1 = indices[0]\n",
    "ax.scatter(sol.y[0, idx1], sol.y[1, idx1], c=\"g\", zorder=11)\n",
    "\n",
    "v = B @ sol.y[:, idx1]\n",
    "v = v / np.linalg.norm(v)\n",
    "ax.arrow(sol.y[0, idx1], sol.y[1, idx1], 0.2 * v[0], 0.2 * v[1], \n",
    "        shape='full', lw=1, length_includes_head=False, head_width=.05, color=\"g\", zorder=10)\n",
    "ax.arrow(sol.y[0, idx1], sol.y[1, idx1], 0.2 * sol.y[0, idx1], 0.2 * sol.y[1, idx1], \n",
    "        shape='full', lw=1, length_includes_head=False, head_width=.05, color=c_blue)\n",
    "\n",
    "plt.savefig(\"figures/lyap_trajectory.png\")"
   ]
  },
  {
   "cell_type": "code",
   "execution_count": 19,
   "metadata": {},
   "outputs": [
    {
     "data": {
      "application/vnd.jupyter.widget-view+json": {
       "model_id": "c6ee3c793fdd418a9e6b9bca17147ccc",
       "version_major": 2,
       "version_minor": 0
      },
      "text/plain": [
       "Canvas(toolbar=Toolbar(toolitems=[('Home', 'Reset original view', 'home', 'home'), ('Back', 'Back to previous …"
      ]
     },
     "metadata": {},
     "output_type": "display_data"
    }
   ],
   "source": [
    "plt.close(fig)\n",
    "fig, ax = plt.subplots(figsize=(5.5, 5))\n",
    "\n",
    "plot_axes(ax)\n",
    "plot_vector_field(B, ax=ax, xmin=-1.1, xmax=1.1, ymin=-1.1, ymax=1.1, xstep=0.10, ystep=0.10, alpha=0.15)\n",
    "plot_ellipse(ax, P, r=1.5)\n",
    "plot_ring_vectors(ax, B, P, r=1.5)\n",
    "\n",
    "ax.set_xlim([-1.2, 1.2])\n",
    "ax.set_ylim([-1.2, 1.2])\n",
    "plt.savefig(\"figures/lyap_spider.png\")"
   ]
  },
  {
   "cell_type": "code",
   "execution_count": 21,
   "metadata": {},
   "outputs": [
    {
     "data": {
      "application/vnd.jupyter.widget-view+json": {
       "model_id": "c6dc9fc8e6414c73a0413aec9a132064",
       "version_major": 2,
       "version_minor": 0
      },
      "text/plain": [
       "Canvas(toolbar=Toolbar(toolitems=[('Home', 'Reset original view', 'home', 'home'), ('Back', 'Back to previous …"
      ]
     },
     "metadata": {},
     "output_type": "display_data"
    },
    {
     "data": {
      "application/vnd.jupyter.widget-view+json": {
       "model_id": "1ec0cf6f199c49b7ac4271607a5a90fd",
       "version_major": 2,
       "version_minor": 0
      },
      "text/plain": [
       "Canvas(toolbar=Toolbar(toolitems=[('Home', 'Reset original view', 'home', 'home'), ('Back', 'Back to previous …"
      ]
     },
     "metadata": {},
     "output_type": "display_data"
    },
    {
     "data": {
      "application/vnd.jupyter.widget-view+json": {
       "model_id": "b3adea2887be4d5bae85e3ba36bdfc98",
       "version_major": 2,
       "version_minor": 0
      },
      "text/plain": [
       "Canvas(toolbar=Toolbar(toolitems=[('Home', 'Reset original view', 'home', 'home'), ('Back', 'Back to previous …"
      ]
     },
     "metadata": {},
     "output_type": "display_data"
    },
    {
     "data": {
      "application/vnd.jupyter.widget-view+json": {
       "model_id": "e321cd163dfc492885456f21afdfb9fb",
       "version_major": 2,
       "version_minor": 0
      },
      "text/plain": [
       "Canvas(toolbar=Toolbar(toolitems=[('Home', 'Reset original view', 'home', 'home'), ('Back', 'Back to previous …"
      ]
     },
     "metadata": {},
     "output_type": "display_data"
    },
    {
     "data": {
      "application/vnd.jupyter.widget-view+json": {
       "model_id": "fbac95be7a824cf1b4f7e265c9609377",
       "version_major": 2,
       "version_minor": 0
      },
      "text/plain": [
       "Canvas(toolbar=Toolbar(toolitems=[('Home', 'Reset original view', 'home', 'home'), ('Back', 'Back to previous …"
      ]
     },
     "metadata": {},
     "output_type": "display_data"
    },
    {
     "data": {
      "application/vnd.jupyter.widget-view+json": {
       "model_id": "6d908964d62f4d3d9b36d0b10b29f7fd",
       "version_major": 2,
       "version_minor": 0
      },
      "text/plain": [
       "Canvas(toolbar=Toolbar(toolitems=[('Home', 'Reset original view', 'home', 'home'), ('Back', 'Back to previous …"
      ]
     },
     "metadata": {},
     "output_type": "display_data"
    },
    {
     "data": {
      "application/vnd.jupyter.widget-view+json": {
       "model_id": "2e2f2c1896614f75befe79ad8e62af4c",
       "version_major": 2,
       "version_minor": 0
      },
      "text/plain": [
       "Canvas(toolbar=Toolbar(toolitems=[('Home', 'Reset original view', 'home', 'home'), ('Back', 'Back to previous …"
      ]
     },
     "metadata": {},
     "output_type": "display_data"
    },
    {
     "data": {
      "application/vnd.jupyter.widget-view+json": {
       "model_id": "8f31c206c25c4d318b9257a7a94d967a",
       "version_major": 2,
       "version_minor": 0
      },
      "text/plain": [
       "Canvas(toolbar=Toolbar(toolitems=[('Home', 'Reset original view', 'home', 'home'), ('Back', 'Back to previous …"
      ]
     },
     "metadata": {},
     "output_type": "display_data"
    },
    {
     "data": {
      "application/vnd.jupyter.widget-view+json": {
       "model_id": "7631d33258c944a0a5016c07d2703de7",
       "version_major": 2,
       "version_minor": 0
      },
      "text/plain": [
       "Canvas(toolbar=Toolbar(toolitems=[('Home', 'Reset original view', 'home', 'home'), ('Back', 'Back to previous …"
      ]
     },
     "metadata": {},
     "output_type": "display_data"
    },
    {
     "data": {
      "application/vnd.jupyter.widget-view+json": {
       "model_id": "dc0b613073614742b3aab6459f102836",
       "version_major": 2,
       "version_minor": 0
      },
      "text/plain": [
       "Canvas(toolbar=Toolbar(toolitems=[('Home', 'Reset original view', 'home', 'home'), ('Back', 'Back to previous …"
      ]
     },
     "metadata": {},
     "output_type": "display_data"
    },
    {
     "data": {
      "application/vnd.jupyter.widget-view+json": {
       "model_id": "a43dd336f34b4348b47a17ee3feb30c6",
       "version_major": 2,
       "version_minor": 0
      },
      "text/plain": [
       "Canvas(toolbar=Toolbar(toolitems=[('Home', 'Reset original view', 'home', 'home'), ('Back', 'Back to previous …"
      ]
     },
     "metadata": {},
     "output_type": "display_data"
    },
    {
     "data": {
      "application/vnd.jupyter.widget-view+json": {
       "model_id": "f7555f3706e240fe930afc536b76350c",
       "version_major": 2,
       "version_minor": 0
      },
      "text/plain": [
       "Canvas(toolbar=Toolbar(toolitems=[('Home', 'Reset original view', 'home', 'home'), ('Back', 'Back to previous …"
      ]
     },
     "metadata": {},
     "output_type": "display_data"
    },
    {
     "data": {
      "application/vnd.jupyter.widget-view+json": {
       "model_id": "791a3cc1a0bb40e798d717c2ec5217c1",
       "version_major": 2,
       "version_minor": 0
      },
      "text/plain": [
       "Canvas(toolbar=Toolbar(toolitems=[('Home', 'Reset original view', 'home', 'home'), ('Back', 'Back to previous …"
      ]
     },
     "metadata": {},
     "output_type": "display_data"
    },
    {
     "data": {
      "application/vnd.jupyter.widget-view+json": {
       "model_id": "1fa3da7448f547ccbb5ec432176e9e8b",
       "version_major": 2,
       "version_minor": 0
      },
      "text/plain": [
       "Canvas(toolbar=Toolbar(toolitems=[('Home', 'Reset original view', 'home', 'home'), ('Back', 'Back to previous …"
      ]
     },
     "metadata": {},
     "output_type": "display_data"
    },
    {
     "data": {
      "application/vnd.jupyter.widget-view+json": {
       "model_id": "b9b37d1e08ab4c338b7cee812208a1da",
       "version_major": 2,
       "version_minor": 0
      },
      "text/plain": [
       "Canvas(toolbar=Toolbar(toolitems=[('Home', 'Reset original view', 'home', 'home'), ('Back', 'Back to previous …"
      ]
     },
     "metadata": {},
     "output_type": "display_data"
    },
    {
     "data": {
      "application/vnd.jupyter.widget-view+json": {
       "model_id": "084383477ac740048c3fdec0c644f55f",
       "version_major": 2,
       "version_minor": 0
      },
      "text/plain": [
       "Canvas(toolbar=Toolbar(toolitems=[('Home', 'Reset original view', 'home', 'home'), ('Back', 'Back to previous …"
      ]
     },
     "metadata": {},
     "output_type": "display_data"
    },
    {
     "data": {
      "application/vnd.jupyter.widget-view+json": {
       "model_id": "b30ec9e60f2543b8a886261213d34fb1",
       "version_major": 2,
       "version_minor": 0
      },
      "text/plain": [
       "Canvas(toolbar=Toolbar(toolitems=[('Home', 'Reset original view', 'home', 'home'), ('Back', 'Back to previous …"
      ]
     },
     "metadata": {},
     "output_type": "display_data"
    },
    {
     "data": {
      "application/vnd.jupyter.widget-view+json": {
       "model_id": "0b43b62be9944cd69c635d8937c50c43",
       "version_major": 2,
       "version_minor": 0
      },
      "text/plain": [
       "Canvas(toolbar=Toolbar(toolitems=[('Home', 'Reset original view', 'home', 'home'), ('Back', 'Back to previous …"
      ]
     },
     "metadata": {},
     "output_type": "display_data"
    },
    {
     "data": {
      "application/vnd.jupyter.widget-view+json": {
       "model_id": "a033f7e810f044a182e8588683cb7203",
       "version_major": 2,
       "version_minor": 0
      },
      "text/plain": [
       "Canvas(toolbar=Toolbar(toolitems=[('Home', 'Reset original view', 'home', 'home'), ('Back', 'Back to previous …"
      ]
     },
     "metadata": {},
     "output_type": "display_data"
    },
    {
     "data": {
      "application/vnd.jupyter.widget-view+json": {
       "model_id": "53b3df74ac0c4821a390d12f385758b5",
       "version_major": 2,
       "version_minor": 0
      },
      "text/plain": [
       "Canvas(toolbar=Toolbar(toolitems=[('Home', 'Reset original view', 'home', 'home'), ('Back', 'Back to previous …"
      ]
     },
     "metadata": {},
     "output_type": "display_data"
    },
    {
     "data": {
      "application/vnd.jupyter.widget-view+json": {
       "model_id": "0b15553610b04b88b92de2d7ee8328e5",
       "version_major": 2,
       "version_minor": 0
      },
      "text/plain": [
       "Canvas(toolbar=Toolbar(toolitems=[('Home', 'Reset original view', 'home', 'home'), ('Back', 'Back to previous …"
      ]
     },
     "metadata": {},
     "output_type": "display_data"
    },
    {
     "data": {
      "application/vnd.jupyter.widget-view+json": {
       "model_id": "ef7fab0b321f4f34bc731579cc6abd04",
       "version_major": 2,
       "version_minor": 0
      },
      "text/plain": [
       "Canvas(toolbar=Toolbar(toolitems=[('Home', 'Reset original view', 'home', 'home'), ('Back', 'Back to previous …"
      ]
     },
     "metadata": {},
     "output_type": "display_data"
    },
    {
     "data": {
      "application/vnd.jupyter.widget-view+json": {
       "model_id": "e5d7b96b4ad843f1a57a930f2295ea16",
       "version_major": 2,
       "version_minor": 0
      },
      "text/plain": [
       "Canvas(toolbar=Toolbar(toolitems=[('Home', 'Reset original view', 'home', 'home'), ('Back', 'Back to previous …"
      ]
     },
     "metadata": {},
     "output_type": "display_data"
    },
    {
     "data": {
      "application/vnd.jupyter.widget-view+json": {
       "model_id": "11167b8e60ae4e528d54eeeda6696b53",
       "version_major": 2,
       "version_minor": 0
      },
      "text/plain": [
       "Canvas(toolbar=Toolbar(toolitems=[('Home', 'Reset original view', 'home', 'home'), ('Back', 'Back to previous …"
      ]
     },
     "metadata": {},
     "output_type": "display_data"
    },
    {
     "data": {
      "application/vnd.jupyter.widget-view+json": {
       "model_id": "de6588b12a5c465c88f4ef6b13a8f567",
       "version_major": 2,
       "version_minor": 0
      },
      "text/plain": [
       "Canvas(toolbar=Toolbar(toolitems=[('Home', 'Reset original view', 'home', 'home'), ('Back', 'Back to previous …"
      ]
     },
     "metadata": {},
     "output_type": "display_data"
    },
    {
     "data": {
      "application/vnd.jupyter.widget-view+json": {
       "model_id": "4270e43c8eb943dc85f6ce93f66e41bf",
       "version_major": 2,
       "version_minor": 0
      },
      "text/plain": [
       "Canvas(toolbar=Toolbar(toolitems=[('Home', 'Reset original view', 'home', 'home'), ('Back', 'Back to previous …"
      ]
     },
     "metadata": {},
     "output_type": "display_data"
    },
    {
     "data": {
      "application/vnd.jupyter.widget-view+json": {
       "model_id": "2b1e150ebb4d4a8cbeb223037833e4e1",
       "version_major": 2,
       "version_minor": 0
      },
      "text/plain": [
       "Canvas(toolbar=Toolbar(toolitems=[('Home', 'Reset original view', 'home', 'home'), ('Back', 'Back to previous …"
      ]
     },
     "metadata": {},
     "output_type": "display_data"
    },
    {
     "data": {
      "application/vnd.jupyter.widget-view+json": {
       "model_id": "07a4b5ed91ca47a984061485000c08ac",
       "version_major": 2,
       "version_minor": 0
      },
      "text/plain": [
       "Canvas(toolbar=Toolbar(toolitems=[('Home', 'Reset original view', 'home', 'home'), ('Back', 'Back to previous …"
      ]
     },
     "metadata": {},
     "output_type": "display_data"
    },
    {
     "data": {
      "application/vnd.jupyter.widget-view+json": {
       "model_id": "8cc710055ccf4deb9f06d14d87ab019c",
       "version_major": 2,
       "version_minor": 0
      },
      "text/plain": [
       "Canvas(toolbar=Toolbar(toolitems=[('Home', 'Reset original view', 'home', 'home'), ('Back', 'Back to previous …"
      ]
     },
     "metadata": {},
     "output_type": "display_data"
    },
    {
     "data": {
      "application/vnd.jupyter.widget-view+json": {
       "model_id": "92e8c53b3f0f4b7f9f2d46257cd735f0",
       "version_major": 2,
       "version_minor": 0
      },
      "text/plain": [
       "Canvas(toolbar=Toolbar(toolitems=[('Home', 'Reset original view', 'home', 'home'), ('Back', 'Back to previous …"
      ]
     },
     "metadata": {},
     "output_type": "display_data"
    },
    {
     "data": {
      "application/vnd.jupyter.widget-view+json": {
       "model_id": "f4c7c46e4ac143eea61c310c2c644284",
       "version_major": 2,
       "version_minor": 0
      },
      "text/plain": [
       "Canvas(toolbar=Toolbar(toolitems=[('Home', 'Reset original view', 'home', 'home'), ('Back', 'Back to previous …"
      ]
     },
     "metadata": {},
     "output_type": "display_data"
    },
    {
     "data": {
      "application/vnd.jupyter.widget-view+json": {
       "model_id": "338c944a8b874c42942430d1efffa036",
       "version_major": 2,
       "version_minor": 0
      },
      "text/plain": [
       "Canvas(toolbar=Toolbar(toolitems=[('Home', 'Reset original view', 'home', 'home'), ('Back', 'Back to previous …"
      ]
     },
     "metadata": {},
     "output_type": "display_data"
    },
    {
     "data": {
      "application/vnd.jupyter.widget-view+json": {
       "model_id": "73186a454a9b481faac62d4452f713c1",
       "version_major": 2,
       "version_minor": 0
      },
      "text/plain": [
       "Canvas(toolbar=Toolbar(toolitems=[('Home', 'Reset original view', 'home', 'home'), ('Back', 'Back to previous …"
      ]
     },
     "metadata": {},
     "output_type": "display_data"
    },
    {
     "data": {
      "application/vnd.jupyter.widget-view+json": {
       "model_id": "0cd581ab770c45c1856c5b5276d9113a",
       "version_major": 2,
       "version_minor": 0
      },
      "text/plain": [
       "Canvas(toolbar=Toolbar(toolitems=[('Home', 'Reset original view', 'home', 'home'), ('Back', 'Back to previous …"
      ]
     },
     "metadata": {},
     "output_type": "display_data"
    },
    {
     "data": {
      "application/vnd.jupyter.widget-view+json": {
       "model_id": "1e0257e369244dea96b4c783c9a17565",
       "version_major": 2,
       "version_minor": 0
      },
      "text/plain": [
       "Canvas(toolbar=Toolbar(toolitems=[('Home', 'Reset original view', 'home', 'home'), ('Back', 'Back to previous …"
      ]
     },
     "metadata": {},
     "output_type": "display_data"
    },
    {
     "data": {
      "application/vnd.jupyter.widget-view+json": {
       "model_id": "72be045978c643f6a71d9bf30c3dabad",
       "version_major": 2,
       "version_minor": 0
      },
      "text/plain": [
       "Canvas(toolbar=Toolbar(toolitems=[('Home', 'Reset original view', 'home', 'home'), ('Back', 'Back to previous …"
      ]
     },
     "metadata": {},
     "output_type": "display_data"
    },
    {
     "data": {
      "application/vnd.jupyter.widget-view+json": {
       "model_id": "7e03f8235a3d4311ad8e282825143b90",
       "version_major": 2,
       "version_minor": 0
      },
      "text/plain": [
       "Canvas(toolbar=Toolbar(toolitems=[('Home', 'Reset original view', 'home', 'home'), ('Back', 'Back to previous …"
      ]
     },
     "metadata": {},
     "output_type": "display_data"
    },
    {
     "data": {
      "application/vnd.jupyter.widget-view+json": {
       "model_id": "5d23b23e15a14d12a1104cc7c5cbd4fd",
       "version_major": 2,
       "version_minor": 0
      },
      "text/plain": [
       "Canvas(toolbar=Toolbar(toolitems=[('Home', 'Reset original view', 'home', 'home'), ('Back', 'Back to previous …"
      ]
     },
     "metadata": {},
     "output_type": "display_data"
    },
    {
     "data": {
      "application/vnd.jupyter.widget-view+json": {
       "model_id": "398c2cd5925d4c7c81e0353b1a222074",
       "version_major": 2,
       "version_minor": 0
      },
      "text/plain": [
       "Canvas(toolbar=Toolbar(toolitems=[('Home', 'Reset original view', 'home', 'home'), ('Back', 'Back to previous …"
      ]
     },
     "metadata": {},
     "output_type": "display_data"
    },
    {
     "data": {
      "application/vnd.jupyter.widget-view+json": {
       "model_id": "1187e907ff06439f938f965ea0ea4a9b",
       "version_major": 2,
       "version_minor": 0
      },
      "text/plain": [
       "Canvas(toolbar=Toolbar(toolitems=[('Home', 'Reset original view', 'home', 'home'), ('Back', 'Back to previous …"
      ]
     },
     "metadata": {},
     "output_type": "display_data"
    },
    {
     "data": {
      "application/vnd.jupyter.widget-view+json": {
       "model_id": "c774f6d153a54466a48e23d9ac56510c",
       "version_major": 2,
       "version_minor": 0
      },
      "text/plain": [
       "Canvas(toolbar=Toolbar(toolitems=[('Home', 'Reset original view', 'home', 'home'), ('Back', 'Back to previous …"
      ]
     },
     "metadata": {},
     "output_type": "display_data"
    },
    {
     "data": {
      "application/vnd.jupyter.widget-view+json": {
       "model_id": "06a57ae6c12c45a5a68c7e4b2f61d228",
       "version_major": 2,
       "version_minor": 0
      },
      "text/plain": [
       "Canvas(toolbar=Toolbar(toolitems=[('Home', 'Reset original view', 'home', 'home'), ('Back', 'Back to previous …"
      ]
     },
     "metadata": {},
     "output_type": "display_data"
    },
    {
     "data": {
      "application/vnd.jupyter.widget-view+json": {
       "model_id": "066cd30824ec49baafe1a3ba1b76cef6",
       "version_major": 2,
       "version_minor": 0
      },
      "text/plain": [
       "Canvas(toolbar=Toolbar(toolitems=[('Home', 'Reset original view', 'home', 'home'), ('Back', 'Back to previous …"
      ]
     },
     "metadata": {},
     "output_type": "display_data"
    },
    {
     "data": {
      "application/vnd.jupyter.widget-view+json": {
       "model_id": "daaf00fcf21241cf8234f5b779449a71",
       "version_major": 2,
       "version_minor": 0
      },
      "text/plain": [
       "Canvas(toolbar=Toolbar(toolitems=[('Home', 'Reset original view', 'home', 'home'), ('Back', 'Back to previous …"
      ]
     },
     "metadata": {},
     "output_type": "display_data"
    },
    {
     "data": {
      "application/vnd.jupyter.widget-view+json": {
       "model_id": "bc638a2cfc7a4e05bb0ba4db143dfaf8",
       "version_major": 2,
       "version_minor": 0
      },
      "text/plain": [
       "Canvas(toolbar=Toolbar(toolitems=[('Home', 'Reset original view', 'home', 'home'), ('Back', 'Back to previous …"
      ]
     },
     "metadata": {},
     "output_type": "display_data"
    },
    {
     "data": {
      "application/vnd.jupyter.widget-view+json": {
       "model_id": "d8f212009c32495993d826385b3ab0b1",
       "version_major": 2,
       "version_minor": 0
      },
      "text/plain": [
       "Canvas(toolbar=Toolbar(toolitems=[('Home', 'Reset original view', 'home', 'home'), ('Back', 'Back to previous …"
      ]
     },
     "metadata": {},
     "output_type": "display_data"
    },
    {
     "data": {
      "application/vnd.jupyter.widget-view+json": {
       "model_id": "f79f710e5b63478a99bcdd006ba6117b",
       "version_major": 2,
       "version_minor": 0
      },
      "text/plain": [
       "Canvas(toolbar=Toolbar(toolitems=[('Home', 'Reset original view', 'home', 'home'), ('Back', 'Back to previous …"
      ]
     },
     "metadata": {},
     "output_type": "display_data"
    },
    {
     "data": {
      "application/vnd.jupyter.widget-view+json": {
       "model_id": "dd06db7e593149728b7b5c4a90236795",
       "version_major": 2,
       "version_minor": 0
      },
      "text/plain": [
       "Canvas(toolbar=Toolbar(toolitems=[('Home', 'Reset original view', 'home', 'home'), ('Back', 'Back to previous …"
      ]
     },
     "metadata": {},
     "output_type": "display_data"
    },
    {
     "data": {
      "application/vnd.jupyter.widget-view+json": {
       "model_id": "918e8c7c6ffa4c63a45f62e811e27670",
       "version_major": 2,
       "version_minor": 0
      },
      "text/plain": [
       "Canvas(toolbar=Toolbar(toolitems=[('Home', 'Reset original view', 'home', 'home'), ('Back', 'Back to previous …"
      ]
     },
     "metadata": {},
     "output_type": "display_data"
    },
    {
     "data": {
      "application/vnd.jupyter.widget-view+json": {
       "model_id": "0c2b4d0ebf7d4c478f579bb0aedffcea",
       "version_major": 2,
       "version_minor": 0
      },
      "text/plain": [
       "Canvas(toolbar=Toolbar(toolitems=[('Home', 'Reset original view', 'home', 'home'), ('Back', 'Back to previous …"
      ]
     },
     "metadata": {},
     "output_type": "display_data"
    },
    {
     "data": {
      "application/vnd.jupyter.widget-view+json": {
       "model_id": "051a5f0ed3094e9f91c28281a63bb114",
       "version_major": 2,
       "version_minor": 0
      },
      "text/plain": [
       "Canvas(toolbar=Toolbar(toolitems=[('Home', 'Reset original view', 'home', 'home'), ('Back', 'Back to previous …"
      ]
     },
     "metadata": {},
     "output_type": "display_data"
    },
    {
     "data": {
      "application/vnd.jupyter.widget-view+json": {
       "model_id": "def96986608947458211d2f79f59baf4",
       "version_major": 2,
       "version_minor": 0
      },
      "text/plain": [
       "Canvas(toolbar=Toolbar(toolitems=[('Home', 'Reset original view', 'home', 'home'), ('Back', 'Back to previous …"
      ]
     },
     "metadata": {},
     "output_type": "display_data"
    },
    {
     "data": {
      "application/vnd.jupyter.widget-view+json": {
       "model_id": "bb8a23f925dd42d2926b6683b4b06b39",
       "version_major": 2,
       "version_minor": 0
      },
      "text/plain": [
       "Canvas(toolbar=Toolbar(toolitems=[('Home', 'Reset original view', 'home', 'home'), ('Back', 'Back to previous …"
      ]
     },
     "metadata": {},
     "output_type": "display_data"
    },
    {
     "data": {
      "application/vnd.jupyter.widget-view+json": {
       "model_id": "e4c4d49bbd5447c3b85b17c14b2b91a3",
       "version_major": 2,
       "version_minor": 0
      },
      "text/plain": [
       "Canvas(toolbar=Toolbar(toolitems=[('Home', 'Reset original view', 'home', 'home'), ('Back', 'Back to previous …"
      ]
     },
     "metadata": {},
     "output_type": "display_data"
    },
    {
     "data": {
      "application/vnd.jupyter.widget-view+json": {
       "model_id": "1bf2ba1e63ac43baac7efe3bafcbdcfa",
       "version_major": 2,
       "version_minor": 0
      },
      "text/plain": [
       "Canvas(toolbar=Toolbar(toolitems=[('Home', 'Reset original view', 'home', 'home'), ('Back', 'Back to previous …"
      ]
     },
     "metadata": {},
     "output_type": "display_data"
    },
    {
     "data": {
      "application/vnd.jupyter.widget-view+json": {
       "model_id": "5a77e0e93e6d44af95de540a9fccf39e",
       "version_major": 2,
       "version_minor": 0
      },
      "text/plain": [
       "Canvas(toolbar=Toolbar(toolitems=[('Home', 'Reset original view', 'home', 'home'), ('Back', 'Back to previous …"
      ]
     },
     "metadata": {},
     "output_type": "display_data"
    },
    {
     "data": {
      "application/vnd.jupyter.widget-view+json": {
       "model_id": "881d9b29335a48bc92aba3c00b8e499d",
       "version_major": 2,
       "version_minor": 0
      },
      "text/plain": [
       "Canvas(toolbar=Toolbar(toolitems=[('Home', 'Reset original view', 'home', 'home'), ('Back', 'Back to previous …"
      ]
     },
     "metadata": {},
     "output_type": "display_data"
    },
    {
     "data": {
      "application/vnd.jupyter.widget-view+json": {
       "model_id": "e3de09d26a4043fc82f7e9ac5b3d6e9c",
       "version_major": 2,
       "version_minor": 0
      },
      "text/plain": [
       "Canvas(toolbar=Toolbar(toolitems=[('Home', 'Reset original view', 'home', 'home'), ('Back', 'Back to previous …"
      ]
     },
     "metadata": {},
     "output_type": "display_data"
    },
    {
     "data": {
      "application/vnd.jupyter.widget-view+json": {
       "model_id": "430dd20953e0467782e2eb6876be4898",
       "version_major": 2,
       "version_minor": 0
      },
      "text/plain": [
       "Canvas(toolbar=Toolbar(toolitems=[('Home', 'Reset original view', 'home', 'home'), ('Back', 'Back to previous …"
      ]
     },
     "metadata": {},
     "output_type": "display_data"
    },
    {
     "data": {
      "application/vnd.jupyter.widget-view+json": {
       "model_id": "4681d75ada9d4a60a440e6bf438a99ee",
       "version_major": 2,
       "version_minor": 0
      },
      "text/plain": [
       "Canvas(toolbar=Toolbar(toolitems=[('Home', 'Reset original view', 'home', 'home'), ('Back', 'Back to previous …"
      ]
     },
     "metadata": {},
     "output_type": "display_data"
    },
    {
     "data": {
      "application/vnd.jupyter.widget-view+json": {
       "model_id": "5c589de0e7c542e79071a8142f45257f",
       "version_major": 2,
       "version_minor": 0
      },
      "text/plain": [
       "Canvas(toolbar=Toolbar(toolitems=[('Home', 'Reset original view', 'home', 'home'), ('Back', 'Back to previous …"
      ]
     },
     "metadata": {},
     "output_type": "display_data"
    },
    {
     "data": {
      "application/vnd.jupyter.widget-view+json": {
       "model_id": "16c40b960c054436ba4e5594dccf3d23",
       "version_major": 2,
       "version_minor": 0
      },
      "text/plain": [
       "Canvas(toolbar=Toolbar(toolitems=[('Home', 'Reset original view', 'home', 'home'), ('Back', 'Back to previous …"
      ]
     },
     "metadata": {},
     "output_type": "display_data"
    },
    {
     "data": {
      "application/vnd.jupyter.widget-view+json": {
       "model_id": "fd553b2987a54a4e81321ac7a5e41fdd",
       "version_major": 2,
       "version_minor": 0
      },
      "text/plain": [
       "Canvas(toolbar=Toolbar(toolitems=[('Home', 'Reset original view', 'home', 'home'), ('Back', 'Back to previous …"
      ]
     },
     "metadata": {},
     "output_type": "display_data"
    },
    {
     "data": {
      "application/vnd.jupyter.widget-view+json": {
       "model_id": "67b46b809255416f9a72a9378d4ca922",
       "version_major": 2,
       "version_minor": 0
      },
      "text/plain": [
       "Canvas(toolbar=Toolbar(toolitems=[('Home', 'Reset original view', 'home', 'home'), ('Back', 'Back to previous …"
      ]
     },
     "metadata": {},
     "output_type": "display_data"
    },
    {
     "data": {
      "application/vnd.jupyter.widget-view+json": {
       "model_id": "4bc2f8fac86e4ce68797eccfee70b385",
       "version_major": 2,
       "version_minor": 0
      },
      "text/plain": [
       "Canvas(toolbar=Toolbar(toolitems=[('Home', 'Reset original view', 'home', 'home'), ('Back', 'Back to previous …"
      ]
     },
     "metadata": {},
     "output_type": "display_data"
    },
    {
     "data": {
      "application/vnd.jupyter.widget-view+json": {
       "model_id": "f26fb995ae0d4ea4b749c385421be311",
       "version_major": 2,
       "version_minor": 0
      },
      "text/plain": [
       "Canvas(toolbar=Toolbar(toolitems=[('Home', 'Reset original view', 'home', 'home'), ('Back', 'Back to previous …"
      ]
     },
     "metadata": {},
     "output_type": "display_data"
    },
    {
     "data": {
      "application/vnd.jupyter.widget-view+json": {
       "model_id": "4ac064adc5764cdb93a14b5e97a7cee6",
       "version_major": 2,
       "version_minor": 0
      },
      "text/plain": [
       "Canvas(toolbar=Toolbar(toolitems=[('Home', 'Reset original view', 'home', 'home'), ('Back', 'Back to previous …"
      ]
     },
     "metadata": {},
     "output_type": "display_data"
    },
    {
     "data": {
      "application/vnd.jupyter.widget-view+json": {
       "model_id": "784a1d4bacca4306aba069c877410cc5",
       "version_major": 2,
       "version_minor": 0
      },
      "text/plain": [
       "Canvas(toolbar=Toolbar(toolitems=[('Home', 'Reset original view', 'home', 'home'), ('Back', 'Back to previous …"
      ]
     },
     "metadata": {},
     "output_type": "display_data"
    },
    {
     "data": {
      "application/vnd.jupyter.widget-view+json": {
       "model_id": "ba51f3ca7a2543178546304803650a75",
       "version_major": 2,
       "version_minor": 0
      },
      "text/plain": [
       "Canvas(toolbar=Toolbar(toolitems=[('Home', 'Reset original view', 'home', 'home'), ('Back', 'Back to previous …"
      ]
     },
     "metadata": {},
     "output_type": "display_data"
    },
    {
     "data": {
      "application/vnd.jupyter.widget-view+json": {
       "model_id": "7c5b9dd331d04e5a9fd2e2c75f720be6",
       "version_major": 2,
       "version_minor": 0
      },
      "text/plain": [
       "Canvas(toolbar=Toolbar(toolitems=[('Home', 'Reset original view', 'home', 'home'), ('Back', 'Back to previous …"
      ]
     },
     "metadata": {},
     "output_type": "display_data"
    }
   ],
   "source": [
    "# Create separate pngs then compile them into gif using `convert -delay 10 -loop 0 lyap_spider-*.png lyap_spider.gif`\n",
    "\n",
    "for r_idx, r in enumerate(np.linspace(2, 0.25, 70)):    \n",
    "    plt.close(fig)\n",
    "    fig, ax = plt.subplots(figsize=(5.5, 5))\n",
    "   \n",
    "    plot_axes(ax)\n",
    "    plot_vector_field(B, ax=ax, xmin=-1.1, xmax=1.1, ymin=-1.1, ymax=1.1, xstep=0.10, ystep=0.10, alpha=0.15)\n",
    "    plot_ellipse(ax, P, r=r)\n",
    "    plot_ring_vectors(ax, B, P, r=r)\n",
    "\n",
    "    ax.set_xlim([-1.2, 1.2])\n",
    "    ax.set_ylim([-1.2, 1.2])\n",
    "    ax.text((-0.8), (0.9), s=r\"$c=%1.2f$\" % r, color=\"k\", fontsize=10, zorder=100)\n",
    "    plt.savefig(\"figures/lyap_spider-%d.png\" % r_idx)"
   ]
  },
  {
   "cell_type": "code",
   "execution_count": null,
   "metadata": {},
   "outputs": [],
   "source": []
  }
 ],
 "metadata": {
  "kernelspec": {
   "display_name": "Python 3",
   "language": "python",
   "name": "python3"
  },
  "language_info": {
   "codemirror_mode": {
    "name": "ipython",
    "version": 3
   },
   "file_extension": ".py",
   "mimetype": "text/x-python",
   "name": "python",
   "nbconvert_exporter": "python",
   "pygments_lexer": "ipython3",
   "version": "3.9.1"
  }
 },
 "nbformat": 4,
 "nbformat_minor": 4
}
