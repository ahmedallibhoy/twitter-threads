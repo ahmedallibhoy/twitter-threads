{
 "cells": [
  {
   "cell_type": "code",
   "execution_count": 1,
   "metadata": {},
   "outputs": [],
   "source": [
    "import numpy as np \n",
    "\n",
    "from scipy.integrate import solve_ivp\n",
    "\n",
    "%matplotlib widget\n",
    "import matplotlib.pyplot as plt\n",
    "import matplotlib as mpl\n",
    "\n",
    "mpl.rcParams['text.usetex']=True\n",
    "mpl.rcParams['text.latex.preamble']=r'\\boldmath'"
   ]
  },
  {
   "cell_type": "code",
   "execution_count": 23,
   "metadata": {},
   "outputs": [],
   "source": [
    "# Some helper functions\n",
    "\n",
    "def plot_vector_field(A, xmin=-2, xmax=2, ymin=-2, ymax=2, xstep=0.25, ystep=0.25, ax=None, **kwargs):\n",
    "    x1 = np.arange(xmin, xmax, xstep)\n",
    "    x2 = np.arange(ymin, ymax, ystep)\n",
    "\n",
    "    X1, X2 = np.meshgrid(x1, x2)\n",
    "    dX1 = A[0, 0] * X1 + A[0, 1] * X2\n",
    "    dX2 = A[1, 0] * X1 + A[1, 1] * X2\n",
    "    \n",
    "    if ax is None:\n",
    "        ax = plt.gca()\n",
    "    ax.quiver(X1, X2, dX1 / (0.001 + np.sqrt(dX1 ** 2 + dX2 ** 2)), dX2  / (0.001 + np.sqrt(dX1 ** 2 + dX2 ** 2)), headwidth=2.5, **kwargs)\n",
    "    \n",
    "    \n",
    "def plot_axes(ax=None, xmin=-1.2, xmax=1.2, xstep=0.1, ymin=-1.2, ymax=1.2, ystep=0.1):\n",
    "    if ax is None:\n",
    "        ax = plt.gca()\n",
    "    \n",
    "    x_ticks = np.arange(xmin, xmax, xstep)\n",
    "    x_ticks_major = x_ticks[x_ticks != 0]\n",
    "    y_ticks = np.arange(ymin, ymax, ystep)\n",
    "    y_ticks_major = y_ticks[y_ticks != 0]\n",
    "\n",
    "    ax.set_xticks(x_ticks_major)\n",
    "    ax.set_yticks(y_ticks_major)\n",
    "\n",
    "    labels = [item.get_text() for item in ax.get_xticklabels()]\n",
    "\n",
    "    empty_string_labels = ['']*len(labels)\n",
    "    ax.set_xticklabels(empty_string_labels)\n",
    "    labels = [item.get_text() for item in ax.get_yticklabels()]\n",
    "\n",
    "    empty_string_labels = ['']*len(labels)\n",
    "    ax.set_yticklabels(empty_string_labels)\n",
    "\n",
    "    ax.spines['left'].set_position('zero')\n",
    "    ax.spines['bottom'].set_position('zero')\n",
    "\n",
    "    # Eliminate upper and right axes\n",
    "    ax.spines['right'].set_color('none')\n",
    "    ax.spines['top'].set_color('none')\n",
    "\n",
    "    # Show ticks in the left and lower axes only\n",
    "    ax.xaxis.set_ticks_position('bottom')\n",
    "    ax.yaxis.set_ticks_position('left')\n",
    "    \n",
    "    \n",
    "def plot_ellipse(ax, P=np.eye(2), r=1.0):\n",
    "    \"\"\"\n",
    "    Plots level set of the function V(x) = x^T Px\n",
    "    \"\"\"\n",
    "    theta_range = np.arange(0, 2 * np.pi, 2 * np.pi / 1000)\n",
    "    T = np.vstack((np.cos(theta_range), np.sin(theta_range)))\n",
    "    \n",
    "    E, V = np.linalg.eig(P)\n",
    "    v1 = np.sqrt(r ** 2 / E[0]) * V[:, 0]\n",
    "    v2 = np.sqrt(r ** 2 / E[1]) * V[:, 1]\n",
    "    W = np.hstack((v1[:, np.newaxis], v2[:, np.newaxis]))\n",
    "    circ = W @ T\n",
    "    \n",
    "    ax.plot(circ[0, :], circ[1, :], c=c_blue)\n",
    "    \n",
    "\n",
    "def plot_ring_vectors(ax, A, P=np.eye(2), r=1.0, num_vectors=20):\n",
    "    \"\"\"\n",
    "    Plots vector field of \\dot{x} = Ax along the level set of the function V(x) = x^T Px\n",
    "    \"\"\"\n",
    "    \n",
    "    theta_range = np.arange(0, 2 * np.pi, 2 * np.pi / num_vectors)\n",
    "    T = np.vstack((np.cos(theta_range), np.sin(theta_range)))\n",
    "\n",
    "    E, V = np.linalg.eig(P)\n",
    "    v1 = np.sqrt(r ** 2 / E[0]) * V[:, 0]\n",
    "    v2 = np.sqrt(r ** 2 / E[1]) * V[:, 1]\n",
    "    W = np.hstack((v1[:, np.newaxis], v2[:, np.newaxis]))\n",
    "\n",
    "    circ = W @ T    \n",
    "    ax.scatter(circ[0, :], circ[1, :], c=c_blue, s=10)\n",
    "\n",
    "    for i in range(20):\n",
    "        u = circ[:, i]\n",
    "        v = A @ u\n",
    "\n",
    "        du = P @ u\n",
    "        du = du / np.linalg.norm(du)\n",
    "\n",
    "        if np.dot(v, du) < 0:\n",
    "            v = v / np.linalg.norm(v)\n",
    "            ax.arrow(u[0], u[1], 0.1 * v[0], 0.1 * v[1], \n",
    "                shape='full', lw=1, length_includes_head=False, head_width=.03, color=\"g\", zorder=10)\n",
    "        else:\n",
    "            v = v / np.linalg.norm(v)\n",
    "            ax.arrow(u[0], u[1], 0.1 * v[0], 0.1 * v[1], \n",
    "                shape='full', lw=1, length_includes_head=False, head_width=.03, color=\"r\", zorder=10)\n",
    "\n",
    "        ax.arrow(u[0], u[1], 0.1  * du[0], 0.1  * du[1], shape='full', lw=1, length_includes_head=False, head_width=.03, color=c_blue, zorder=10)"
   ]
  },
  {
   "cell_type": "code",
   "execution_count": 3,
   "metadata": {},
   "outputs": [],
   "source": [
    "c_blue = plt.rcParams['axes.prop_cycle'].by_key()['color'][0]\n",
    "c_orange = plt.rcParams['axes.prop_cycle'].by_key()['color'][1]"
   ]
  },
  {
   "cell_type": "code",
   "execution_count": 4,
   "metadata": {},
   "outputs": [
    {
     "data": {
      "application/vnd.jupyter.widget-view+json": {
       "model_id": "2601be21da714035939b307799ebeec4",
       "version_major": 2,
       "version_minor": 0
      },
      "text/plain": [
       "Canvas(toolbar=Toolbar(toolitems=[('Home', 'Reset original view', 'home', 'home'), ('Back', 'Back to previous …"
      ]
     },
     "metadata": {},
     "output_type": "display_data"
    }
   ],
   "source": [
    "try:\n",
    "    plt.close(fig)\n",
    "except NameError:\n",
    "    pass\n",
    "\n",
    "fig, ax = plt.subplots(1, 2, figsize=(11, 5))\n",
    "\n",
    "A = np.array([[0, -1], [1, 0]])\n",
    "B = np.array([[-0.1, -1], [1, -0.7]])\n",
    "    \n",
    "rs = [0.3, 0.75, 1.5]\n",
    "solsA = list()\n",
    "for r in rs:\n",
    "    solsA.append(solve_ivp(lambda t, x: A @ x, [0, 20], [r, 0], max_step=0.1))\n",
    "    \n",
    "angles = [2 * np.pi *  float(i) / 3 for i in range(3)]\n",
    "solsB = list()\n",
    "\n",
    "for theta in angles:\n",
    "    solsB.append(solve_ivp(lambda t, x: B @ x, [0, 30], [2 * np.cos(theta), 2 * np.sin(theta)], max_step=0.1))\n",
    "    \n",
    "plot_vector_field(A, ax=ax[0], alpha=0.35)\n",
    "plot_vector_field(B, ax=ax[1], alpha=0.35)\n",
    "\n",
    "for sol in solsA:\n",
    "    ax[0].plot(sol.y[0, :], sol.y[1, :], c='b', linewidth=1.1, alpha=0.55)\n",
    "    ax[0].arrow(sol.y[0, 0], sol.y[1, 0], sol.y[0, 1] - sol.y[0, 0], sol.y[1, 1] - sol.y[1, 0], \n",
    "                shape='full', lw=0, length_includes_head=False, head_width=.1, color='b', alpha=0.55)\n",
    "\n",
    "idx = 20\n",
    "for sol in solsB:\n",
    "    ax[1].plot(sol.y[0, :], sol.y[1, :], c='b', alpha=0.55)\n",
    "    ax[1].arrow(sol.y[0, idx], sol.y[1, idx], sol.y[0, idx + 1] - sol.y[0, idx], sol.y[1, idx + 1] - sol.y[1, idx], \n",
    "            shape='full', lw=0, length_includes_head=False, head_width=.1, color='b', alpha=0.55)\n",
    "    \n",
    "r = 1.0\n",
    "t = np.arange(0, 2 * np.pi, 0.01)\n",
    "    \n",
    "ax[0].set_xlim([-1.9, 1.9])\n",
    "ax[0].set_ylim([-1.9, 1.9])\n",
    "\n",
    "ax[1].set_xlim([-1.9, 1.9])\n",
    "ax[1].set_ylim([-1.9, 1.9])\n",
    "\n",
    "plot_axes(ax[0])\n",
    "plot_axes(ax[1])\n",
    "\n",
    "ax[0].set_title('Lyapunov Stable')\n",
    "ax[1].set_title('Asymptotically Stable')\n",
    "\n",
    "plt.savefig(\"figures/stability.png\")"
   ]
  },
  {
   "cell_type": "code",
   "execution_count": 5,
   "metadata": {},
   "outputs": [
    {
     "data": {
      "application/vnd.jupyter.widget-view+json": {
       "model_id": "0a00b7b1c6104dd9a602eb1566f81817",
       "version_major": 2,
       "version_minor": 0
      },
      "text/plain": [
       "Canvas(toolbar=Toolbar(toolitems=[('Home', 'Reset original view', 'home', 'home'), ('Back', 'Back to previous …"
      ]
     },
     "metadata": {},
     "output_type": "display_data"
    }
   ],
   "source": [
    "plt.close(fig)\n",
    "fig, ax = plt.subplots(figsize=(5, 5))\n",
    "\n",
    "t = np.arange(0, 2 * np.pi, 0.01)\n",
    "\n",
    "ax.plot(np.cos(t), np.sin(t))\n",
    "plot_axes(ax)\n",
    "plt.savefig(\"figures/circle.png\")"
   ]
  },
  {
   "cell_type": "code",
   "execution_count": 6,
   "metadata": {},
   "outputs": [
    {
     "data": {
      "application/vnd.jupyter.widget-view+json": {
       "model_id": "ab746d0d9a31486fa3d0c31d65c8cd57",
       "version_major": 2,
       "version_minor": 0
      },
      "text/plain": [
       "Canvas(toolbar=Toolbar(toolitems=[('Home', 'Reset original view', 'home', 'home'), ('Back', 'Back to previous …"
      ]
     },
     "metadata": {},
     "output_type": "display_data"
    }
   ],
   "source": [
    "plt.close(fig)\n",
    "fig, ax = plt.subplots(figsize=(5.5, 5))\n",
    "\n",
    "t = np.arange(0, 2 * np.pi, 0.01)\n",
    "\n",
    "p1 = 0.75 * np.exp(1j * 0.33 * 2 * np.pi)\n",
    "p2 = 1.5 * np.exp(1j * 0.1 * 2 * np.pi)\n",
    "p3 = 1.0 * np.exp(1j * 1.8 * np.pi)\n",
    "\n",
    "ax.plot(np.cos(t), np.sin(t), zorder=0)\n",
    "\n",
    "ax.scatter([np.real(p1), np.real(p2), np.real(p3)], [np.imag(p1), np.imag(p2), np.imag(p3)], c='r', marker=\"x\", zorder=1)\n",
    "ax.text(np.real(p1)-0.1, np.imag(p1) -0.1, s=r\"$\\Vert p_2 \\Vert < c$\")\n",
    "ax.text(np.real(p2)-0.1, np.imag(p2) -0.1, s=r\"$\\Vert p_3 \\Vert > c$\")\n",
    "ax.text(np.real(p3)+0.1, np.imag(p3) -0.1, s=r\"$\\Vert p_1 \\Vert = c$\")\n",
    "\n",
    "plot_axes(ax)\n",
    "plt.savefig(\"figures/circle_points.png\")"
   ]
  },
  {
   "cell_type": "code",
   "execution_count": 7,
   "metadata": {},
   "outputs": [
    {
     "data": {
      "application/vnd.jupyter.widget-view+json": {
       "model_id": "e6a23b3f5691440293c4e616233c75f7",
       "version_major": 2,
       "version_minor": 0
      },
      "text/plain": [
       "Canvas(toolbar=Toolbar(toolitems=[('Home', 'Reset original view', 'home', 'home'), ('Back', 'Back to previous …"
      ]
     },
     "metadata": {},
     "output_type": "display_data"
    }
   ],
   "source": [
    "plt.close(fig)\n",
    "fig, ax = plt.subplots(figsize=(5.5, 5))\n",
    "\n",
    "t = np.arange(0, 2 * np.pi, 0.01)\n",
    "ax.plot(np.cos(t), np.sin(t), zorder=0, alpha=0.5)\n",
    "\n",
    "\n",
    "B = np.array([[-0.5, -1], [1, -0.7]])\n",
    "theta = 2 * np.pi / 3\n",
    "sol = solve_ivp(lambda t, x: B @ x, [0, 30], [1.2 * np.cos(theta), 1.2 * np.sin(theta)], max_step=0.01)\n",
    "\n",
    "plot_vector_field(B, ax=ax, xmin=-1.2, xmax=1.2, ymin=-1.2, ymax=1.2, xstep=0.15, ystep=0.15, alpha=0.2)\n",
    "ax.plot(sol.y[0, :], sol.y[1, :])\n",
    "\n",
    "idx1 = np.where(np.abs(np.linalg.norm(sol.y, axis=0) - 0.5) < 0.1)[0][0]\n",
    "idx2 = np.where(np.abs(np.linalg.norm(sol.y, axis=0) - 1.2) < 0.1)[0][0]\n",
    "\n",
    "ax.text(sol.y[0, idx1] - 0.08, sol.y[1, idx1] - 0.12, s=r\"$x(t_2)$\", color=c_orange)\n",
    "ax.text(sol.y[0, idx1] + 0.06, sol.y[1, idx1] - 0.3, s=r\"$\\Vert x(t_2) \\Vert < c$\")\n",
    "\n",
    "ax.text(sol.y[0, idx2] + 0.08, sol.y[1, idx2] - 0.01, s=r\"$x(t_1)$\", color=c_orange)\n",
    "ax.text(sol.y[0, idx2] + 0.06, sol.y[1, idx2] - 0.2, s=r\"$\\Vert x(t_1) \\Vert > c$\")\n",
    "\n",
    "ax.text(0.15, 0.5, s=r\"$\\frac{d}{dt} \\Vert x(t) \\Vert < 0$\")\n",
    "ax.text(0.15, 0.35, s=r\"for some $t \\in [t_1, t_2]$\")\n",
    "\n",
    "\n",
    "ax.scatter(sol.y[0, [idx1, idx2]], sol.y[1, [idx1, idx2]], c=c_orange)\n",
    "ax.arrow(sol.y[0, 200], sol.y[1, 200], sol.y[0, 201] - sol.y[0, 200], sol.y[1, 201] - sol.y[1, 200], \n",
    "        shape='full', lw=0, length_includes_head=False, head_width=.05, color=c_orange)\n",
    "\n",
    "plot_axes(ax)\n",
    "plt.savefig(\"figures/circ_solution.png\")"
   ]
  },
  {
   "cell_type": "code",
   "execution_count": 8,
   "metadata": {},
   "outputs": [
    {
     "data": {
      "application/vnd.jupyter.widget-view+json": {
       "model_id": "c049cc1405f74fa8b414f38229fe20b6",
       "version_major": 2,
       "version_minor": 0
      },
      "text/plain": [
       "Canvas(toolbar=Toolbar(toolitems=[('Home', 'Reset original view', 'home', 'home'), ('Back', 'Back to previous …"
      ]
     },
     "metadata": {},
     "output_type": "display_data"
    }
   ],
   "source": [
    "plt.close(fig)\n",
    "fig, ax = plt.subplots(figsize=(5.5, 5))\n",
    "\n",
    "ax.plot(np.cos(t), np.sin(t), zorder=0, alpha=0.5)\n",
    "\n",
    "plot_vector_field(B, ax=ax, xmin=-1.1, xmax=1.1, ymin=-1.1, ymax=1.1, xstep=0.15, ystep=0.15, alpha=0.25)\n",
    "ax.plot(sol.y[0, :], sol.y[1, :])\n",
    "ax.arrow(sol.y[0, 200], sol.y[1, 200], sol.y[0, 201] - sol.y[0, 200], sol.y[1, 201] - sol.y[1, 200], \n",
    "        shape='full', lw=0, length_includes_head=False, head_width=.05, color=c_orange)\n",
    "\n",
    "idx_intersect = np.where(np.abs(np.linalg.norm(sol.y, axis=0) - 1.0) < 0.01)[0][0]\n",
    "ax.text(sol.y[0, idx_intersect] + 0.08, sol.y[1, idx_intersect] - 0.01, s=r\"$x(t_c)$\")\n",
    "ax.scatter(sol.y[0, idx_intersect], sol.y[1, idx_intersect], c=c_orange, zorder=11)\n",
    "\n",
    "\n",
    "v = B @ sol.y[:, idx_intersect]\n",
    "ax.arrow(sol.y[0, idx_intersect], sol.y[1, idx_intersect], 0.2 * v[0], 0.25 * v[1], \n",
    "        shape='full', lw=1, length_includes_head=False, head_width=.05, color=\"g\", zorder=10)\n",
    "\n",
    "ax.text(-0.7, 0.4, s=r\"$\\frac{d}{dt} \\Vert x(t_c) \\Vert < 0$\", color=\"k\")\n",
    "\n",
    "plot_axes(ax)\n",
    "plt.savefig(\"figures/circ_tangent.png\")"
   ]
  },
  {
   "cell_type": "code",
   "execution_count": 9,
   "metadata": {},
   "outputs": [
    {
     "data": {
      "application/vnd.jupyter.widget-view+json": {
       "model_id": "4e12452c532f4569ad428739e84d6a33",
       "version_major": 2,
       "version_minor": 0
      },
      "text/plain": [
       "Canvas(toolbar=Toolbar(toolitems=[('Home', 'Reset original view', 'home', 'home'), ('Back', 'Back to previous …"
      ]
     },
     "metadata": {},
     "output_type": "display_data"
    }
   ],
   "source": [
    "plt.close(fig)\n",
    "fig, ax = plt.subplots(figsize=(5.5, 5))\n",
    "\n",
    "ax.plot(np.cos(t), np.sin(t), zorder=0, alpha=0.5)\n",
    "plot_vector_field(B, ax=ax, xmin=-1.1, xmax=1.1, ymin=-1.1, ymax=1.1, xstep=0.15, ystep=0.15, alpha=0.15)\n",
    "\n",
    "ax.plot(sol.y[0, :], sol.y[1, :])\n",
    "ax.arrow(sol.y[0, 110], sol.y[1, 110], sol.y[0, 111] - sol.y[0, 110], sol.y[1, 111] - sol.y[1, 110], \n",
    "        shape='full', lw=0, length_includes_head=False, head_width=.05, color=c_orange)\n",
    "\n",
    "ax.scatter(sol.y[0, idx_intersect], sol.y[1, idx_intersect], c=c_orange, zorder=11)\n",
    "\n",
    "ax.arrow(sol.y[0, idx_intersect], sol.y[1, idx_intersect], 0.2 * v[0], 0.2 * v[1], \n",
    "        shape='full', lw=1, length_includes_head=False, head_width=.05, color=\"g\", zorder=10)\n",
    "\n",
    "ax.arrow(sol.y[0, idx_intersect], sol.y[1, idx_intersect], 0.2 * sol.y[0, idx_intersect], 0.2 * sol.y[1, idx_intersect], \n",
    "        shape='full', lw=1, length_includes_head=False, head_width=.05, color=c_blue, zorder=10)\n",
    "\n",
    "ax.text(sol.y[0, idx_intersect] + 0.02, sol.y[1, idx_intersect] - 0.2, s=r\"$\\dot{x}(t_c)$\", color=\"g\", zorder=100)\n",
    "ax.text(sol.y[0, idx_intersect] - 0.2, sol.y[1, idx_intersect] + 0.2, s=r\"$\\hat{n}$\", color=c_blue, zorder=100)\n",
    "ax.text(-0.7, 0.65, s=r\"$\\langle \\hat{n}, \\dot{x}(t_c)\\rangle < 0$\", color=\"k\", zorder=100)\n",
    "\n",
    "plot_axes(ax)\n",
    "plt.savefig(\"figures/circle_innerp.png\")"
   ]
  },
  {
   "cell_type": "code",
   "execution_count": 10,
   "metadata": {},
   "outputs": [
    {
     "data": {
      "application/vnd.jupyter.widget-view+json": {
       "model_id": "f55f4443c18245cda5a7142471cf6b4c",
       "version_major": 2,
       "version_minor": 0
      },
      "text/plain": [
       "Canvas(toolbar=Toolbar(toolitems=[('Home', 'Reset original view', 'home', 'home'), ('Back', 'Back to previous …"
      ]
     },
     "metadata": {},
     "output_type": "display_data"
    }
   ],
   "source": [
    "plt.close(fig)\n",
    "fig, ax = plt.subplots(figsize=(5.5, 5))\n",
    "\n",
    "ax.plot(np.cos(t), np.sin(t), zorder=0, alpha=0.5)\n",
    "plot_vector_field(B, ax=ax, xmin=-1.1, xmax=1.1, ymin=-1.1, ymax=1.1, xstep=0.15, ystep=0.15, alpha=0.15)\n",
    "\n",
    "ax.plot(sol.y[0, :], sol.y[1, :])\n",
    "ax.arrow(sol.y[0, 110], sol.y[1, 110], sol.y[0, 111] - sol.y[0, 110], sol.y[1, 111] - sol.y[1, 110], \n",
    "        shape='full', lw=0, length_includes_head=False, head_width=.05, color=c_orange)\n",
    "\n",
    "ax.scatter(sol.y[0, idx_intersect], sol.y[1, idx_intersect], c=c_blue, zorder=11)\n",
    "\n",
    "ax.arrow(sol.y[0, idx_intersect], sol.y[1, idx_intersect], 0.2 * v[0], 0.2 * v[1], \n",
    "        shape='full', lw=1, length_includes_head=False, head_width=.05, color=\"g\", zorder=10)\n",
    "\n",
    "ax.arrow(sol.y[0, idx_intersect], sol.y[1, idx_intersect], 0.2 * sol.y[0, idx_intersect], 0.2 * sol.y[1, idx_intersect], \n",
    "        shape='full', lw=1, length_includes_head=False, head_width=.05, color=c_blue, zorder=10)\n",
    "\n",
    "ax.text(sol.y[0, idx_intersect] + 0.02, sol.y[1, idx_intersect] - 0.2, s=r\"$f(x(t_c))$\", color=\"g\", zorder=100)\n",
    "ax.text(sol.y[0, idx_intersect] - 0.2, sol.y[1, idx_intersect] + 0.2, s=r\"$\\hat{n}$\", color=c_blue, zorder=100)\n",
    "ax.text(-0.7, 0.65, s=r\"$\\langle \\hat{n}, f(x(t_c))\\rangle < 0$\", color=\"k\", zorder=100)\n",
    "\n",
    "plot_axes(ax)\n",
    "plt.savefig(\"figures/circle_innerp.png\")"
   ]
  },
  {
   "cell_type": "code",
   "execution_count": 11,
   "metadata": {},
   "outputs": [
    {
     "data": {
      "application/vnd.jupyter.widget-view+json": {
       "model_id": "f20defe288e548ac8079a513b861cfcd",
       "version_major": 2,
       "version_minor": 0
      },
      "text/plain": [
       "Canvas(toolbar=Toolbar(toolitems=[('Home', 'Reset original view', 'home', 'home'), ('Back', 'Back to previous …"
      ]
     },
     "metadata": {},
     "output_type": "display_data"
    }
   ],
   "source": [
    "plt.close(fig)\n",
    "fig, ax = plt.subplots(figsize=(5.5, 5))\n",
    "\n",
    "plot_vector_field(B, ax=ax, xmin=-1.1, xmax=1.1, ymin=-1.1, ymax=1.1, xstep=0.15, ystep=0.15, alpha=0.15)\n",
    "ax.plot(np.cos(t), np.sin(t), zorder=0, alpha=0.5, c=c_blue)\n",
    "plot_ring_vectors(ax, B, r=1.0)\n",
    "\n",
    "ax.text(0.15, 0.35, s=r\"$\\frac{d}{dt} \\Vert x(t) \\Vert < 0$\")\n",
    "ax.text(0.15, 0.2, s=r\"if $\\Vert x(t) \\Vert = c$\")\n",
    "ax.text(-0.15, 0.275, s=r\"$\\Rightarrow$\")\n",
    "ax.text(-0.8, 0.35, s=r\"$\\langle \\hat{n}, f(x)\\rangle < 0$\", color=\"g\", zorder=100)\n",
    "ax.text(-0.8, 0.2, s=r\"$\\forall x, \\Vert x \\Vert = c$\", color=\"g\", zorder=100)\n",
    "\n",
    "plot_axes(ax)\n",
    "plt.savefig(\"figures/circ_spider.png\")"
   ]
  },
  {
   "cell_type": "code",
   "execution_count": 22,
   "metadata": {},
   "outputs": [
    {
     "data": {
      "application/vnd.jupyter.widget-view+json": {
       "model_id": "f57ab378adbf4fe68ce943804deb51da",
       "version_major": 2,
       "version_minor": 0
      },
      "text/plain": [
       "Canvas(toolbar=Toolbar(toolitems=[('Home', 'Reset original view', 'home', 'home'), ('Back', 'Back to previous …"
      ]
     },
     "metadata": {},
     "output_type": "display_data"
    },
    {
     "data": {
      "application/vnd.jupyter.widget-view+json": {
       "model_id": "4faea1eb649a41579ceb6d56151e7cf5",
       "version_major": 2,
       "version_minor": 0
      },
      "text/plain": [
       "Canvas(toolbar=Toolbar(toolitems=[('Home', 'Reset original view', 'home', 'home'), ('Back', 'Back to previous …"
      ]
     },
     "metadata": {},
     "output_type": "display_data"
    },
    {
     "data": {
      "application/vnd.jupyter.widget-view+json": {
       "model_id": "c96298b2f5a24b64a621051fc83679fa",
       "version_major": 2,
       "version_minor": 0
      },
      "text/plain": [
       "Canvas(toolbar=Toolbar(toolitems=[('Home', 'Reset original view', 'home', 'home'), ('Back', 'Back to previous …"
      ]
     },
     "metadata": {},
     "output_type": "display_data"
    },
    {
     "data": {
      "application/vnd.jupyter.widget-view+json": {
       "model_id": "84af2377b65342d6ba47f3d63ea7f18a",
       "version_major": 2,
       "version_minor": 0
      },
      "text/plain": [
       "Canvas(toolbar=Toolbar(toolitems=[('Home', 'Reset original view', 'home', 'home'), ('Back', 'Back to previous …"
      ]
     },
     "metadata": {},
     "output_type": "display_data"
    },
    {
     "data": {
      "application/vnd.jupyter.widget-view+json": {
       "model_id": "3523b0b5b3d94848ba7d0ad7c5003717",
       "version_major": 2,
       "version_minor": 0
      },
      "text/plain": [
       "Canvas(toolbar=Toolbar(toolitems=[('Home', 'Reset original view', 'home', 'home'), ('Back', 'Back to previous …"
      ]
     },
     "metadata": {},
     "output_type": "display_data"
    },
    {
     "data": {
      "application/vnd.jupyter.widget-view+json": {
       "model_id": "229adfa3eb564aa689f448da2c7941ad",
       "version_major": 2,
       "version_minor": 0
      },
      "text/plain": [
       "Canvas(toolbar=Toolbar(toolitems=[('Home', 'Reset original view', 'home', 'home'), ('Back', 'Back to previous …"
      ]
     },
     "metadata": {},
     "output_type": "display_data"
    },
    {
     "data": {
      "application/vnd.jupyter.widget-view+json": {
       "model_id": "ac81a8ad91e84a2585e97c01a88513fd",
       "version_major": 2,
       "version_minor": 0
      },
      "text/plain": [
       "Canvas(toolbar=Toolbar(toolitems=[('Home', 'Reset original view', 'home', 'home'), ('Back', 'Back to previous …"
      ]
     },
     "metadata": {},
     "output_type": "display_data"
    },
    {
     "data": {
      "application/vnd.jupyter.widget-view+json": {
       "model_id": "9d2a62dcdb7d483f8aadeace679fdeaa",
       "version_major": 2,
       "version_minor": 0
      },
      "text/plain": [
       "Canvas(toolbar=Toolbar(toolitems=[('Home', 'Reset original view', 'home', 'home'), ('Back', 'Back to previous …"
      ]
     },
     "metadata": {},
     "output_type": "display_data"
    },
    {
     "data": {
      "application/vnd.jupyter.widget-view+json": {
       "model_id": "df2b3683778141de8e2ae36ece8161e8",
       "version_major": 2,
       "version_minor": 0
      },
      "text/plain": [
       "Canvas(toolbar=Toolbar(toolitems=[('Home', 'Reset original view', 'home', 'home'), ('Back', 'Back to previous …"
      ]
     },
     "metadata": {},
     "output_type": "display_data"
    },
    {
     "data": {
      "application/vnd.jupyter.widget-view+json": {
       "model_id": "93c907e7c69c4c40906d546e8d96ee3e",
       "version_major": 2,
       "version_minor": 0
      },
      "text/plain": [
       "Canvas(toolbar=Toolbar(toolitems=[('Home', 'Reset original view', 'home', 'home'), ('Back', 'Back to previous …"
      ]
     },
     "metadata": {},
     "output_type": "display_data"
    },
    {
     "data": {
      "application/vnd.jupyter.widget-view+json": {
       "model_id": "7c3cef9811164adeaa762213acaf3212",
       "version_major": 2,
       "version_minor": 0
      },
      "text/plain": [
       "Canvas(toolbar=Toolbar(toolitems=[('Home', 'Reset original view', 'home', 'home'), ('Back', 'Back to previous …"
      ]
     },
     "metadata": {},
     "output_type": "display_data"
    },
    {
     "data": {
      "application/vnd.jupyter.widget-view+json": {
       "model_id": "a329169b851848319f8f93655fe1d81c",
       "version_major": 2,
       "version_minor": 0
      },
      "text/plain": [
       "Canvas(toolbar=Toolbar(toolitems=[('Home', 'Reset original view', 'home', 'home'), ('Back', 'Back to previous …"
      ]
     },
     "metadata": {},
     "output_type": "display_data"
    },
    {
     "data": {
      "application/vnd.jupyter.widget-view+json": {
       "model_id": "56e817cc0cae46f29a31f1e546f646ae",
       "version_major": 2,
       "version_minor": 0
      },
      "text/plain": [
       "Canvas(toolbar=Toolbar(toolitems=[('Home', 'Reset original view', 'home', 'home'), ('Back', 'Back to previous …"
      ]
     },
     "metadata": {},
     "output_type": "display_data"
    },
    {
     "data": {
      "application/vnd.jupyter.widget-view+json": {
       "model_id": "ea438c66af01430cb2801804cd5f5fdf",
       "version_major": 2,
       "version_minor": 0
      },
      "text/plain": [
       "Canvas(toolbar=Toolbar(toolitems=[('Home', 'Reset original view', 'home', 'home'), ('Back', 'Back to previous …"
      ]
     },
     "metadata": {},
     "output_type": "display_data"
    },
    {
     "data": {
      "application/vnd.jupyter.widget-view+json": {
       "model_id": "369f7eafcbda4fc19920e7e3df74df03",
       "version_major": 2,
       "version_minor": 0
      },
      "text/plain": [
       "Canvas(toolbar=Toolbar(toolitems=[('Home', 'Reset original view', 'home', 'home'), ('Back', 'Back to previous …"
      ]
     },
     "metadata": {},
     "output_type": "display_data"
    },
    {
     "data": {
      "application/vnd.jupyter.widget-view+json": {
       "model_id": "bc1c4c287f984f639204752d766ebe76",
       "version_major": 2,
       "version_minor": 0
      },
      "text/plain": [
       "Canvas(toolbar=Toolbar(toolitems=[('Home', 'Reset original view', 'home', 'home'), ('Back', 'Back to previous …"
      ]
     },
     "metadata": {},
     "output_type": "display_data"
    },
    {
     "data": {
      "application/vnd.jupyter.widget-view+json": {
       "model_id": "9e924af4bc5d41f688410be84bded635",
       "version_major": 2,
       "version_minor": 0
      },
      "text/plain": [
       "Canvas(toolbar=Toolbar(toolitems=[('Home', 'Reset original view', 'home', 'home'), ('Back', 'Back to previous …"
      ]
     },
     "metadata": {},
     "output_type": "display_data"
    },
    {
     "data": {
      "application/vnd.jupyter.widget-view+json": {
       "model_id": "c722b91bb04e46b48a5af5d64090cb83",
       "version_major": 2,
       "version_minor": 0
      },
      "text/plain": [
       "Canvas(toolbar=Toolbar(toolitems=[('Home', 'Reset original view', 'home', 'home'), ('Back', 'Back to previous …"
      ]
     },
     "metadata": {},
     "output_type": "display_data"
    },
    {
     "data": {
      "application/vnd.jupyter.widget-view+json": {
       "model_id": "f59a9d98bb4647c6aae9eacce00dcc61",
       "version_major": 2,
       "version_minor": 0
      },
      "text/plain": [
       "Canvas(toolbar=Toolbar(toolitems=[('Home', 'Reset original view', 'home', 'home'), ('Back', 'Back to previous …"
      ]
     },
     "metadata": {},
     "output_type": "display_data"
    },
    {
     "data": {
      "application/vnd.jupyter.widget-view+json": {
       "model_id": "7217490d24264e9792320f0467d2b0b4",
       "version_major": 2,
       "version_minor": 0
      },
      "text/plain": [
       "Canvas(toolbar=Toolbar(toolitems=[('Home', 'Reset original view', 'home', 'home'), ('Back', 'Back to previous …"
      ]
     },
     "metadata": {},
     "output_type": "display_data"
    },
    {
     "data": {
      "application/vnd.jupyter.widget-view+json": {
       "model_id": "c2a9d70dc5ea40ffb3ba2fb66d2c2a6b",
       "version_major": 2,
       "version_minor": 0
      },
      "text/plain": [
       "Canvas(toolbar=Toolbar(toolitems=[('Home', 'Reset original view', 'home', 'home'), ('Back', 'Back to previous …"
      ]
     },
     "metadata": {},
     "output_type": "display_data"
    },
    {
     "data": {
      "application/vnd.jupyter.widget-view+json": {
       "model_id": "c21011a7ae7d4632be822390a20b9d87",
       "version_major": 2,
       "version_minor": 0
      },
      "text/plain": [
       "Canvas(toolbar=Toolbar(toolitems=[('Home', 'Reset original view', 'home', 'home'), ('Back', 'Back to previous …"
      ]
     },
     "metadata": {},
     "output_type": "display_data"
    },
    {
     "data": {
      "application/vnd.jupyter.widget-view+json": {
       "model_id": "b415d28f18a847138787b324db87d148",
       "version_major": 2,
       "version_minor": 0
      },
      "text/plain": [
       "Canvas(toolbar=Toolbar(toolitems=[('Home', 'Reset original view', 'home', 'home'), ('Back', 'Back to previous …"
      ]
     },
     "metadata": {},
     "output_type": "display_data"
    },
    {
     "data": {
      "application/vnd.jupyter.widget-view+json": {
       "model_id": "43bf103a000648e1904552875e868bbe",
       "version_major": 2,
       "version_minor": 0
      },
      "text/plain": [
       "Canvas(toolbar=Toolbar(toolitems=[('Home', 'Reset original view', 'home', 'home'), ('Back', 'Back to previous …"
      ]
     },
     "metadata": {},
     "output_type": "display_data"
    },
    {
     "data": {
      "application/vnd.jupyter.widget-view+json": {
       "model_id": "5287f26731504f04af0c74a0a5eebeb6",
       "version_major": 2,
       "version_minor": 0
      },
      "text/plain": [
       "Canvas(toolbar=Toolbar(toolitems=[('Home', 'Reset original view', 'home', 'home'), ('Back', 'Back to previous …"
      ]
     },
     "metadata": {},
     "output_type": "display_data"
    },
    {
     "data": {
      "application/vnd.jupyter.widget-view+json": {
       "model_id": "b4e58675294342118c4c7bc85f4f9627",
       "version_major": 2,
       "version_minor": 0
      },
      "text/plain": [
       "Canvas(toolbar=Toolbar(toolitems=[('Home', 'Reset original view', 'home', 'home'), ('Back', 'Back to previous …"
      ]
     },
     "metadata": {},
     "output_type": "display_data"
    },
    {
     "data": {
      "application/vnd.jupyter.widget-view+json": {
       "model_id": "198f2219a6e74ab8aa91d2b981ad05b7",
       "version_major": 2,
       "version_minor": 0
      },
      "text/plain": [
       "Canvas(toolbar=Toolbar(toolitems=[('Home', 'Reset original view', 'home', 'home'), ('Back', 'Back to previous …"
      ]
     },
     "metadata": {},
     "output_type": "display_data"
    },
    {
     "data": {
      "application/vnd.jupyter.widget-view+json": {
       "model_id": "db2f8a3e7acc41c5aa7c33c2e4d659d5",
       "version_major": 2,
       "version_minor": 0
      },
      "text/plain": [
       "Canvas(toolbar=Toolbar(toolitems=[('Home', 'Reset original view', 'home', 'home'), ('Back', 'Back to previous …"
      ]
     },
     "metadata": {},
     "output_type": "display_data"
    },
    {
     "data": {
      "application/vnd.jupyter.widget-view+json": {
       "model_id": "aee7a4c48d894fbaa9cd87cbd4059ab3",
       "version_major": 2,
       "version_minor": 0
      },
      "text/plain": [
       "Canvas(toolbar=Toolbar(toolitems=[('Home', 'Reset original view', 'home', 'home'), ('Back', 'Back to previous …"
      ]
     },
     "metadata": {},
     "output_type": "display_data"
    },
    {
     "data": {
      "application/vnd.jupyter.widget-view+json": {
       "model_id": "26d29dac8a4747c59ae49a69c6795bae",
       "version_major": 2,
       "version_minor": 0
      },
      "text/plain": [
       "Canvas(toolbar=Toolbar(toolitems=[('Home', 'Reset original view', 'home', 'home'), ('Back', 'Back to previous …"
      ]
     },
     "metadata": {},
     "output_type": "display_data"
    },
    {
     "data": {
      "application/vnd.jupyter.widget-view+json": {
       "model_id": "66a3946536f54338978a5b7961356d15",
       "version_major": 2,
       "version_minor": 0
      },
      "text/plain": [
       "Canvas(toolbar=Toolbar(toolitems=[('Home', 'Reset original view', 'home', 'home'), ('Back', 'Back to previous …"
      ]
     },
     "metadata": {},
     "output_type": "display_data"
    },
    {
     "data": {
      "application/vnd.jupyter.widget-view+json": {
       "model_id": "0be94a440c5543109e793f0f5798daae",
       "version_major": 2,
       "version_minor": 0
      },
      "text/plain": [
       "Canvas(toolbar=Toolbar(toolitems=[('Home', 'Reset original view', 'home', 'home'), ('Back', 'Back to previous …"
      ]
     },
     "metadata": {},
     "output_type": "display_data"
    },
    {
     "data": {
      "application/vnd.jupyter.widget-view+json": {
       "model_id": "f4a8da46f15e452693c4930e0b1b59d7",
       "version_major": 2,
       "version_minor": 0
      },
      "text/plain": [
       "Canvas(toolbar=Toolbar(toolitems=[('Home', 'Reset original view', 'home', 'home'), ('Back', 'Back to previous …"
      ]
     },
     "metadata": {},
     "output_type": "display_data"
    },
    {
     "data": {
      "application/vnd.jupyter.widget-view+json": {
       "model_id": "317f5e60c1464a76bd2663831a603b64",
       "version_major": 2,
       "version_minor": 0
      },
      "text/plain": [
       "Canvas(toolbar=Toolbar(toolitems=[('Home', 'Reset original view', 'home', 'home'), ('Back', 'Back to previous …"
      ]
     },
     "metadata": {},
     "output_type": "display_data"
    },
    {
     "data": {
      "application/vnd.jupyter.widget-view+json": {
       "model_id": "9998ac9751734b81aa84adb4bc492298",
       "version_major": 2,
       "version_minor": 0
      },
      "text/plain": [
       "Canvas(toolbar=Toolbar(toolitems=[('Home', 'Reset original view', 'home', 'home'), ('Back', 'Back to previous …"
      ]
     },
     "metadata": {},
     "output_type": "display_data"
    },
    {
     "data": {
      "application/vnd.jupyter.widget-view+json": {
       "model_id": "18806496bc3d42f698bdf7e5478e9a6e",
       "version_major": 2,
       "version_minor": 0
      },
      "text/plain": [
       "Canvas(toolbar=Toolbar(toolitems=[('Home', 'Reset original view', 'home', 'home'), ('Back', 'Back to previous …"
      ]
     },
     "metadata": {},
     "output_type": "display_data"
    },
    {
     "data": {
      "application/vnd.jupyter.widget-view+json": {
       "model_id": "5644aaf73f9b4aa78fb501a2b0cf51a5",
       "version_major": 2,
       "version_minor": 0
      },
      "text/plain": [
       "Canvas(toolbar=Toolbar(toolitems=[('Home', 'Reset original view', 'home', 'home'), ('Back', 'Back to previous …"
      ]
     },
     "metadata": {},
     "output_type": "display_data"
    },
    {
     "data": {
      "application/vnd.jupyter.widget-view+json": {
       "model_id": "cbc62484ab5e44c4aa3a59b80765b4d7",
       "version_major": 2,
       "version_minor": 0
      },
      "text/plain": [
       "Canvas(toolbar=Toolbar(toolitems=[('Home', 'Reset original view', 'home', 'home'), ('Back', 'Back to previous …"
      ]
     },
     "metadata": {},
     "output_type": "display_data"
    },
    {
     "data": {
      "application/vnd.jupyter.widget-view+json": {
       "model_id": "f89195d5fef84b36a010db560180cd3b",
       "version_major": 2,
       "version_minor": 0
      },
      "text/plain": [
       "Canvas(toolbar=Toolbar(toolitems=[('Home', 'Reset original view', 'home', 'home'), ('Back', 'Back to previous …"
      ]
     },
     "metadata": {},
     "output_type": "display_data"
    },
    {
     "data": {
      "application/vnd.jupyter.widget-view+json": {
       "model_id": "bf78501be6934a09a52a9cf562fc3787",
       "version_major": 2,
       "version_minor": 0
      },
      "text/plain": [
       "Canvas(toolbar=Toolbar(toolitems=[('Home', 'Reset original view', 'home', 'home'), ('Back', 'Back to previous …"
      ]
     },
     "metadata": {},
     "output_type": "display_data"
    },
    {
     "data": {
      "application/vnd.jupyter.widget-view+json": {
       "model_id": "f6a8bcb334b844d388cbf419bbe00fda",
       "version_major": 2,
       "version_minor": 0
      },
      "text/plain": [
       "Canvas(toolbar=Toolbar(toolitems=[('Home', 'Reset original view', 'home', 'home'), ('Back', 'Back to previous …"
      ]
     },
     "metadata": {},
     "output_type": "display_data"
    },
    {
     "data": {
      "application/vnd.jupyter.widget-view+json": {
       "model_id": "5c9539d5efb9461e87b03b9e4e607758",
       "version_major": 2,
       "version_minor": 0
      },
      "text/plain": [
       "Canvas(toolbar=Toolbar(toolitems=[('Home', 'Reset original view', 'home', 'home'), ('Back', 'Back to previous …"
      ]
     },
     "metadata": {},
     "output_type": "display_data"
    },
    {
     "data": {
      "application/vnd.jupyter.widget-view+json": {
       "model_id": "3c573bbcb7bb4a1f9599e407f81fd1f6",
       "version_major": 2,
       "version_minor": 0
      },
      "text/plain": [
       "Canvas(toolbar=Toolbar(toolitems=[('Home', 'Reset original view', 'home', 'home'), ('Back', 'Back to previous …"
      ]
     },
     "metadata": {},
     "output_type": "display_data"
    },
    {
     "data": {
      "application/vnd.jupyter.widget-view+json": {
       "model_id": "0264f0823b364feea607b0236d08a149",
       "version_major": 2,
       "version_minor": 0
      },
      "text/plain": [
       "Canvas(toolbar=Toolbar(toolitems=[('Home', 'Reset original view', 'home', 'home'), ('Back', 'Back to previous …"
      ]
     },
     "metadata": {},
     "output_type": "display_data"
    },
    {
     "data": {
      "application/vnd.jupyter.widget-view+json": {
       "model_id": "57c8f4b6060a40658480860aebde54cd",
       "version_major": 2,
       "version_minor": 0
      },
      "text/plain": [
       "Canvas(toolbar=Toolbar(toolitems=[('Home', 'Reset original view', 'home', 'home'), ('Back', 'Back to previous …"
      ]
     },
     "metadata": {},
     "output_type": "display_data"
    },
    {
     "data": {
      "application/vnd.jupyter.widget-view+json": {
       "model_id": "9e10b1d11724475c8e364f4b5f2a209a",
       "version_major": 2,
       "version_minor": 0
      },
      "text/plain": [
       "Canvas(toolbar=Toolbar(toolitems=[('Home', 'Reset original view', 'home', 'home'), ('Back', 'Back to previous …"
      ]
     },
     "metadata": {},
     "output_type": "display_data"
    },
    {
     "data": {
      "application/vnd.jupyter.widget-view+json": {
       "model_id": "cb0f98d3f0ea4c70b6cc62d88434946f",
       "version_major": 2,
       "version_minor": 0
      },
      "text/plain": [
       "Canvas(toolbar=Toolbar(toolitems=[('Home', 'Reset original view', 'home', 'home'), ('Back', 'Back to previous …"
      ]
     },
     "metadata": {},
     "output_type": "display_data"
    },
    {
     "data": {
      "application/vnd.jupyter.widget-view+json": {
       "model_id": "dbeb9a6973b34320a9609ae9b726197b",
       "version_major": 2,
       "version_minor": 0
      },
      "text/plain": [
       "Canvas(toolbar=Toolbar(toolitems=[('Home', 'Reset original view', 'home', 'home'), ('Back', 'Back to previous …"
      ]
     },
     "metadata": {},
     "output_type": "display_data"
    },
    {
     "data": {
      "application/vnd.jupyter.widget-view+json": {
       "model_id": "59b49d9351564f0ebdefea139f4e2eb1",
       "version_major": 2,
       "version_minor": 0
      },
      "text/plain": [
       "Canvas(toolbar=Toolbar(toolitems=[('Home', 'Reset original view', 'home', 'home'), ('Back', 'Back to previous …"
      ]
     },
     "metadata": {},
     "output_type": "display_data"
    },
    {
     "data": {
      "application/vnd.jupyter.widget-view+json": {
       "model_id": "992738316a8e4383bc8c2e028009f7ee",
       "version_major": 2,
       "version_minor": 0
      },
      "text/plain": [
       "Canvas(toolbar=Toolbar(toolitems=[('Home', 'Reset original view', 'home', 'home'), ('Back', 'Back to previous …"
      ]
     },
     "metadata": {},
     "output_type": "display_data"
    },
    {
     "data": {
      "application/vnd.jupyter.widget-view+json": {
       "model_id": "9ed45d311e884781b743291f9abf4996",
       "version_major": 2,
       "version_minor": 0
      },
      "text/plain": [
       "Canvas(toolbar=Toolbar(toolitems=[('Home', 'Reset original view', 'home', 'home'), ('Back', 'Back to previous …"
      ]
     },
     "metadata": {},
     "output_type": "display_data"
    },
    {
     "data": {
      "application/vnd.jupyter.widget-view+json": {
       "model_id": "d4d638bdc9b74c1bbd753c9d42e51601",
       "version_major": 2,
       "version_minor": 0
      },
      "text/plain": [
       "Canvas(toolbar=Toolbar(toolitems=[('Home', 'Reset original view', 'home', 'home'), ('Back', 'Back to previous …"
      ]
     },
     "metadata": {},
     "output_type": "display_data"
    },
    {
     "data": {
      "application/vnd.jupyter.widget-view+json": {
       "model_id": "6fbfd5b2590f4633a261173aaf7dc609",
       "version_major": 2,
       "version_minor": 0
      },
      "text/plain": [
       "Canvas(toolbar=Toolbar(toolitems=[('Home', 'Reset original view', 'home', 'home'), ('Back', 'Back to previous …"
      ]
     },
     "metadata": {},
     "output_type": "display_data"
    },
    {
     "data": {
      "application/vnd.jupyter.widget-view+json": {
       "model_id": "20d7fd92013b469ea99e8d065e4daac8",
       "version_major": 2,
       "version_minor": 0
      },
      "text/plain": [
       "Canvas(toolbar=Toolbar(toolitems=[('Home', 'Reset original view', 'home', 'home'), ('Back', 'Back to previous …"
      ]
     },
     "metadata": {},
     "output_type": "display_data"
    },
    {
     "data": {
      "application/vnd.jupyter.widget-view+json": {
       "model_id": "e4107f10e1a149618b2100620c74619a",
       "version_major": 2,
       "version_minor": 0
      },
      "text/plain": [
       "Canvas(toolbar=Toolbar(toolitems=[('Home', 'Reset original view', 'home', 'home'), ('Back', 'Back to previous …"
      ]
     },
     "metadata": {},
     "output_type": "display_data"
    },
    {
     "data": {
      "application/vnd.jupyter.widget-view+json": {
       "model_id": "b6ae3862b6524cbfbd7769aeaef218d6",
       "version_major": 2,
       "version_minor": 0
      },
      "text/plain": [
       "Canvas(toolbar=Toolbar(toolitems=[('Home', 'Reset original view', 'home', 'home'), ('Back', 'Back to previous …"
      ]
     },
     "metadata": {},
     "output_type": "display_data"
    },
    {
     "data": {
      "application/vnd.jupyter.widget-view+json": {
       "model_id": "5a1cffd1135647cca113ac2309e70242",
       "version_major": 2,
       "version_minor": 0
      },
      "text/plain": [
       "Canvas(toolbar=Toolbar(toolitems=[('Home', 'Reset original view', 'home', 'home'), ('Back', 'Back to previous …"
      ]
     },
     "metadata": {},
     "output_type": "display_data"
    },
    {
     "data": {
      "application/vnd.jupyter.widget-view+json": {
       "model_id": "77ea860301ee4ac6b4017b17203f61da",
       "version_major": 2,
       "version_minor": 0
      },
      "text/plain": [
       "Canvas(toolbar=Toolbar(toolitems=[('Home', 'Reset original view', 'home', 'home'), ('Back', 'Back to previous …"
      ]
     },
     "metadata": {},
     "output_type": "display_data"
    },
    {
     "data": {
      "application/vnd.jupyter.widget-view+json": {
       "model_id": "e68c3c493839433e80146b08d72597d1",
       "version_major": 2,
       "version_minor": 0
      },
      "text/plain": [
       "Canvas(toolbar=Toolbar(toolitems=[('Home', 'Reset original view', 'home', 'home'), ('Back', 'Back to previous …"
      ]
     },
     "metadata": {},
     "output_type": "display_data"
    },
    {
     "data": {
      "application/vnd.jupyter.widget-view+json": {
       "model_id": "bc09018728e84993898e03e2dfebeae9",
       "version_major": 2,
       "version_minor": 0
      },
      "text/plain": [
       "Canvas(toolbar=Toolbar(toolitems=[('Home', 'Reset original view', 'home', 'home'), ('Back', 'Back to previous …"
      ]
     },
     "metadata": {},
     "output_type": "display_data"
    },
    {
     "data": {
      "application/vnd.jupyter.widget-view+json": {
       "model_id": "8370aa22cdb14830b20b8ea17440b39e",
       "version_major": 2,
       "version_minor": 0
      },
      "text/plain": [
       "Canvas(toolbar=Toolbar(toolitems=[('Home', 'Reset original view', 'home', 'home'), ('Back', 'Back to previous …"
      ]
     },
     "metadata": {},
     "output_type": "display_data"
    },
    {
     "data": {
      "application/vnd.jupyter.widget-view+json": {
       "model_id": "a67a9a3ee0a74395bdff7b88bc7aaf7c",
       "version_major": 2,
       "version_minor": 0
      },
      "text/plain": [
       "Canvas(toolbar=Toolbar(toolitems=[('Home', 'Reset original view', 'home', 'home'), ('Back', 'Back to previous …"
      ]
     },
     "metadata": {},
     "output_type": "display_data"
    },
    {
     "data": {
      "application/vnd.jupyter.widget-view+json": {
       "model_id": "4c8ecb9dd04e4204b4831ca4388be12e",
       "version_major": 2,
       "version_minor": 0
      },
      "text/plain": [
       "Canvas(toolbar=Toolbar(toolitems=[('Home', 'Reset original view', 'home', 'home'), ('Back', 'Back to previous …"
      ]
     },
     "metadata": {},
     "output_type": "display_data"
    },
    {
     "data": {
      "application/vnd.jupyter.widget-view+json": {
       "model_id": "15f33943b10042929f4827d7676598f6",
       "version_major": 2,
       "version_minor": 0
      },
      "text/plain": [
       "Canvas(toolbar=Toolbar(toolitems=[('Home', 'Reset original view', 'home', 'home'), ('Back', 'Back to previous …"
      ]
     },
     "metadata": {},
     "output_type": "display_data"
    },
    {
     "data": {
      "application/vnd.jupyter.widget-view+json": {
       "model_id": "a13a612401604631b73e77824d4837c6",
       "version_major": 2,
       "version_minor": 0
      },
      "text/plain": [
       "Canvas(toolbar=Toolbar(toolitems=[('Home', 'Reset original view', 'home', 'home'), ('Back', 'Back to previous …"
      ]
     },
     "metadata": {},
     "output_type": "display_data"
    },
    {
     "data": {
      "application/vnd.jupyter.widget-view+json": {
       "model_id": "90a563ee21bb4fb1b3cc4474827bd5d9",
       "version_major": 2,
       "version_minor": 0
      },
      "text/plain": [
       "Canvas(toolbar=Toolbar(toolitems=[('Home', 'Reset original view', 'home', 'home'), ('Back', 'Back to previous …"
      ]
     },
     "metadata": {},
     "output_type": "display_data"
    },
    {
     "data": {
      "application/vnd.jupyter.widget-view+json": {
       "model_id": "7feb4c65f9d24b9aa8f1dd2455a9d448",
       "version_major": 2,
       "version_minor": 0
      },
      "text/plain": [
       "Canvas(toolbar=Toolbar(toolitems=[('Home', 'Reset original view', 'home', 'home'), ('Back', 'Back to previous …"
      ]
     },
     "metadata": {},
     "output_type": "display_data"
    },
    {
     "data": {
      "application/vnd.jupyter.widget-view+json": {
       "model_id": "2089450ac2734716adbfa98c58f58175",
       "version_major": 2,
       "version_minor": 0
      },
      "text/plain": [
       "Canvas(toolbar=Toolbar(toolitems=[('Home', 'Reset original view', 'home', 'home'), ('Back', 'Back to previous …"
      ]
     },
     "metadata": {},
     "output_type": "display_data"
    },
    {
     "data": {
      "application/vnd.jupyter.widget-view+json": {
       "model_id": "2b5892d0bb5444c3bc118291232ca1e9",
       "version_major": 2,
       "version_minor": 0
      },
      "text/plain": [
       "Canvas(toolbar=Toolbar(toolitems=[('Home', 'Reset original view', 'home', 'home'), ('Back', 'Back to previous …"
      ]
     },
     "metadata": {},
     "output_type": "display_data"
    },
    {
     "data": {
      "application/vnd.jupyter.widget-view+json": {
       "model_id": "2be83605395f498889001f6d49f6e48a",
       "version_major": 2,
       "version_minor": 0
      },
      "text/plain": [
       "Canvas(toolbar=Toolbar(toolitems=[('Home', 'Reset original view', 'home', 'home'), ('Back', 'Back to previous …"
      ]
     },
     "metadata": {},
     "output_type": "display_data"
    },
    {
     "data": {
      "application/vnd.jupyter.widget-view+json": {
       "model_id": "17a45799c3824d1584c9e0a70db15610",
       "version_major": 2,
       "version_minor": 0
      },
      "text/plain": [
       "Canvas(toolbar=Toolbar(toolitems=[('Home', 'Reset original view', 'home', 'home'), ('Back', 'Back to previous …"
      ]
     },
     "metadata": {},
     "output_type": "display_data"
    },
    {
     "data": {
      "application/vnd.jupyter.widget-view+json": {
       "model_id": "967503100df04fc4a1b6b2a48f51c18c",
       "version_major": 2,
       "version_minor": 0
      },
      "text/plain": [
       "Canvas(toolbar=Toolbar(toolitems=[('Home', 'Reset original view', 'home', 'home'), ('Back', 'Back to previous …"
      ]
     },
     "metadata": {},
     "output_type": "display_data"
    },
    {
     "data": {
      "application/vnd.jupyter.widget-view+json": {
       "model_id": "0f8761979bc7400a99f935687387b86a",
       "version_major": 2,
       "version_minor": 0
      },
      "text/plain": [
       "Canvas(toolbar=Toolbar(toolitems=[('Home', 'Reset original view', 'home', 'home'), ('Back', 'Back to previous …"
      ]
     },
     "metadata": {},
     "output_type": "display_data"
    },
    {
     "data": {
      "application/vnd.jupyter.widget-view+json": {
       "model_id": "20fabc4ea8884576a3c5386bf6ccaffa",
       "version_major": 2,
       "version_minor": 0
      },
      "text/plain": [
       "Canvas(toolbar=Toolbar(toolitems=[('Home', 'Reset original view', 'home', 'home'), ('Back', 'Back to previous …"
      ]
     },
     "metadata": {},
     "output_type": "display_data"
    },
    {
     "data": {
      "application/vnd.jupyter.widget-view+json": {
       "model_id": "6aaca31db8a34e00ba1b25d61afa8e2d",
       "version_major": 2,
       "version_minor": 0
      },
      "text/plain": [
       "Canvas(toolbar=Toolbar(toolitems=[('Home', 'Reset original view', 'home', 'home'), ('Back', 'Back to previous …"
      ]
     },
     "metadata": {},
     "output_type": "display_data"
    },
    {
     "data": {
      "application/vnd.jupyter.widget-view+json": {
       "model_id": "a52a37e6333e4c4c8432ac8d5d10de36",
       "version_major": 2,
       "version_minor": 0
      },
      "text/plain": [
       "Canvas(toolbar=Toolbar(toolitems=[('Home', 'Reset original view', 'home', 'home'), ('Back', 'Back to previous …"
      ]
     },
     "metadata": {},
     "output_type": "display_data"
    },
    {
     "data": {
      "application/vnd.jupyter.widget-view+json": {
       "model_id": "560a9ed6852241dd8b127ffb3bb885e9",
       "version_major": 2,
       "version_minor": 0
      },
      "text/plain": [
       "Canvas(toolbar=Toolbar(toolitems=[('Home', 'Reset original view', 'home', 'home'), ('Back', 'Back to previous …"
      ]
     },
     "metadata": {},
     "output_type": "display_data"
    },
    {
     "data": {
      "application/vnd.jupyter.widget-view+json": {
       "model_id": "38fdcdc7c5504c33b1d5fcf3479b2677",
       "version_major": 2,
       "version_minor": 0
      },
      "text/plain": [
       "Canvas(toolbar=Toolbar(toolitems=[('Home', 'Reset original view', 'home', 'home'), ('Back', 'Back to previous …"
      ]
     },
     "metadata": {},
     "output_type": "display_data"
    },
    {
     "data": {
      "application/vnd.jupyter.widget-view+json": {
       "model_id": "d780a338aef94dbda94f43a4d4f5f5bc",
       "version_major": 2,
       "version_minor": 0
      },
      "text/plain": [
       "Canvas(toolbar=Toolbar(toolitems=[('Home', 'Reset original view', 'home', 'home'), ('Back', 'Back to previous …"
      ]
     },
     "metadata": {},
     "output_type": "display_data"
    },
    {
     "data": {
      "application/vnd.jupyter.widget-view+json": {
       "model_id": "8f44e16ac7a04223812b6d054fc561bc",
       "version_major": 2,
       "version_minor": 0
      },
      "text/plain": [
       "Canvas(toolbar=Toolbar(toolitems=[('Home', 'Reset original view', 'home', 'home'), ('Back', 'Back to previous …"
      ]
     },
     "metadata": {},
     "output_type": "display_data"
    },
    {
     "data": {
      "application/vnd.jupyter.widget-view+json": {
       "model_id": "e554115c0c734cb9a963e4fbb72e753f",
       "version_major": 2,
       "version_minor": 0
      },
      "text/plain": [
       "Canvas(toolbar=Toolbar(toolitems=[('Home', 'Reset original view', 'home', 'home'), ('Back', 'Back to previous …"
      ]
     },
     "metadata": {},
     "output_type": "display_data"
    },
    {
     "data": {
      "application/vnd.jupyter.widget-view+json": {
       "model_id": "6ce1915045d54320824d757217cc842f",
       "version_major": 2,
       "version_minor": 0
      },
      "text/plain": [
       "Canvas(toolbar=Toolbar(toolitems=[('Home', 'Reset original view', 'home', 'home'), ('Back', 'Back to previous …"
      ]
     },
     "metadata": {},
     "output_type": "display_data"
    },
    {
     "data": {
      "application/vnd.jupyter.widget-view+json": {
       "model_id": "5084a2058eca44a7902a7479f8c2f16a",
       "version_major": 2,
       "version_minor": 0
      },
      "text/plain": [
       "Canvas(toolbar=Toolbar(toolitems=[('Home', 'Reset original view', 'home', 'home'), ('Back', 'Back to previous …"
      ]
     },
     "metadata": {},
     "output_type": "display_data"
    },
    {
     "data": {
      "application/vnd.jupyter.widget-view+json": {
       "model_id": "b513cbfef7464bbaa359dbf28d59e90c",
       "version_major": 2,
       "version_minor": 0
      },
      "text/plain": [
       "Canvas(toolbar=Toolbar(toolitems=[('Home', 'Reset original view', 'home', 'home'), ('Back', 'Back to previous …"
      ]
     },
     "metadata": {},
     "output_type": "display_data"
    },
    {
     "data": {
      "application/vnd.jupyter.widget-view+json": {
       "model_id": "e6f5680eaa094bd79fc45bb3ff4e6759",
       "version_major": 2,
       "version_minor": 0
      },
      "text/plain": [
       "Canvas(toolbar=Toolbar(toolitems=[('Home', 'Reset original view', 'home', 'home'), ('Back', 'Back to previous …"
      ]
     },
     "metadata": {},
     "output_type": "display_data"
    },
    {
     "data": {
      "application/vnd.jupyter.widget-view+json": {
       "model_id": "699e7e25f6724e14b600a573212c9321",
       "version_major": 2,
       "version_minor": 0
      },
      "text/plain": [
       "Canvas(toolbar=Toolbar(toolitems=[('Home', 'Reset original view', 'home', 'home'), ('Back', 'Back to previous …"
      ]
     },
     "metadata": {},
     "output_type": "display_data"
    },
    {
     "data": {
      "application/vnd.jupyter.widget-view+json": {
       "model_id": "df968f7d6fa64803a02ca85b92dc6d39",
       "version_major": 2,
       "version_minor": 0
      },
      "text/plain": [
       "Canvas(toolbar=Toolbar(toolitems=[('Home', 'Reset original view', 'home', 'home'), ('Back', 'Back to previous …"
      ]
     },
     "metadata": {},
     "output_type": "display_data"
    },
    {
     "data": {
      "application/vnd.jupyter.widget-view+json": {
       "model_id": "418afe8348764e918d074514576ef2ff",
       "version_major": 2,
       "version_minor": 0
      },
      "text/plain": [
       "Canvas(toolbar=Toolbar(toolitems=[('Home', 'Reset original view', 'home', 'home'), ('Back', 'Back to previous …"
      ]
     },
     "metadata": {},
     "output_type": "display_data"
    },
    {
     "data": {
      "application/vnd.jupyter.widget-view+json": {
       "model_id": "9495f872abe346889f6c38141ba9d264",
       "version_major": 2,
       "version_minor": 0
      },
      "text/plain": [
       "Canvas(toolbar=Toolbar(toolitems=[('Home', 'Reset original view', 'home', 'home'), ('Back', 'Back to previous …"
      ]
     },
     "metadata": {},
     "output_type": "display_data"
    },
    {
     "data": {
      "application/vnd.jupyter.widget-view+json": {
       "model_id": "31e98187548844d5b3187065abeed884",
       "version_major": 2,
       "version_minor": 0
      },
      "text/plain": [
       "Canvas(toolbar=Toolbar(toolitems=[('Home', 'Reset original view', 'home', 'home'), ('Back', 'Back to previous …"
      ]
     },
     "metadata": {},
     "output_type": "display_data"
    },
    {
     "data": {
      "application/vnd.jupyter.widget-view+json": {
       "model_id": "a67ba0da603145a79c344ed32d6916e5",
       "version_major": 2,
       "version_minor": 0
      },
      "text/plain": [
       "Canvas(toolbar=Toolbar(toolitems=[('Home', 'Reset original view', 'home', 'home'), ('Back', 'Back to previous …"
      ]
     },
     "metadata": {},
     "output_type": "display_data"
    },
    {
     "data": {
      "application/vnd.jupyter.widget-view+json": {
       "model_id": "67e86a91410149b7b17e3ac3c6b8bd26",
       "version_major": 2,
       "version_minor": 0
      },
      "text/plain": [
       "Canvas(toolbar=Toolbar(toolitems=[('Home', 'Reset original view', 'home', 'home'), ('Back', 'Back to previous …"
      ]
     },
     "metadata": {},
     "output_type": "display_data"
    },
    {
     "data": {
      "application/vnd.jupyter.widget-view+json": {
       "model_id": "dc5983e64c2046c4bc540341e03a47de",
       "version_major": 2,
       "version_minor": 0
      },
      "text/plain": [
       "Canvas(toolbar=Toolbar(toolitems=[('Home', 'Reset original view', 'home', 'home'), ('Back', 'Back to previous …"
      ]
     },
     "metadata": {},
     "output_type": "display_data"
    },
    {
     "data": {
      "application/vnd.jupyter.widget-view+json": {
       "model_id": "c1db0100c84543c0b86efb4ee2f177cf",
       "version_major": 2,
       "version_minor": 0
      },
      "text/plain": [
       "Canvas(toolbar=Toolbar(toolitems=[('Home', 'Reset original view', 'home', 'home'), ('Back', 'Back to previous …"
      ]
     },
     "metadata": {},
     "output_type": "display_data"
    },
    {
     "data": {
      "application/vnd.jupyter.widget-view+json": {
       "model_id": "b8af2f4a1af64a849cf89953a142e204",
       "version_major": 2,
       "version_minor": 0
      },
      "text/plain": [
       "Canvas(toolbar=Toolbar(toolitems=[('Home', 'Reset original view', 'home', 'home'), ('Back', 'Back to previous …"
      ]
     },
     "metadata": {},
     "output_type": "display_data"
    },
    {
     "data": {
      "application/vnd.jupyter.widget-view+json": {
       "model_id": "34a4bfec4dc94f638d3d01568b5f9a47",
       "version_major": 2,
       "version_minor": 0
      },
      "text/plain": [
       "Canvas(toolbar=Toolbar(toolitems=[('Home', 'Reset original view', 'home', 'home'), ('Back', 'Back to previous …"
      ]
     },
     "metadata": {},
     "output_type": "display_data"
    },
    {
     "data": {
      "application/vnd.jupyter.widget-view+json": {
       "model_id": "3298b07b40ac4b8f8affdb372148b2a0",
       "version_major": 2,
       "version_minor": 0
      },
      "text/plain": [
       "Canvas(toolbar=Toolbar(toolitems=[('Home', 'Reset original view', 'home', 'home'), ('Back', 'Back to previous …"
      ]
     },
     "metadata": {},
     "output_type": "display_data"
    },
    {
     "data": {
      "application/vnd.jupyter.widget-view+json": {
       "model_id": "1f12b746f43344e594192107f54325ff",
       "version_major": 2,
       "version_minor": 0
      },
      "text/plain": [
       "Canvas(toolbar=Toolbar(toolitems=[('Home', 'Reset original view', 'home', 'home'), ('Back', 'Back to previous …"
      ]
     },
     "metadata": {},
     "output_type": "display_data"
    },
    {
     "data": {
      "application/vnd.jupyter.widget-view+json": {
       "model_id": "f725c374241c49f1bd8694a6b18cdf70",
       "version_major": 2,
       "version_minor": 0
      },
      "text/plain": [
       "Canvas(toolbar=Toolbar(toolitems=[('Home', 'Reset original view', 'home', 'home'), ('Back', 'Back to previous …"
      ]
     },
     "metadata": {},
     "output_type": "display_data"
    },
    {
     "data": {
      "application/vnd.jupyter.widget-view+json": {
       "model_id": "9fe10ac1e4df4c0abd6158fee12ffbe8",
       "version_major": 2,
       "version_minor": 0
      },
      "text/plain": [
       "Canvas(toolbar=Toolbar(toolitems=[('Home', 'Reset original view', 'home', 'home'), ('Back', 'Back to previous …"
      ]
     },
     "metadata": {},
     "output_type": "display_data"
    },
    {
     "data": {
      "application/vnd.jupyter.widget-view+json": {
       "model_id": "936b1e4c4608475d917c593081049e10",
       "version_major": 2,
       "version_minor": 0
      },
      "text/plain": [
       "Canvas(toolbar=Toolbar(toolitems=[('Home', 'Reset original view', 'home', 'home'), ('Back', 'Back to previous …"
      ]
     },
     "metadata": {},
     "output_type": "display_data"
    },
    {
     "data": {
      "application/vnd.jupyter.widget-view+json": {
       "model_id": "add62db7b7d34d879eaf48106fb3772a",
       "version_major": 2,
       "version_minor": 0
      },
      "text/plain": [
       "Canvas(toolbar=Toolbar(toolitems=[('Home', 'Reset original view', 'home', 'home'), ('Back', 'Back to previous …"
      ]
     },
     "metadata": {},
     "output_type": "display_data"
    },
    {
     "data": {
      "application/vnd.jupyter.widget-view+json": {
       "model_id": "b5ca6b9942ec40f8aa61b24b2b453398",
       "version_major": 2,
       "version_minor": 0
      },
      "text/plain": [
       "Canvas(toolbar=Toolbar(toolitems=[('Home', 'Reset original view', 'home', 'home'), ('Back', 'Back to previous …"
      ]
     },
     "metadata": {},
     "output_type": "display_data"
    },
    {
     "data": {
      "application/vnd.jupyter.widget-view+json": {
       "model_id": "64203432bfcf42329f8134f31d56d3c2",
       "version_major": 2,
       "version_minor": 0
      },
      "text/plain": [
       "Canvas(toolbar=Toolbar(toolitems=[('Home', 'Reset original view', 'home', 'home'), ('Back', 'Back to previous …"
      ]
     },
     "metadata": {},
     "output_type": "display_data"
    },
    {
     "data": {
      "application/vnd.jupyter.widget-view+json": {
       "model_id": "9a6c292fa76445eaabb27a32167e8758",
       "version_major": 2,
       "version_minor": 0
      },
      "text/plain": [
       "Canvas(toolbar=Toolbar(toolitems=[('Home', 'Reset original view', 'home', 'home'), ('Back', 'Back to previous …"
      ]
     },
     "metadata": {},
     "output_type": "display_data"
    },
    {
     "data": {
      "application/vnd.jupyter.widget-view+json": {
       "model_id": "2b83f08a2ca34fdda4c30ac055f87d85",
       "version_major": 2,
       "version_minor": 0
      },
      "text/plain": [
       "Canvas(toolbar=Toolbar(toolitems=[('Home', 'Reset original view', 'home', 'home'), ('Back', 'Back to previous …"
      ]
     },
     "metadata": {},
     "output_type": "display_data"
    },
    {
     "data": {
      "application/vnd.jupyter.widget-view+json": {
       "model_id": "8802f67102494b2096221dfe5bf3b211",
       "version_major": 2,
       "version_minor": 0
      },
      "text/plain": [
       "Canvas(toolbar=Toolbar(toolitems=[('Home', 'Reset original view', 'home', 'home'), ('Back', 'Back to previous …"
      ]
     },
     "metadata": {},
     "output_type": "display_data"
    },
    {
     "data": {
      "application/vnd.jupyter.widget-view+json": {
       "model_id": "6cb9be2cf94d42deb29eba0b5cc0de57",
       "version_major": 2,
       "version_minor": 0
      },
      "text/plain": [
       "Canvas(toolbar=Toolbar(toolitems=[('Home', 'Reset original view', 'home', 'home'), ('Back', 'Back to previous …"
      ]
     },
     "metadata": {},
     "output_type": "display_data"
    },
    {
     "data": {
      "application/vnd.jupyter.widget-view+json": {
       "model_id": "d416da627f8e42e9be29d82b7541e3d8",
       "version_major": 2,
       "version_minor": 0
      },
      "text/plain": [
       "Canvas(toolbar=Toolbar(toolitems=[('Home', 'Reset original view', 'home', 'home'), ('Back', 'Back to previous …"
      ]
     },
     "metadata": {},
     "output_type": "display_data"
    },
    {
     "data": {
      "application/vnd.jupyter.widget-view+json": {
       "model_id": "6d2d0fc355f04a9fa0a37d5a882bd341",
       "version_major": 2,
       "version_minor": 0
      },
      "text/plain": [
       "Canvas(toolbar=Toolbar(toolitems=[('Home', 'Reset original view', 'home', 'home'), ('Back', 'Back to previous …"
      ]
     },
     "metadata": {},
     "output_type": "display_data"
    },
    {
     "data": {
      "application/vnd.jupyter.widget-view+json": {
       "model_id": "7f532535ccf3499d8ce705f7a4ecf343",
       "version_major": 2,
       "version_minor": 0
      },
      "text/plain": [
       "Canvas(toolbar=Toolbar(toolitems=[('Home', 'Reset original view', 'home', 'home'), ('Back', 'Back to previous …"
      ]
     },
     "metadata": {},
     "output_type": "display_data"
    },
    {
     "data": {
      "application/vnd.jupyter.widget-view+json": {
       "model_id": "a7aea49d15a34225aee122e6ab729e52",
       "version_major": 2,
       "version_minor": 0
      },
      "text/plain": [
       "Canvas(toolbar=Toolbar(toolitems=[('Home', 'Reset original view', 'home', 'home'), ('Back', 'Back to previous …"
      ]
     },
     "metadata": {},
     "output_type": "display_data"
    },
    {
     "data": {
      "application/vnd.jupyter.widget-view+json": {
       "model_id": "9bad7c9e863d4faaa916bbcb0859126e",
       "version_major": 2,
       "version_minor": 0
      },
      "text/plain": [
       "Canvas(toolbar=Toolbar(toolitems=[('Home', 'Reset original view', 'home', 'home'), ('Back', 'Back to previous …"
      ]
     },
     "metadata": {},
     "output_type": "display_data"
    },
    {
     "data": {
      "application/vnd.jupyter.widget-view+json": {
       "model_id": "e7b31b33515e4da78a09efcd1ef1f327",
       "version_major": 2,
       "version_minor": 0
      },
      "text/plain": [
       "Canvas(toolbar=Toolbar(toolitems=[('Home', 'Reset original view', 'home', 'home'), ('Back', 'Back to previous …"
      ]
     },
     "metadata": {},
     "output_type": "display_data"
    },
    {
     "data": {
      "application/vnd.jupyter.widget-view+json": {
       "model_id": "30a28e7d78eb481d84a0132d5ec23c29",
       "version_major": 2,
       "version_minor": 0
      },
      "text/plain": [
       "Canvas(toolbar=Toolbar(toolitems=[('Home', 'Reset original view', 'home', 'home'), ('Back', 'Back to previous …"
      ]
     },
     "metadata": {},
     "output_type": "display_data"
    },
    {
     "data": {
      "application/vnd.jupyter.widget-view+json": {
       "model_id": "7da1696dead741af86722e5c1f7f5aa1",
       "version_major": 2,
       "version_minor": 0
      },
      "text/plain": [
       "Canvas(toolbar=Toolbar(toolitems=[('Home', 'Reset original view', 'home', 'home'), ('Back', 'Back to previous …"
      ]
     },
     "metadata": {},
     "output_type": "display_data"
    },
    {
     "data": {
      "application/vnd.jupyter.widget-view+json": {
       "model_id": "9be5222719d747e7ad2528d9cc5c7aeb",
       "version_major": 2,
       "version_minor": 0
      },
      "text/plain": [
       "Canvas(toolbar=Toolbar(toolitems=[('Home', 'Reset original view', 'home', 'home'), ('Back', 'Back to previous …"
      ]
     },
     "metadata": {},
     "output_type": "display_data"
    },
    {
     "data": {
      "application/vnd.jupyter.widget-view+json": {
       "model_id": "ff5e3589e14146e5b5fcdad222c2bf76",
       "version_major": 2,
       "version_minor": 0
      },
      "text/plain": [
       "Canvas(toolbar=Toolbar(toolitems=[('Home', 'Reset original view', 'home', 'home'), ('Back', 'Back to previous …"
      ]
     },
     "metadata": {},
     "output_type": "display_data"
    },
    {
     "data": {
      "application/vnd.jupyter.widget-view+json": {
       "model_id": "c3446263ce6c426ba873eb1c9f9f47a3",
       "version_major": 2,
       "version_minor": 0
      },
      "text/plain": [
       "Canvas(toolbar=Toolbar(toolitems=[('Home', 'Reset original view', 'home', 'home'), ('Back', 'Back to previous …"
      ]
     },
     "metadata": {},
     "output_type": "display_data"
    },
    {
     "data": {
      "application/vnd.jupyter.widget-view+json": {
       "model_id": "ba3f1638a4004a4590c1b8a8ac7e7d0c",
       "version_major": 2,
       "version_minor": 0
      },
      "text/plain": [
       "Canvas(toolbar=Toolbar(toolitems=[('Home', 'Reset original view', 'home', 'home'), ('Back', 'Back to previous …"
      ]
     },
     "metadata": {},
     "output_type": "display_data"
    }
   ],
   "source": [
    "# Create separate pngs then compile them into gif using `convert -delay 10 -loop 0 circ_spider-*.png circ_spider.gif`\n",
    "# We can also use the matplotlib.animation API to create animations directly but I find this way is much easier\n",
    "\n",
    "for r_idx, r in enumerate(np.linspace(1.00, 0.25, 120)):\n",
    "    plt.close(fig)\n",
    "    fig, ax = plt.subplots(figsize=(5.5, 5))\n",
    "\n",
    "    plot_vector_field(B, ax=ax, xmin=-1.1, xmax=1.1, ymin=-1.1, ymax=1.1, xstep=0.15, ystep=0.15, alpha=0.15)\n",
    "    ax.plot(r * np.cos(t), r * np.sin(t), zorder=0, alpha=0.5, c=c_blue)\n",
    "    plot_ring_vectors(ax, B, r=r)\n",
    "\n",
    "    plot_axes(ax)\n",
    "    ax.set_xlim([-1.2, 1.2])\n",
    "    ax.set_ylim([-1.2, 1.2])\n",
    "\n",
    "    plt.savefig(\"figures/circ_spider-%d.png\" % r_idx)"
   ]
  },
  {
   "cell_type": "code",
   "execution_count": 13,
   "metadata": {},
   "outputs": [
    {
     "data": {
      "application/vnd.jupyter.widget-view+json": {
       "model_id": "604bf0ab3243460e8af0c7f925629f12",
       "version_major": 2,
       "version_minor": 0
      },
      "text/plain": [
       "Canvas(toolbar=Toolbar(toolitems=[('Home', 'Reset original view', 'home', 'home'), ('Back', 'Back to previous …"
      ]
     },
     "metadata": {},
     "output_type": "display_data"
    }
   ],
   "source": [
    "plt.close(fig)\n",
    "fig, ax = plt.subplots(figsize=(5.5, 5))\n",
    "\n",
    "t = np.arange(0, 2 * np.pi, 0.01)\n",
    "ax.plot(np.cos(t), np.sin(t), zorder=0, alpha=0.5)\n",
    "\n",
    "\n",
    "B = np.array([[ 0.23353769, -0.72409208],\n",
    "              [ 0.47590793, -0.53353769]])\n",
    "theta = 0.705 * 2 * np.pi\n",
    "sol = solve_ivp(lambda t, x: B @ x, [0, 30], [1.2 * np.cos(theta), 1.2 * np.sin(theta)], max_step=0.01)\n",
    "ax.plot(sol.y[0, :], sol.y[1, :])\n",
    "plot_vector_field(B, ax=ax, xmin=-1.25, xmax=1.25, ymin=-1.25, ymax=1.25, xstep=0.10, ystep=0.10, alpha=0.2)\n",
    "ax.arrow(sol.y[0, 100], sol.y[1, 100], sol.y[0, 101] - sol.y[0, 100], sol.y[1, 101] - sol.y[1, 100], \n",
    "        shape='full', lw=0, length_includes_head=False, head_width=.05, color=c_orange)\n",
    "\n",
    "\n",
    "indices = np.where(np.abs(np.linalg.norm(sol.y, axis=0) - 1.0) < 0.01)[0]\n",
    "idx1 = indices[0]\n",
    "idx2 = indices[4]\n",
    "ax.scatter(sol.y[0, [idx1, idx2]], sol.y[1, [idx1, idx2]], c=[\"g\", \"r\"], zorder=11)\n",
    "\n",
    "\n",
    "v = B @ sol.y[:, idx1]\n",
    "v = v / np.linalg.norm(v)\n",
    "ax.arrow(sol.y[0, idx1], sol.y[1, idx1], 0.2 * v[0], 0.2 * v[1], \n",
    "        shape='full', lw=1, length_includes_head=False, head_width=.05, color=\"g\", zorder=10)\n",
    "ax.arrow(sol.y[0, idx1], sol.y[1, idx1], 0.2 * sol.y[0, idx1], 0.2 * sol.y[1, idx1], \n",
    "        shape='full', lw=1, length_includes_head=False, head_width=.05, color=c_blue)\n",
    "ax.text(sol.y[0, idx1]-0.15, sol.y[1, idx1] + 0.1, r\"$x(t_1)$\", c=\"g\")\n",
    "ax.text(sol.y[0, idx1]-0.15, sol.y[1, idx1] - 0.2, r\"$\\hat{n}$\", c=c_blue)\n",
    "ax.text(sol.y[0, idx1]-0.9, sol.y[1, idx1] - 0.1, r\"$\\langle \\hat{n}, \\dot{x}(t_1) \\rangle < 0$\", c=\"g\")\n",
    "\n",
    "\n",
    "v = B @ sol.y[:, idx2]\n",
    "v = v / np.linalg.norm(v)\n",
    "ax.arrow(sol.y[0, idx2], sol.y[1, idx2], 0.2 * v[0], 0.2 * v[1], \n",
    "        shape='full', lw=1, length_includes_head=False, head_width=.05, color=\"r\", zorder=10)\n",
    "ax.arrow(sol.y[0, idx2], sol.y[1, idx2], 0.2 * sol.y[0, idx2], 0.2 * sol.y[1, idx2], \n",
    "        shape='full', lw=1, length_includes_head=False, head_width=.05, color=c_blue)\n",
    "ax.text(sol.y[0, idx2] - 0.3, sol.y[1, idx2], r\"$x(t_2)$\", c=\"r\")\n",
    "ax.text(sol.y[0, idx2] + 0.1, sol.y[1, idx2] - 0.1, r\"$\\hat{n}$\", c=c_blue)\n",
    "ax.text(sol.y[0, idx2]-0.4, sol.y[1, idx2] + 0.6, r\"$\\langle \\hat{n}, \\dot{x}(t_2) \\rangle > 0$\", c=\"r\")\n",
    "\n",
    "\n",
    "plot_axes(ax)\n",
    "plt.savefig(\"figures/circle_fail.png\")"
   ]
  },
  {
   "cell_type": "code",
   "execution_count": 14,
   "metadata": {},
   "outputs": [
    {
     "data": {
      "application/vnd.jupyter.widget-view+json": {
       "model_id": "02f398ace5df4b71b6db9cb0d848f8c3",
       "version_major": 2,
       "version_minor": 0
      },
      "text/plain": [
       "Canvas(toolbar=Toolbar(toolitems=[('Home', 'Reset original view', 'home', 'home'), ('Back', 'Back to previous …"
      ]
     },
     "metadata": {},
     "output_type": "display_data"
    }
   ],
   "source": [
    "try:\n",
    "    plt.close(fig)\n",
    "except NameError:\n",
    "    pass\n",
    "\n",
    "fig, ax = plt.subplots(figsize=(5.5, 5))\n",
    "\n",
    "t = np.arange(0, 2 * np.pi, 0.01)\n",
    "r = 1.0\n",
    "ax.plot(r * np.cos(t), r * np.sin(t), zorder=0, alpha=0.5)\n",
    "\n",
    "plot_axes(ax)\n",
    "plot_vector_field(B, ax=ax, xmin=-1.1, xmax=1.1, ymin=-1.1, ymax=1.1, xstep=0.10, ystep=0.10, alpha=0.15)\n",
    "plot_ring_vectors(ax, B, r=1.0)\n",
    "\n",
    "plt.savefig(\"figures/circle_fail_spider.png\")"
   ]
  },
  {
   "cell_type": "code",
   "execution_count": 15,
   "metadata": {},
   "outputs": [
    {
     "data": {
      "application/vnd.jupyter.widget-view+json": {
       "model_id": "1bb34934f0c247a6b1864d2eab73264c",
       "version_major": 2,
       "version_minor": 0
      },
      "text/plain": [
       "Canvas(toolbar=Toolbar(toolitems=[('Home', 'Reset original view', 'home', 'home'), ('Back', 'Back to previous …"
      ]
     },
     "metadata": {},
     "output_type": "display_data"
    }
   ],
   "source": [
    "from scipy.linalg import solve_lyapunov\n",
    "P = solve_lyapunov(B.T, -np.eye(2))\n",
    "\n",
    "plt.close(fig)\n",
    "fig, ax = plt.subplots(figsize=(5.5, 5))\n",
    "plot_axes(ax)\n",
    "\n",
    "x1 = np.arange(-1.1, 1.1, 0.01)\n",
    "x2 = np.arange(-1.1, 1.1, 0.01)\n",
    "X1, X2 = np.meshgrid(x1, x2)\n",
    "\n",
    "Z = X1 * P[0, 0] * X1 + X1 * P[0, 1] * X2 + X2 * P[1, 0] * X1 + X2 * P[1, 1] * X2\n",
    "\n",
    "contour = ax.contour(X1, X2, Z, levels=[0.1, 0.5, 1.0, 1.5, 2.0, 2.5, 3.0], cmap=\"rainbow_r\")\n",
    "ax.clabel(contour, inline=1, fontsize=10)\n",
    "ax.set_title(r\"Contour plot of $V(x)$\")\n",
    "\n",
    "E, V = np.linalg.eig(P)\n",
    "v1 = np.sqrt(3.0 / E[0]) * V[:, 0]\n",
    "v2 = np.sqrt(3.0 / E[1]) * V[:, 1]\n",
    "V = np.hstack((v1[:, np.newaxis], v2[:, np.newaxis]))\n",
    "theta = -6 * np.pi  / 4\n",
    "u = np.array([np.cos(theta), np.sin(theta)])\n",
    "x = np.dot(V, u)\n",
    "\n",
    "p = P @ x\n",
    "cmap = plt.get_cmap(\"rainbow_r\")\n",
    "\n",
    "ax.scatter(x[0], x[1], color=cmap(1.0))\n",
    "ax.arrow(x[0], x[1], 0.05 * p[0], 0.05 * p[1], \n",
    "        shape='full', lw=1, length_includes_head=False, head_width=.05, color=cmap(1.0))\n",
    "ax.text(x[0] + 0.2, x[1] -0.1, r\"$\\hat{n} = \\nabla V(x)$\", c=cmap(1.0))\n",
    "\n",
    "plot_vector_field(B, ax=ax, xmin=-1.1, xmax=1.1, ymin=-1.1, ymax=1.1, xstep=0.10, ystep=0.10, alpha=0.15)\n",
    "plt.savefig(\"figures/contour.png\")"
   ]
  },
  {
   "cell_type": "code",
   "execution_count": 18,
   "metadata": {},
   "outputs": [
    {
     "data": {
      "application/vnd.jupyter.widget-view+json": {
       "model_id": "1feeb2fdc81143f7a567f286207c2cbc",
       "version_major": 2,
       "version_minor": 0
      },
      "text/plain": [
       "Canvas(toolbar=Toolbar(toolitems=[('Home', 'Reset original view', 'home', 'home'), ('Back', 'Back to previous …"
      ]
     },
     "metadata": {},
     "output_type": "display_data"
    }
   ],
   "source": [
    "plt.close(fig)\n",
    "fig, ax = plt.subplots(figsize=(5.5, 5))\n",
    "plot_axes(ax)\n",
    "plot_vector_field(B, ax=ax, xmin=-1.1, xmax=1.1, ymin=-1.1, ymax=1.1, xstep=0.10, ystep=0.10, alpha=0.15)\n",
    "\n",
    "r = np.sqrt(2)\n",
    "plot_ellipse(ax, P, r=r)\n",
    "\n",
    "theta = 0.705 * 2 * np.pi\n",
    "sol = solve_ivp(lambda t, x: B @ x, [0, 30], [1.2 * np.cos(theta), 1.2 * np.sin(theta)], max_step=0.01)\n",
    "ax.plot(sol.y[0, :], sol.y[1, :], c=c_orange, label=r\"$x(t)$\")\n",
    "ax.arrow(sol.y[0, 100], sol.y[1, 100], sol.y[0, 101] - sol.y[0, 100], sol.y[1, 101] - sol.y[1, 100], \n",
    "        shape='full', lw=0, length_includes_head=False, head_width=.05, color=c_orange)\n",
    "\n",
    "U, S, V = np.linalg.svd(P)\n",
    "Psqrt = U @ np.diag(np.sqrt(S)) @ V\n",
    "indices = np.where(np.abs(np.linalg.norm(Psqrt @ sol.y, axis=0) - r) < 0.01)[0]\n",
    "idx1 = indices[0]\n",
    "ax.scatter(sol.y[0, idx1], sol.y[1, idx1], c=\"g\", zorder=11)\n",
    "\n",
    "v = B @ sol.y[:, idx1]\n",
    "v = v / np.linalg.norm(v)\n",
    "ax.arrow(sol.y[0, idx1], sol.y[1, idx1], 0.2 * v[0], 0.2 * v[1], \n",
    "        shape='full', lw=1, length_includes_head=False, head_width=.05, color=\"g\", zorder=10)\n",
    "ax.arrow(sol.y[0, idx1], sol.y[1, idx1], 0.2 * sol.y[0, idx1], 0.2 * sol.y[1, idx1], \n",
    "        shape='full', lw=1, length_includes_head=False, head_width=.05, color=c_blue)\n",
    "\n",
    "plt.savefig(\"figures/lyap_trajectory.png\")"
   ]
  },
  {
   "cell_type": "code",
   "execution_count": 19,
   "metadata": {},
   "outputs": [
    {
     "data": {
      "application/vnd.jupyter.widget-view+json": {
       "model_id": "c6ee3c793fdd418a9e6b9bca17147ccc",
       "version_major": 2,
       "version_minor": 0
      },
      "text/plain": [
       "Canvas(toolbar=Toolbar(toolitems=[('Home', 'Reset original view', 'home', 'home'), ('Back', 'Back to previous …"
      ]
     },
     "metadata": {},
     "output_type": "display_data"
    }
   ],
   "source": [
    "plt.close(fig)\n",
    "fig, ax = plt.subplots(figsize=(5.5, 5))\n",
    "\n",
    "plot_axes(ax)\n",
    "plot_vector_field(B, ax=ax, xmin=-1.1, xmax=1.1, ymin=-1.1, ymax=1.1, xstep=0.10, ystep=0.10, alpha=0.15)\n",
    "plot_ellipse(ax, P, r=1.5)\n",
    "plot_ring_vectors(ax, B, P, r=1.5)\n",
    "\n",
    "ax.set_xlim([-1.2, 1.2])\n",
    "ax.set_ylim([-1.2, 1.2])\n",
    "plt.savefig(\"figures/lyap_spider.png\")"
   ]
  },
  {
   "cell_type": "code",
   "execution_count": 21,
   "metadata": {},
   "outputs": [
    {
     "data": {
      "application/vnd.jupyter.widget-view+json": {
       "model_id": "c6dc9fc8e6414c73a0413aec9a132064",
       "version_major": 2,
       "version_minor": 0
      },
      "text/plain": [
       "Canvas(toolbar=Toolbar(toolitems=[('Home', 'Reset original view', 'home', 'home'), ('Back', 'Back to previous …"
      ]
     },
     "metadata": {},
     "output_type": "display_data"
    },
    {
     "data": {
      "application/vnd.jupyter.widget-view+json": {
       "model_id": "1ec0cf6f199c49b7ac4271607a5a90fd",
       "version_major": 2,
       "version_minor": 0
      },
      "text/plain": [
       "Canvas(toolbar=Toolbar(toolitems=[('Home', 'Reset original view', 'home', 'home'), ('Back', 'Back to previous …"
      ]
     },
     "metadata": {},
     "output_type": "display_data"
    },
    {
     "data": {
      "application/vnd.jupyter.widget-view+json": {
       "model_id": "b3adea2887be4d5bae85e3ba36bdfc98",
       "version_major": 2,
       "version_minor": 0
      },
      "text/plain": [
       "Canvas(toolbar=Toolbar(toolitems=[('Home', 'Reset original view', 'home', 'home'), ('Back', 'Back to previous …"
      ]
     },
     "metadata": {},
     "output_type": "display_data"
    },
    {
     "data": {
      "application/vnd.jupyter.widget-view+json": {
       "model_id": "e321cd163dfc492885456f21afdfb9fb",
       "version_major": 2,
       "version_minor": 0
      },
      "text/plain": [
       "Canvas(toolbar=Toolbar(toolitems=[('Home', 'Reset original view', 'home', 'home'), ('Back', 'Back to previous …"
      ]
     },
     "metadata": {},
     "output_type": "display_data"
    },
    {
     "data": {
      "application/vnd.jupyter.widget-view+json": {
       "model_id": "fbac95be7a824cf1b4f7e265c9609377",
       "version_major": 2,
       "version_minor": 0
      },
      "text/plain": [
       "Canvas(toolbar=Toolbar(toolitems=[('Home', 'Reset original view', 'home', 'home'), ('Back', 'Back to previous …"
      ]
     },
     "metadata": {},
     "output_type": "display_data"
    },
    {
     "data": {
      "application/vnd.jupyter.widget-view+json": {
       "model_id": "6d908964d62f4d3d9b36d0b10b29f7fd",
       "version_major": 2,
       "version_minor": 0
      },
      "text/plain": [
       "Canvas(toolbar=Toolbar(toolitems=[('Home', 'Reset original view', 'home', 'home'), ('Back', 'Back to previous …"
      ]
     },
     "metadata": {},
     "output_type": "display_data"
    },
    {
     "data": {
      "application/vnd.jupyter.widget-view+json": {
       "model_id": "2e2f2c1896614f75befe79ad8e62af4c",
       "version_major": 2,
       "version_minor": 0
      },
      "text/plain": [
       "Canvas(toolbar=Toolbar(toolitems=[('Home', 'Reset original view', 'home', 'home'), ('Back', 'Back to previous …"
      ]
     },
     "metadata": {},
     "output_type": "display_data"
    },
    {
     "data": {
      "application/vnd.jupyter.widget-view+json": {
       "model_id": "8f31c206c25c4d318b9257a7a94d967a",
       "version_major": 2,
       "version_minor": 0
      },
      "text/plain": [
       "Canvas(toolbar=Toolbar(toolitems=[('Home', 'Reset original view', 'home', 'home'), ('Back', 'Back to previous …"
      ]
     },
     "metadata": {},
     "output_type": "display_data"
    },
    {
     "data": {
      "application/vnd.jupyter.widget-view+json": {
       "model_id": "7631d33258c944a0a5016c07d2703de7",
       "version_major": 2,
       "version_minor": 0
      },
      "text/plain": [
       "Canvas(toolbar=Toolbar(toolitems=[('Home', 'Reset original view', 'home', 'home'), ('Back', 'Back to previous …"
      ]
     },
     "metadata": {},
     "output_type": "display_data"
    },
    {
     "data": {
      "application/vnd.jupyter.widget-view+json": {
       "model_id": "dc0b613073614742b3aab6459f102836",
       "version_major": 2,
       "version_minor": 0
      },
      "text/plain": [
       "Canvas(toolbar=Toolbar(toolitems=[('Home', 'Reset original view', 'home', 'home'), ('Back', 'Back to previous …"
      ]
     },
     "metadata": {},
     "output_type": "display_data"
    },
    {
     "data": {
      "application/vnd.jupyter.widget-view+json": {
       "model_id": "a43dd336f34b4348b47a17ee3feb30c6",
       "version_major": 2,
       "version_minor": 0
      },
      "text/plain": [
       "Canvas(toolbar=Toolbar(toolitems=[('Home', 'Reset original view', 'home', 'home'), ('Back', 'Back to previous …"
      ]
     },
     "metadata": {},
     "output_type": "display_data"
    },
    {
     "data": {
      "application/vnd.jupyter.widget-view+json": {
       "model_id": "f7555f3706e240fe930afc536b76350c",
       "version_major": 2,
       "version_minor": 0
      },
      "text/plain": [
       "Canvas(toolbar=Toolbar(toolitems=[('Home', 'Reset original view', 'home', 'home'), ('Back', 'Back to previous …"
      ]
     },
     "metadata": {},
     "output_type": "display_data"
    },
    {
     "data": {
      "application/vnd.jupyter.widget-view+json": {
       "model_id": "791a3cc1a0bb40e798d717c2ec5217c1",
       "version_major": 2,
       "version_minor": 0
      },
      "text/plain": [
       "Canvas(toolbar=Toolbar(toolitems=[('Home', 'Reset original view', 'home', 'home'), ('Back', 'Back to previous …"
      ]
     },
     "metadata": {},
     "output_type": "display_data"
    },
    {
     "data": {
      "application/vnd.jupyter.widget-view+json": {
       "model_id": "1fa3da7448f547ccbb5ec432176e9e8b",
       "version_major": 2,
       "version_minor": 0
      },
      "text/plain": [
       "Canvas(toolbar=Toolbar(toolitems=[('Home', 'Reset original view', 'home', 'home'), ('Back', 'Back to previous …"
      ]
     },
     "metadata": {},
     "output_type": "display_data"
    },
    {
     "data": {
      "application/vnd.jupyter.widget-view+json": {
       "model_id": "b9b37d1e08ab4c338b7cee812208a1da",
       "version_major": 2,
       "version_minor": 0
      },
      "text/plain": [
       "Canvas(toolbar=Toolbar(toolitems=[('Home', 'Reset original view', 'home', 'home'), ('Back', 'Back to previous …"
      ]
     },
     "metadata": {},
     "output_type": "display_data"
    },
    {
     "data": {
      "application/vnd.jupyter.widget-view+json": {
       "model_id": "084383477ac740048c3fdec0c644f55f",
       "version_major": 2,
       "version_minor": 0
      },
      "text/plain": [
       "Canvas(toolbar=Toolbar(toolitems=[('Home', 'Reset original view', 'home', 'home'), ('Back', 'Back to previous …"
      ]
     },
     "metadata": {},
     "output_type": "display_data"
    },
    {
     "data": {
      "application/vnd.jupyter.widget-view+json": {
       "model_id": "b30ec9e60f2543b8a886261213d34fb1",
       "version_major": 2,
       "version_minor": 0
      },
      "text/plain": [
       "Canvas(toolbar=Toolbar(toolitems=[('Home', 'Reset original view', 'home', 'home'), ('Back', 'Back to previous …"
      ]
     },
     "metadata": {},
     "output_type": "display_data"
    },
    {
     "data": {
      "application/vnd.jupyter.widget-view+json": {
       "model_id": "0b43b62be9944cd69c635d8937c50c43",
       "version_major": 2,
       "version_minor": 0
      },
      "text/plain": [
       "Canvas(toolbar=Toolbar(toolitems=[('Home', 'Reset original view', 'home', 'home'), ('Back', 'Back to previous …"
      ]
     },
     "metadata": {},
     "output_type": "display_data"
    },
    {
     "data": {
      "application/vnd.jupyter.widget-view+json": {
       "model_id": "a033f7e810f044a182e8588683cb7203",
       "version_major": 2,
       "version_minor": 0
      },
      "text/plain": [
       "Canvas(toolbar=Toolbar(toolitems=[('Home', 'Reset original view', 'home', 'home'), ('Back', 'Back to previous …"
      ]
     },
     "metadata": {},
     "output_type": "display_data"
    },
    {
     "data": {
      "application/vnd.jupyter.widget-view+json": {
       "model_id": "53b3df74ac0c4821a390d12f385758b5",
       "version_major": 2,
       "version_minor": 0
      },
      "text/plain": [
       "Canvas(toolbar=Toolbar(toolitems=[('Home', 'Reset original view', 'home', 'home'), ('Back', 'Back to previous …"
      ]
     },
     "metadata": {},
     "output_type": "display_data"
    },
    {
     "data": {
      "application/vnd.jupyter.widget-view+json": {
       "model_id": "0b15553610b04b88b92de2d7ee8328e5",
       "version_major": 2,
       "version_minor": 0
      },
      "text/plain": [
       "Canvas(toolbar=Toolbar(toolitems=[('Home', 'Reset original view', 'home', 'home'), ('Back', 'Back to previous …"
      ]
     },
     "metadata": {},
     "output_type": "display_data"
    },
    {
     "data": {
      "application/vnd.jupyter.widget-view+json": {
       "model_id": "ef7fab0b321f4f34bc731579cc6abd04",
       "version_major": 2,
       "version_minor": 0
      },
      "text/plain": [
       "Canvas(toolbar=Toolbar(toolitems=[('Home', 'Reset original view', 'home', 'home'), ('Back', 'Back to previous …"
      ]
     },
     "metadata": {},
     "output_type": "display_data"
    },
    {
     "data": {
      "application/vnd.jupyter.widget-view+json": {
       "model_id": "e5d7b96b4ad843f1a57a930f2295ea16",
       "version_major": 2,
       "version_minor": 0
      },
      "text/plain": [
       "Canvas(toolbar=Toolbar(toolitems=[('Home', 'Reset original view', 'home', 'home'), ('Back', 'Back to previous …"
      ]
     },
     "metadata": {},
     "output_type": "display_data"
    },
    {
     "data": {
      "application/vnd.jupyter.widget-view+json": {
       "model_id": "11167b8e60ae4e528d54eeeda6696b53",
       "version_major": 2,
       "version_minor": 0
      },
      "text/plain": [
       "Canvas(toolbar=Toolbar(toolitems=[('Home', 'Reset original view', 'home', 'home'), ('Back', 'Back to previous …"
      ]
     },
     "metadata": {},
     "output_type": "display_data"
    },
    {
     "data": {
      "application/vnd.jupyter.widget-view+json": {
       "model_id": "de6588b12a5c465c88f4ef6b13a8f567",
       "version_major": 2,
       "version_minor": 0
      },
      "text/plain": [
       "Canvas(toolbar=Toolbar(toolitems=[('Home', 'Reset original view', 'home', 'home'), ('Back', 'Back to previous …"
      ]
     },
     "metadata": {},
     "output_type": "display_data"
    },
    {
     "data": {
      "application/vnd.jupyter.widget-view+json": {
       "model_id": "4270e43c8eb943dc85f6ce93f66e41bf",
       "version_major": 2,
       "version_minor": 0
      },
      "text/plain": [
       "Canvas(toolbar=Toolbar(toolitems=[('Home', 'Reset original view', 'home', 'home'), ('Back', 'Back to previous …"
      ]
     },
     "metadata": {},
     "output_type": "display_data"
    },
    {
     "data": {
      "application/vnd.jupyter.widget-view+json": {
       "model_id": "2b1e150ebb4d4a8cbeb223037833e4e1",
       "version_major": 2,
       "version_minor": 0
      },
      "text/plain": [
       "Canvas(toolbar=Toolbar(toolitems=[('Home', 'Reset original view', 'home', 'home'), ('Back', 'Back to previous …"
      ]
     },
     "metadata": {},
     "output_type": "display_data"
    },
    {
     "data": {
      "application/vnd.jupyter.widget-view+json": {
       "model_id": "07a4b5ed91ca47a984061485000c08ac",
       "version_major": 2,
       "version_minor": 0
      },
      "text/plain": [
       "Canvas(toolbar=Toolbar(toolitems=[('Home', 'Reset original view', 'home', 'home'), ('Back', 'Back to previous …"
      ]
     },
     "metadata": {},
     "output_type": "display_data"
    },
    {
     "data": {
      "application/vnd.jupyter.widget-view+json": {
       "model_id": "8cc710055ccf4deb9f06d14d87ab019c",
       "version_major": 2,
       "version_minor": 0
      },
      "text/plain": [
       "Canvas(toolbar=Toolbar(toolitems=[('Home', 'Reset original view', 'home', 'home'), ('Back', 'Back to previous …"
      ]
     },
     "metadata": {},
     "output_type": "display_data"
    },
    {
     "data": {
      "application/vnd.jupyter.widget-view+json": {
       "model_id": "92e8c53b3f0f4b7f9f2d46257cd735f0",
       "version_major": 2,
       "version_minor": 0
      },
      "text/plain": [
       "Canvas(toolbar=Toolbar(toolitems=[('Home', 'Reset original view', 'home', 'home'), ('Back', 'Back to previous …"
      ]
     },
     "metadata": {},
     "output_type": "display_data"
    },
    {
     "data": {
      "application/vnd.jupyter.widget-view+json": {
       "model_id": "f4c7c46e4ac143eea61c310c2c644284",
       "version_major": 2,
       "version_minor": 0
      },
      "text/plain": [
       "Canvas(toolbar=Toolbar(toolitems=[('Home', 'Reset original view', 'home', 'home'), ('Back', 'Back to previous …"
      ]
     },
     "metadata": {},
     "output_type": "display_data"
    },
    {
     "data": {
      "application/vnd.jupyter.widget-view+json": {
       "model_id": "338c944a8b874c42942430d1efffa036",
       "version_major": 2,
       "version_minor": 0
      },
      "text/plain": [
       "Canvas(toolbar=Toolbar(toolitems=[('Home', 'Reset original view', 'home', 'home'), ('Back', 'Back to previous …"
      ]
     },
     "metadata": {},
     "output_type": "display_data"
    },
    {
     "data": {
      "application/vnd.jupyter.widget-view+json": {
       "model_id": "73186a454a9b481faac62d4452f713c1",
       "version_major": 2,
       "version_minor": 0
      },
      "text/plain": [
       "Canvas(toolbar=Toolbar(toolitems=[('Home', 'Reset original view', 'home', 'home'), ('Back', 'Back to previous …"
      ]
     },
     "metadata": {},
     "output_type": "display_data"
    },
    {
     "data": {
      "application/vnd.jupyter.widget-view+json": {
       "model_id": "0cd581ab770c45c1856c5b5276d9113a",
       "version_major": 2,
       "version_minor": 0
      },
      "text/plain": [
       "Canvas(toolbar=Toolbar(toolitems=[('Home', 'Reset original view', 'home', 'home'), ('Back', 'Back to previous …"
      ]
     },
     "metadata": {},
     "output_type": "display_data"
    },
    {
     "data": {
      "application/vnd.jupyter.widget-view+json": {
       "model_id": "1e0257e369244dea96b4c783c9a17565",
       "version_major": 2,
       "version_minor": 0
      },
      "text/plain": [
       "Canvas(toolbar=Toolbar(toolitems=[('Home', 'Reset original view', 'home', 'home'), ('Back', 'Back to previous …"
      ]
     },
     "metadata": {},
     "output_type": "display_data"
    },
    {
     "data": {
      "application/vnd.jupyter.widget-view+json": {
       "model_id": "72be045978c643f6a71d9bf30c3dabad",
       "version_major": 2,
       "version_minor": 0
      },
      "text/plain": [
       "Canvas(toolbar=Toolbar(toolitems=[('Home', 'Reset original view', 'home', 'home'), ('Back', 'Back to previous …"
      ]
     },
     "metadata": {},
     "output_type": "display_data"
    },
    {
     "data": {
      "application/vnd.jupyter.widget-view+json": {
       "model_id": "7e03f8235a3d4311ad8e282825143b90",
       "version_major": 2,
       "version_minor": 0
      },
      "text/plain": [
       "Canvas(toolbar=Toolbar(toolitems=[('Home', 'Reset original view', 'home', 'home'), ('Back', 'Back to previous …"
      ]
     },
     "metadata": {},
     "output_type": "display_data"
    },
    {
     "data": {
      "application/vnd.jupyter.widget-view+json": {
       "model_id": "5d23b23e15a14d12a1104cc7c5cbd4fd",
       "version_major": 2,
       "version_minor": 0
      },
      "text/plain": [
       "Canvas(toolbar=Toolbar(toolitems=[('Home', 'Reset original view', 'home', 'home'), ('Back', 'Back to previous …"
      ]
     },
     "metadata": {},
     "output_type": "display_data"
    },
    {
     "data": {
      "application/vnd.jupyter.widget-view+json": {
       "model_id": "398c2cd5925d4c7c81e0353b1a222074",
       "version_major": 2,
       "version_minor": 0
      },
      "text/plain": [
       "Canvas(toolbar=Toolbar(toolitems=[('Home', 'Reset original view', 'home', 'home'), ('Back', 'Back to previous …"
      ]
     },
     "metadata": {},
     "output_type": "display_data"
    },
    {
     "data": {
      "application/vnd.jupyter.widget-view+json": {
       "model_id": "1187e907ff06439f938f965ea0ea4a9b",
       "version_major": 2,
       "version_minor": 0
      },
      "text/plain": [
       "Canvas(toolbar=Toolbar(toolitems=[('Home', 'Reset original view', 'home', 'home'), ('Back', 'Back to previous …"
      ]
     },
     "metadata": {},
     "output_type": "display_data"
    },
    {
     "data": {
      "application/vnd.jupyter.widget-view+json": {
       "model_id": "c774f6d153a54466a48e23d9ac56510c",
       "version_major": 2,
       "version_minor": 0
      },
      "text/plain": [
       "Canvas(toolbar=Toolbar(toolitems=[('Home', 'Reset original view', 'home', 'home'), ('Back', 'Back to previous …"
      ]
     },
     "metadata": {},
     "output_type": "display_data"
    },
    {
     "data": {
      "application/vnd.jupyter.widget-view+json": {
       "model_id": "06a57ae6c12c45a5a68c7e4b2f61d228",
       "version_major": 2,
       "version_minor": 0
      },
      "text/plain": [
       "Canvas(toolbar=Toolbar(toolitems=[('Home', 'Reset original view', 'home', 'home'), ('Back', 'Back to previous …"
      ]
     },
     "metadata": {},
     "output_type": "display_data"
    },
    {
     "data": {
      "application/vnd.jupyter.widget-view+json": {
       "model_id": "066cd30824ec49baafe1a3ba1b76cef6",
       "version_major": 2,
       "version_minor": 0
      },
      "text/plain": [
       "Canvas(toolbar=Toolbar(toolitems=[('Home', 'Reset original view', 'home', 'home'), ('Back', 'Back to previous …"
      ]
     },
     "metadata": {},
     "output_type": "display_data"
    },
    {
     "data": {
      "application/vnd.jupyter.widget-view+json": {
       "model_id": "daaf00fcf21241cf8234f5b779449a71",
       "version_major": 2,
       "version_minor": 0
      },
      "text/plain": [
       "Canvas(toolbar=Toolbar(toolitems=[('Home', 'Reset original view', 'home', 'home'), ('Back', 'Back to previous …"
      ]
     },
     "metadata": {},
     "output_type": "display_data"
    },
    {
     "data": {
      "application/vnd.jupyter.widget-view+json": {
       "model_id": "bc638a2cfc7a4e05bb0ba4db143dfaf8",
       "version_major": 2,
       "version_minor": 0
      },
      "text/plain": [
       "Canvas(toolbar=Toolbar(toolitems=[('Home', 'Reset original view', 'home', 'home'), ('Back', 'Back to previous …"
      ]
     },
     "metadata": {},
     "output_type": "display_data"
    },
    {
     "data": {
      "application/vnd.jupyter.widget-view+json": {
       "model_id": "d8f212009c32495993d826385b3ab0b1",
       "version_major": 2,
       "version_minor": 0
      },
      "text/plain": [
       "Canvas(toolbar=Toolbar(toolitems=[('Home', 'Reset original view', 'home', 'home'), ('Back', 'Back to previous …"
      ]
     },
     "metadata": {},
     "output_type": "display_data"
    },
    {
     "data": {
      "application/vnd.jupyter.widget-view+json": {
       "model_id": "f79f710e5b63478a99bcdd006ba6117b",
       "version_major": 2,
       "version_minor": 0
      },
      "text/plain": [
       "Canvas(toolbar=Toolbar(toolitems=[('Home', 'Reset original view', 'home', 'home'), ('Back', 'Back to previous …"
      ]
     },
     "metadata": {},
     "output_type": "display_data"
    },
    {
     "data": {
      "application/vnd.jupyter.widget-view+json": {
       "model_id": "dd06db7e593149728b7b5c4a90236795",
       "version_major": 2,
       "version_minor": 0
      },
      "text/plain": [
       "Canvas(toolbar=Toolbar(toolitems=[('Home', 'Reset original view', 'home', 'home'), ('Back', 'Back to previous …"
      ]
     },
     "metadata": {},
     "output_type": "display_data"
    },
    {
     "data": {
      "application/vnd.jupyter.widget-view+json": {
       "model_id": "918e8c7c6ffa4c63a45f62e811e27670",
       "version_major": 2,
       "version_minor": 0
      },
      "text/plain": [
       "Canvas(toolbar=Toolbar(toolitems=[('Home', 'Reset original view', 'home', 'home'), ('Back', 'Back to previous …"
      ]
     },
     "metadata": {},
     "output_type": "display_data"
    },
    {
     "data": {
      "application/vnd.jupyter.widget-view+json": {
       "model_id": "0c2b4d0ebf7d4c478f579bb0aedffcea",
       "version_major": 2,
       "version_minor": 0
      },
      "text/plain": [
       "Canvas(toolbar=Toolbar(toolitems=[('Home', 'Reset original view', 'home', 'home'), ('Back', 'Back to previous …"
      ]
     },
     "metadata": {},
     "output_type": "display_data"
    },
    {
     "data": {
      "application/vnd.jupyter.widget-view+json": {
       "model_id": "051a5f0ed3094e9f91c28281a63bb114",
       "version_major": 2,
       "version_minor": 0
      },
      "text/plain": [
       "Canvas(toolbar=Toolbar(toolitems=[('Home', 'Reset original view', 'home', 'home'), ('Back', 'Back to previous …"
      ]
     },
     "metadata": {},
     "output_type": "display_data"
    },
    {
     "data": {
      "application/vnd.jupyter.widget-view+json": {
       "model_id": "def96986608947458211d2f79f59baf4",
       "version_major": 2,
       "version_minor": 0
      },
      "text/plain": [
       "Canvas(toolbar=Toolbar(toolitems=[('Home', 'Reset original view', 'home', 'home'), ('Back', 'Back to previous …"
      ]
     },
     "metadata": {},
     "output_type": "display_data"
    },
    {
     "data": {
      "application/vnd.jupyter.widget-view+json": {
       "model_id": "bb8a23f925dd42d2926b6683b4b06b39",
       "version_major": 2,
       "version_minor": 0
      },
      "text/plain": [
       "Canvas(toolbar=Toolbar(toolitems=[('Home', 'Reset original view', 'home', 'home'), ('Back', 'Back to previous …"
      ]
     },
     "metadata": {},
     "output_type": "display_data"
    },
    {
     "data": {
      "application/vnd.jupyter.widget-view+json": {
       "model_id": "e4c4d49bbd5447c3b85b17c14b2b91a3",
       "version_major": 2,
       "version_minor": 0
      },
      "text/plain": [
       "Canvas(toolbar=Toolbar(toolitems=[('Home', 'Reset original view', 'home', 'home'), ('Back', 'Back to previous …"
      ]
     },
     "metadata": {},
     "output_type": "display_data"
    },
    {
     "data": {
      "application/vnd.jupyter.widget-view+json": {
       "model_id": "1bf2ba1e63ac43baac7efe3bafcbdcfa",
       "version_major": 2,
       "version_minor": 0
      },
      "text/plain": [
       "Canvas(toolbar=Toolbar(toolitems=[('Home', 'Reset original view', 'home', 'home'), ('Back', 'Back to previous …"
      ]
     },
     "metadata": {},
     "output_type": "display_data"
    },
    {
     "data": {
      "application/vnd.jupyter.widget-view+json": {
       "model_id": "5a77e0e93e6d44af95de540a9fccf39e",
       "version_major": 2,
       "version_minor": 0
      },
      "text/plain": [
       "Canvas(toolbar=Toolbar(toolitems=[('Home', 'Reset original view', 'home', 'home'), ('Back', 'Back to previous …"
      ]
     },
     "metadata": {},
     "output_type": "display_data"
    },
    {
     "data": {
      "application/vnd.jupyter.widget-view+json": {
       "model_id": "881d9b29335a48bc92aba3c00b8e499d",
       "version_major": 2,
       "version_minor": 0
      },
      "text/plain": [
       "Canvas(toolbar=Toolbar(toolitems=[('Home', 'Reset original view', 'home', 'home'), ('Back', 'Back to previous …"
      ]
     },
     "metadata": {},
     "output_type": "display_data"
    },
    {
     "data": {
      "application/vnd.jupyter.widget-view+json": {
       "model_id": "e3de09d26a4043fc82f7e9ac5b3d6e9c",
       "version_major": 2,
       "version_minor": 0
      },
      "text/plain": [
       "Canvas(toolbar=Toolbar(toolitems=[('Home', 'Reset original view', 'home', 'home'), ('Back', 'Back to previous …"
      ]
     },
     "metadata": {},
     "output_type": "display_data"
    },
    {
     "data": {
      "application/vnd.jupyter.widget-view+json": {
       "model_id": "430dd20953e0467782e2eb6876be4898",
       "version_major": 2,
       "version_minor": 0
      },
      "text/plain": [
       "Canvas(toolbar=Toolbar(toolitems=[('Home', 'Reset original view', 'home', 'home'), ('Back', 'Back to previous …"
      ]
     },
     "metadata": {},
     "output_type": "display_data"
    },
    {
     "data": {
      "application/vnd.jupyter.widget-view+json": {
       "model_id": "4681d75ada9d4a60a440e6bf438a99ee",
       "version_major": 2,
       "version_minor": 0
      },
      "text/plain": [
       "Canvas(toolbar=Toolbar(toolitems=[('Home', 'Reset original view', 'home', 'home'), ('Back', 'Back to previous …"
      ]
     },
     "metadata": {},
     "output_type": "display_data"
    },
    {
     "data": {
      "application/vnd.jupyter.widget-view+json": {
       "model_id": "5c589de0e7c542e79071a8142f45257f",
       "version_major": 2,
       "version_minor": 0
      },
      "text/plain": [
       "Canvas(toolbar=Toolbar(toolitems=[('Home', 'Reset original view', 'home', 'home'), ('Back', 'Back to previous …"
      ]
     },
     "metadata": {},
     "output_type": "display_data"
    },
    {
     "data": {
      "application/vnd.jupyter.widget-view+json": {
       "model_id": "16c40b960c054436ba4e5594dccf3d23",
       "version_major": 2,
       "version_minor": 0
      },
      "text/plain": [
       "Canvas(toolbar=Toolbar(toolitems=[('Home', 'Reset original view', 'home', 'home'), ('Back', 'Back to previous …"
      ]
     },
     "metadata": {},
     "output_type": "display_data"
    },
    {
     "data": {
      "application/vnd.jupyter.widget-view+json": {
       "model_id": "fd553b2987a54a4e81321ac7a5e41fdd",
       "version_major": 2,
       "version_minor": 0
      },
      "text/plain": [
       "Canvas(toolbar=Toolbar(toolitems=[('Home', 'Reset original view', 'home', 'home'), ('Back', 'Back to previous …"
      ]
     },
     "metadata": {},
     "output_type": "display_data"
    },
    {
     "data": {
      "application/vnd.jupyter.widget-view+json": {
       "model_id": "67b46b809255416f9a72a9378d4ca922",
       "version_major": 2,
       "version_minor": 0
      },
      "text/plain": [
       "Canvas(toolbar=Toolbar(toolitems=[('Home', 'Reset original view', 'home', 'home'), ('Back', 'Back to previous …"
      ]
     },
     "metadata": {},
     "output_type": "display_data"
    },
    {
     "data": {
      "application/vnd.jupyter.widget-view+json": {
       "model_id": "4bc2f8fac86e4ce68797eccfee70b385",
       "version_major": 2,
       "version_minor": 0
      },
      "text/plain": [
       "Canvas(toolbar=Toolbar(toolitems=[('Home', 'Reset original view', 'home', 'home'), ('Back', 'Back to previous …"
      ]
     },
     "metadata": {},
     "output_type": "display_data"
    },
    {
     "data": {
      "application/vnd.jupyter.widget-view+json": {
       "model_id": "f26fb995ae0d4ea4b749c385421be311",
       "version_major": 2,
       "version_minor": 0
      },
      "text/plain": [
       "Canvas(toolbar=Toolbar(toolitems=[('Home', 'Reset original view', 'home', 'home'), ('Back', 'Back to previous …"
      ]
     },
     "metadata": {},
     "output_type": "display_data"
    },
    {
     "data": {
      "application/vnd.jupyter.widget-view+json": {
       "model_id": "4ac064adc5764cdb93a14b5e97a7cee6",
       "version_major": 2,
       "version_minor": 0
      },
      "text/plain": [
       "Canvas(toolbar=Toolbar(toolitems=[('Home', 'Reset original view', 'home', 'home'), ('Back', 'Back to previous …"
      ]
     },
     "metadata": {},
     "output_type": "display_data"
    },
    {
     "data": {
      "application/vnd.jupyter.widget-view+json": {
       "model_id": "784a1d4bacca4306aba069c877410cc5",
       "version_major": 2,
       "version_minor": 0
      },
      "text/plain": [
       "Canvas(toolbar=Toolbar(toolitems=[('Home', 'Reset original view', 'home', 'home'), ('Back', 'Back to previous …"
      ]
     },
     "metadata": {},
     "output_type": "display_data"
    },
    {
     "data": {
      "application/vnd.jupyter.widget-view+json": {
       "model_id": "ba51f3ca7a2543178546304803650a75",
       "version_major": 2,
       "version_minor": 0
      },
      "text/plain": [
       "Canvas(toolbar=Toolbar(toolitems=[('Home', 'Reset original view', 'home', 'home'), ('Back', 'Back to previous …"
      ]
     },
     "metadata": {},
     "output_type": "display_data"
    },
    {
     "data": {
      "application/vnd.jupyter.widget-view+json": {
       "model_id": "7c5b9dd331d04e5a9fd2e2c75f720be6",
       "version_major": 2,
       "version_minor": 0
      },
      "text/plain": [
       "Canvas(toolbar=Toolbar(toolitems=[('Home', 'Reset original view', 'home', 'home'), ('Back', 'Back to previous …"
      ]
     },
     "metadata": {},
     "output_type": "display_data"
    }
   ],
   "source": [
    "# Create separate pngs then compile them into gif using `convert -delay 10 -loop 0 lyap_spider-*.png lyap_spider.gif`\n",
    "\n",
    "for r_idx, r in enumerate(np.linspace(2, 0.25, 70)):    \n",
    "    plt.close(fig)\n",
    "    fig, ax = plt.subplots(figsize=(5.5, 5))\n",
    "   \n",
    "    plot_axes(ax)\n",
    "    plot_vector_field(B, ax=ax, xmin=-1.1, xmax=1.1, ymin=-1.1, ymax=1.1, xstep=0.10, ystep=0.10, alpha=0.15)\n",
    "    plot_ellipse(ax, P, r=r)\n",
    "    plot_ring_vectors(ax, B, P, r=r)\n",
    "\n",
    "    ax.set_xlim([-1.2, 1.2])\n",
    "    ax.set_ylim([-1.2, 1.2])\n",
    "    ax.text((-0.8), (0.9), s=r\"$c=%1.2f$\" % r, color=\"k\", fontsize=10, zorder=100)\n",
    "    plt.savefig(\"figures/lyap_spider-%d.png\" % r_idx)"
   ]
  },
  {
   "cell_type": "code",
   "execution_count": null,
   "metadata": {},
   "outputs": [],
   "source": []
  }
 ],
 "metadata": {
  "kernelspec": {
   "display_name": "Python 3",
   "language": "python",
   "name": "python3"
  },
  "language_info": {
   "codemirror_mode": {
    "name": "ipython",
    "version": 3
   },
   "file_extension": ".py",
   "mimetype": "text/x-python",
   "name": "python",
   "nbconvert_exporter": "python",
   "pygments_lexer": "ipython3",
   "version": "3.9.1"
  }
 },
 "nbformat": 4,
 "nbformat_minor": 4
}
