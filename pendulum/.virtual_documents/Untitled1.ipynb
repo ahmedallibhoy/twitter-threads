import numpy as np

get_ipython().run_line_magic("config", " Completer.use_jedi = False")
get_ipython().run_line_magic("matplotlib", " widget ")
import matplotlib.pyplot as plt

from scipy.integrate import solve_ivp

from scipy.integrate


t = np.arange(0, 2 * np.pi, 0.01)

fig, ax = plt.subplots(figsize=(5, 5), dpi=150)
ax.plot(t, np.sin(t))





